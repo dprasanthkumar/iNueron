{
 "cells": [
  {
   "cell_type": "code",
   "execution_count": 1,
   "id": "fe5ce1ab",
   "metadata": {},
   "outputs": [],
   "source": [
    "# 12 November"
   ]
  },
  {
   "cell_type": "code",
   "execution_count": 6,
   "id": "a6f6e486",
   "metadata": {},
   "outputs": [],
   "source": [
    "def test1(*args): # here the * indicates we can given n number of values.\n",
    "    return args"
   ]
  },
  {
   "cell_type": "code",
   "execution_count": 7,
   "id": "d83f4360",
   "metadata": {},
   "outputs": [
    {
     "data": {
      "text/plain": [
       "(12, 12, 121, 2, [122, 'ada', 'asdad', 12])"
      ]
     },
     "execution_count": 7,
     "metadata": {},
     "output_type": "execute_result"
    }
   ],
   "source": [
    "test1(12,12,121,2,[122,'ada','asdad',12])"
   ]
  },
  {
   "cell_type": "code",
   "execution_count": 9,
   "id": "26b0338a",
   "metadata": {},
   "outputs": [],
   "source": [
    "def test2(*pra): # here the * indicates we can given n number of values.\n",
    "    return pra"
   ]
  },
  {
   "cell_type": "code",
   "execution_count": 11,
   "id": "578cee87",
   "metadata": {},
   "outputs": [
    {
     "data": {
      "text/plain": [
       "(121, 1212, 12, 121, 21, [121, 'asdad', 'sdad'])"
      ]
     },
     "execution_count": 11,
     "metadata": {},
     "output_type": "execute_result"
    }
   ],
   "source": [
    "test2(121,1212,12,121,21,[121,'asdad','sdad'])"
   ]
  },
  {
   "cell_type": "code",
   "execution_count": 12,
   "id": "381054c4",
   "metadata": {},
   "outputs": [
    {
     "name": "stdout",
     "output_type": "stream",
     "text": [
      "Dictonary \n",
      "Dictonary \n",
      "Dictonary \n",
      "Dictonary \n",
      "Dictonary \n",
      "Dictonary \n",
      "Dictonary \n",
      "Dictonary \n",
      "Dictonary \n",
      "Dictonary \n",
      "Dictonary \n",
      "Dictonary \n",
      "Dictonary \n",
      "Dictonary \n",
      "Dictonary \n",
      "Dictonary \n",
      "Dictonary \n",
      "Dictonary \n",
      "Dictonary \n",
      "Dictonary \n",
      "Dictonary \n",
      "Dictonary \n",
      "Dictonary \n",
      "Dictonary \n",
      "Dictonary \n",
      "Dictonary \n",
      "Dictonary \n",
      "Dictonary \n",
      "Dictonary \n",
      "Dictonary \n",
      "Dictonary \n",
      "Dictonary \n",
      "Dictonary \n",
      "Dictonary \n",
      "Dictonary \n",
      "Dictonary \n",
      "Dictonary \n",
      "Dictonary \n",
      "Dictonary \n",
      "Dictonary \n",
      "Dictonary \n",
      "Dictonary \n",
      "Dictonary \n",
      "Dictonary \n",
      "Dictonary \n",
      "Dictonary \n",
      "Dictonary \n",
      "Dictonary \n",
      "Dictonary \n",
      "Dictonary \n",
      "Dictonary \n",
      "Dictonary \n",
      "Dictonary \n",
      "Dictonary \n",
      "Dictonary \n",
      "Dictonary \n",
      "Dictonary \n",
      "Dictonary \n",
      "Dictonary \n",
      "Dictonary \n",
      "Dictonary \n",
      "Dictonary \n",
      "Dictonary \n",
      "Dictonary \n",
      "Dictonary \n",
      "Dictonary \n",
      "Dictonary \n",
      "Dictonary \n",
      "Dictonary \n",
      "Dictonary \n",
      "Dictonary \n",
      "Dictonary \n",
      "Dictonary \n",
      "Dictonary \n",
      "Dictonary \n",
      "Dictonary \n",
      "Dictonary \n",
      "Dictonary \n",
      "Dictonary \n",
      "Dictonary \n",
      "Dictonary \n",
      "Dictonary \n",
      "Dictonary \n",
      "Dictonary \n",
      "Dictonary \n",
      "Dictonary \n",
      "Dictonary \n",
      "Dictonary \n",
      "Dictonary \n",
      "Dictonary \n",
      "Dictonary \n",
      "Dictonary \n",
      "Dictonary \n",
      "Dictonary \n",
      "Dictonary \n",
      "Dictonary \n",
      "Dictonary \n",
      "Dictonary \n",
      "Dictonary \n",
      "Dictonary \n",
      "\n"
     ]
    }
   ],
   "source": [
    "print('Dictonary \\n' *100)"
   ]
  },
  {
   "cell_type": "code",
   "execution_count": 28,
   "id": "ef1584c7",
   "metadata": {},
   "outputs": [],
   "source": [
    "d1={'Name':\"Prasanth\" , \"Name1\":\"Kumar\",\"Name2\":\"Dasari\"}"
   ]
  },
  {
   "cell_type": "code",
   "execution_count": 29,
   "id": "99d7c6bf",
   "metadata": {},
   "outputs": [
    {
     "data": {
      "text/plain": [
       "{'Name': 'Prasanth', 'Name1': 'Kumar', 'Name2': 'Dasari'}"
      ]
     },
     "execution_count": 29,
     "metadata": {},
     "output_type": "execute_result"
    }
   ],
   "source": [
    "d1"
   ]
  },
  {
   "cell_type": "code",
   "execution_count": 30,
   "id": "13d58853",
   "metadata": {},
   "outputs": [
    {
     "data": {
      "text/plain": [
       "dict"
      ]
     },
     "execution_count": 30,
     "metadata": {},
     "output_type": "execute_result"
    }
   ],
   "source": [
    "type(d1)"
   ]
  },
  {
   "cell_type": "code",
   "execution_count": 31,
   "id": "80e2952d",
   "metadata": {},
   "outputs": [
    {
     "data": {
      "text/plain": [
       "'Prasanth'"
      ]
     },
     "execution_count": 31,
     "metadata": {},
     "output_type": "execute_result"
    }
   ],
   "source": [
    "d1['Name']"
   ]
  },
  {
   "cell_type": "code",
   "execution_count": 32,
   "id": "6c0e8722",
   "metadata": {},
   "outputs": [
    {
     "ename": "KeyError",
     "evalue": "2",
     "output_type": "error",
     "traceback": [
      "\u001b[1;31m---------------------------------------------------------------------------\u001b[0m",
      "\u001b[1;31mKeyError\u001b[0m                                  Traceback (most recent call last)",
      "Input \u001b[1;32mIn [32]\u001b[0m, in \u001b[0;36m<cell line: 1>\u001b[1;34m()\u001b[0m\n\u001b[1;32m----> 1\u001b[0m \u001b[43md1\u001b[49m\u001b[43m[\u001b[49m\u001b[38;5;241;43m2\u001b[39;49m\u001b[43m]\u001b[49m\n",
      "\u001b[1;31mKeyError\u001b[0m: 2"
     ]
    }
   ],
   "source": [
    "d1[2]"
   ]
  },
  {
   "cell_type": "code",
   "execution_count": 34,
   "id": "877947f0",
   "metadata": {},
   "outputs": [
    {
     "data": {
      "text/plain": [
       "dict_keys(['Name', 'Name1', 'Name2'])"
      ]
     },
     "execution_count": 34,
     "metadata": {},
     "output_type": "execute_result"
    }
   ],
   "source": [
    "d1.keys()"
   ]
  },
  {
   "cell_type": "code",
   "execution_count": 35,
   "id": "2554687c",
   "metadata": {},
   "outputs": [
    {
     "data": {
      "text/plain": [
       "['Name', 'Name1', 'Name2']"
      ]
     },
     "execution_count": 35,
     "metadata": {},
     "output_type": "execute_result"
    }
   ],
   "source": [
    "list(d1.keys())"
   ]
  },
  {
   "cell_type": "code",
   "execution_count": 36,
   "id": "37795518",
   "metadata": {},
   "outputs": [
    {
     "data": {
      "text/plain": [
       "['Prasanth', 'Kumar', 'Dasari']"
      ]
     },
     "execution_count": 36,
     "metadata": {},
     "output_type": "execute_result"
    }
   ],
   "source": [
    "list(d1.values())"
   ]
  },
  {
   "cell_type": "code",
   "execution_count": 42,
   "id": "c0a5eb8b",
   "metadata": {},
   "outputs": [],
   "source": [
    "#inserting new values \n",
    "d1['Mobile NUmber']=[9121361918]"
   ]
  },
  {
   "cell_type": "code",
   "execution_count": 43,
   "id": "9c6df360",
   "metadata": {},
   "outputs": [
    {
     "data": {
      "text/plain": [
       "{'Name': 'Prasanth',\n",
       " 'Name1': 'Kumar',\n",
       " 'Name2': 'Dasari',\n",
       " 'Mobile NUmber': [9121361918]}"
      ]
     },
     "execution_count": 43,
     "metadata": {},
     "output_type": "execute_result"
    }
   ],
   "source": [
    "d1"
   ]
  },
  {
   "cell_type": "code",
   "execution_count": 45,
   "id": "c117a8d5",
   "metadata": {},
   "outputs": [
    {
     "data": {
      "text/plain": [
       "'Kumar'"
      ]
     },
     "execution_count": 45,
     "metadata": {},
     "output_type": "execute_result"
    }
   ],
   "source": [
    "d1.pop('Name1')"
   ]
  },
  {
   "cell_type": "code",
   "execution_count": 46,
   "id": "c1b368c2",
   "metadata": {},
   "outputs": [
    {
     "data": {
      "text/plain": [
       "{'Name': 'Prasanth', 'Name2': 'Dasari', 'Mobile NUmber': [9121361918]}"
      ]
     },
     "execution_count": 46,
     "metadata": {},
     "output_type": "execute_result"
    }
   ],
   "source": [
    "d1"
   ]
  },
  {
   "cell_type": "code",
   "execution_count": 49,
   "id": "2a32a2ec",
   "metadata": {},
   "outputs": [],
   "source": [
    "#taking n number of key value pairs\n",
    "def test10(**kwargs):\n",
    "    return kwargs"
   ]
  },
  {
   "cell_type": "code",
   "execution_count": 66,
   "id": "795aa0dc",
   "metadata": {},
   "outputs": [
    {
     "data": {
      "text/plain": [
       "{'aad': 'sasdfdsaf', 'b': 2, 'c': 3}"
      ]
     },
     "execution_count": 66,
     "metadata": {},
     "output_type": "execute_result"
    }
   ],
   "source": [
    "test10(aad='sasdfdsaf',b=2,c=3)"
   ]
  },
  {
   "cell_type": "code",
   "execution_count": 78,
   "id": "ea17a42a",
   "metadata": {},
   "outputs": [],
   "source": [
    "def test6(fun):\n",
    "    def test7():\n",
    "        print('I was learing through ineuron')\n",
    "        fun()\n",
    "    return test7()"
   ]
  },
  {
   "cell_type": "code",
   "execution_count": 79,
   "id": "e1dc071e",
   "metadata": {},
   "outputs": [],
   "source": [
    "def test8():\n",
    "    print('My Name is Prasanth Kumar')"
   ]
  },
  {
   "cell_type": "code",
   "execution_count": 83,
   "id": "96a80b06",
   "metadata": {},
   "outputs": [
    {
     "name": "stdout",
     "output_type": "stream",
     "text": [
      "I was learing through ineuron\n",
      "My Name is Prasanth Kumar\n"
     ]
    }
   ],
   "source": [
    "test6(test8)"
   ]
  },
  {
   "cell_type": "code",
   "execution_count": 81,
   "id": "f4e405bb",
   "metadata": {},
   "outputs": [
    {
     "name": "stdout",
     "output_type": "stream",
     "text": [
      "My Name is Prasanth Kumar\n"
     ]
    }
   ],
   "source": [
    "test8()"
   ]
  },
  {
   "cell_type": "code",
   "execution_count": 82,
   "id": "554dffff",
   "metadata": {},
   "outputs": [
    {
     "name": "stdout",
     "output_type": "stream",
     "text": [
      "I was learing through ineuron\n",
      "My Name is Prasanth Kumar\n"
     ]
    }
   ],
   "source": [
    "test6(test8)"
   ]
  },
  {
   "cell_type": "code",
   "execution_count": 88,
   "id": "3d8cb5ba",
   "metadata": {},
   "outputs": [
    {
     "name": "stdout",
     "output_type": "stream",
     "text": [
      "I was learing through ineuron\n",
      "this is good platform\n"
     ]
    }
   ],
   "source": [
    "@test6\n",
    "def test9():\n",
    "    print('this is good platform')"
   ]
  },
  {
   "cell_type": "code",
   "execution_count": 89,
   "id": "b8f92ca7",
   "metadata": {},
   "outputs": [
    {
     "data": {
      "text/plain": [
       "'C:\\\\Users\\\\dpras\\\\iNueron_Python'"
      ]
     },
     "execution_count": 89,
     "metadata": {},
     "output_type": "execute_result"
    }
   ],
   "source": [
    "pwd()"
   ]
  },
  {
   "cell_type": "code",
   "execution_count": 99,
   "id": "4535f0e7",
   "metadata": {},
   "outputs": [],
   "source": [
    "def test19():\n",
    "    Print('this is a good platform')"
   ]
  },
  {
   "cell_type": "code",
   "execution_count": 100,
   "id": "c04f9df1",
   "metadata": {},
   "outputs": [],
   "source": [
    "import os\n",
    "def test10(fun):\n",
    "    def test11():\n",
    "        print(os.getcwd())\n",
    "        fun()\n",
    "    return test11()"
   ]
  },
  {
   "cell_type": "code",
   "execution_count": 103,
   "id": "9b30bb10",
   "metadata": {},
   "outputs": [
    {
     "name": "stdout",
     "output_type": "stream",
     "text": [
      "C:\\Users\\dpras\\iNueron_Python\n",
      "This is my current working directory\n"
     ]
    },
    {
     "ename": "TypeError",
     "evalue": "test19() takes 0 positional arguments but 1 was given",
     "output_type": "error",
     "traceback": [
      "\u001b[1;31m---------------------------------------------------------------------------\u001b[0m",
      "\u001b[1;31mTypeError\u001b[0m                                 Traceback (most recent call last)",
      "Input \u001b[1;32mIn [103]\u001b[0m, in \u001b[0;36m<cell line: 1>\u001b[1;34m()\u001b[0m\n\u001b[0;32m      1\u001b[0m \u001b[38;5;129;43m@test19\u001b[39;49m\n\u001b[0;32m      2\u001b[0m \u001b[38;5;129;43m@test10\u001b[39;49m\n\u001b[1;32m----> 3\u001b[0m \u001b[38;5;28;43;01mdef\u001b[39;49;00m\u001b[43m \u001b[49m\u001b[38;5;21;43mtest11\u001b[39;49m\u001b[43m(\u001b[49m\u001b[43m)\u001b[49m\u001b[43m:\u001b[49m\n\u001b[0;32m      4\u001b[0m \u001b[43m    \u001b[49m\u001b[38;5;28;43mprint\u001b[39;49m\u001b[43m(\u001b[49m\u001b[38;5;124;43m'\u001b[39;49m\u001b[38;5;124;43mThis is my current working directory\u001b[39;49m\u001b[38;5;124;43m'\u001b[39;49m\u001b[43m)\u001b[49m\n",
      "\u001b[1;31mTypeError\u001b[0m: test19() takes 0 positional arguments but 1 was given"
     ]
    }
   ],
   "source": [
    "@test19\n",
    "@test10\n",
    "def test11():\n",
    "    print('This is my current working directory')"
   ]
  },
  {
   "cell_type": "code",
   "execution_count": 120,
   "id": "d6a63a74",
   "metadata": {},
   "outputs": [
    {
     "name": "stdout",
     "output_type": "stream",
     "text": [
      "Hello\n",
      "1674136639.7911217-1674136639.7921233= 0.001001596450805664\n"
     ]
    }
   ],
   "source": [
    "import time\n",
    "start = time.time()\n",
    "print(\"Hello\")\n",
    "end = time.time()\n",
    "a=end-start\n",
    "print(f\"{start}-{end}=\",(end-start))\n",
    "#print(a)"
   ]
  },
  {
   "cell_type": "code",
   "execution_count": 140,
   "id": "c67a4147",
   "metadata": {},
   "outputs": [],
   "source": [
    "def timer(fun):\n",
    "    def timer1():\n",
    "        \"\"\"this is used to find the time difference\"\"\"\n",
    "        start = time.time()\n",
    "        fun()\n",
    "        print(\"Hello\")\n",
    "        end = time.time()\n",
    "        a=end-start\n",
    "        print(f\"{start}-{end}=\",(end-start))\n",
    "    return timer1()"
   ]
  },
  {
   "cell_type": "code",
   "execution_count": 144,
   "id": "aa83482d",
   "metadata": {},
   "outputs": [
    {
     "name": "stdout",
     "output_type": "stream",
     "text": [
      "this is used to find time difference\n",
      "Hello\n",
      "1674137520.4447494-1674137520.4457493= 0.0009999275207519531\n"
     ]
    }
   ],
   "source": [
    "@timer\n",
    "def timer2():\n",
    "    print('this is used to find time difference')"
   ]
  },
  {
   "cell_type": "code",
   "execution_count": null,
   "id": "52203b9d",
   "metadata": {},
   "outputs": [],
   "source": [
    "timer1()\n"
   ]
  },
  {
   "cell_type": "code",
   "execution_count": null,
   "id": "020b700c",
   "metadata": {},
   "outputs": [],
   "source": []
  },
  {
   "cell_type": "code",
   "execution_count": null,
   "id": "ae7dc135",
   "metadata": {},
   "outputs": [],
   "source": []
  }
 ],
 "metadata": {
  "kernelspec": {
   "display_name": "Python 3 (ipykernel)",
   "language": "python",
   "name": "python3"
  },
  "language_info": {
   "codemirror_mode": {
    "name": "ipython",
    "version": 3
   },
   "file_extension": ".py",
   "mimetype": "text/x-python",
   "name": "python",
   "nbconvert_exporter": "python",
   "pygments_lexer": "ipython3",
   "version": "3.9.12"
  }
 },
 "nbformat": 4,
 "nbformat_minor": 5
}
