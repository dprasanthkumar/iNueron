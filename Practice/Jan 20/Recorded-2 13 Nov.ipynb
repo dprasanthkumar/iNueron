{
 "cells": [
  {
   "cell_type": "code",
   "execution_count": 7,
   "id": "d98ed370",
   "metadata": {},
   "outputs": [],
   "source": [
    "def test1(fun):\n",
    "    def test2():\n",
    "        print(\"I am inside test 2\")\n",
    "        fun()\n",
    "        print(fun())\n",
    "        print(\"Function executed\")\n",
    "        return fun()\n",
    "    return test2"
   ]
  },
  {
   "cell_type": "code",
   "execution_count": 8,
   "id": "cda1b3d5",
   "metadata": {},
   "outputs": [],
   "source": [
    "@test1\n",
    "def test3():\n",
    "    print(\"this is test3\")"
   ]
  },
  {
   "cell_type": "code",
   "execution_count": 9,
   "id": "c5292f43",
   "metadata": {},
   "outputs": [
    {
     "name": "stdout",
     "output_type": "stream",
     "text": [
      "I am inside test 2\n",
      "this is test3\n",
      "this is test3\n",
      "None\n",
      "Function executed\n",
      "this is test3\n"
     ]
    }
   ],
   "source": [
    "test3()"
   ]
  },
  {
   "cell_type": "code",
   "execution_count": 10,
   "id": "9ab21c18",
   "metadata": {},
   "outputs": [],
   "source": [
    "def test1(fun):\n",
    "    def test2():\n",
    "        print(\"I am inside test 2\")\n",
    "        #fun()\n",
    "        print(fun())\n",
    "        print(\"Function executed\")\n",
    "        return fun()\n",
    "    return test2"
   ]
  },
  {
   "cell_type": "code",
   "execution_count": 11,
   "id": "5835ed2a",
   "metadata": {},
   "outputs": [],
   "source": [
    "@test1\n",
    "def test3():\n",
    "    print(\"this is test3\")"
   ]
  },
  {
   "cell_type": "code",
   "execution_count": 12,
   "id": "04de8875",
   "metadata": {},
   "outputs": [
    {
     "name": "stdout",
     "output_type": "stream",
     "text": [
      "I am inside test 2\n",
      "this is test3\n",
      "None\n",
      "Function executed\n",
      "this is test3\n"
     ]
    }
   ],
   "source": [
    "test3()"
   ]
  },
  {
   "cell_type": "code",
   "execution_count": 37,
   "id": "0a351bbb",
   "metadata": {},
   "outputs": [],
   "source": [
    "def test1(fun):\n",
    "    def test2():\n",
    "        print(\"I am inside test 2\")\n",
    "        fun() # this gives us {this is test3}\n",
    "        print(fun()) # Again here printing same function{this is test3 none}\n",
    "        print(\"Function executed\")#Prints{finction executed}\n",
    "        return fun()# this will gives the same function{this is test3}\n",
    "    return test2"
   ]
  },
  {
   "cell_type": "code",
   "execution_count": 38,
   "id": "51638891",
   "metadata": {},
   "outputs": [],
   "source": [
    "@test1\n",
    "def test3():\n",
    "    print(\"this is test3\")"
   ]
  },
  {
   "cell_type": "code",
   "execution_count": 39,
   "id": "a268c3c9",
   "metadata": {},
   "outputs": [
    {
     "name": "stdout",
     "output_type": "stream",
     "text": [
      "I am inside test 2\n",
      "this is test3\n",
      "this is test3\n",
      "None\n",
      "Function executed\n",
      "this is test3\n"
     ]
    }
   ],
   "source": [
    "test3()"
   ]
  },
  {
   "cell_type": "code",
   "execution_count": 40,
   "id": "73b3c951",
   "metadata": {},
   "outputs": [],
   "source": [
    "def test4():\n",
    "    return 5+7"
   ]
  },
  {
   "cell_type": "code",
   "execution_count": 42,
   "id": "a143c502",
   "metadata": {},
   "outputs": [
    {
     "data": {
      "text/plain": [
       "12"
      ]
     },
     "execution_count": 42,
     "metadata": {},
     "output_type": "execute_result"
    }
   ],
   "source": [
    "test4()"
   ]
  },
  {
   "cell_type": "code",
   "execution_count": 43,
   "id": "ea605b6b",
   "metadata": {},
   "outputs": [
    {
     "data": {
      "text/plain": [
       "20"
      ]
     },
     "execution_count": 43,
     "metadata": {},
     "output_type": "execute_result"
    }
   ],
   "source": [
    "test4()+8"
   ]
  },
  {
   "cell_type": "code",
   "execution_count": 87,
   "id": "b2129db0",
   "metadata": {},
   "outputs": [],
   "source": [
    "def test5(fun):\n",
    "    def test6():\n",
    "        fun()\n",
    "        print(fun())#b this is the line menctioned in the 62\n",
    "        print(\"afther  i am going to use the decorator\")\n",
    "        return fun()\n",
    "    return test6"
   ]
  },
  {
   "cell_type": "code",
   "execution_count": 88,
   "id": "540728d5",
   "metadata": {},
   "outputs": [],
   "source": [
    "@test5\n",
    "def test7():\n",
    "    return 5+7"
   ]
  },
  {
   "cell_type": "code",
   "execution_count": 89,
   "id": "f2da6be3",
   "metadata": {},
   "outputs": [
    {
     "name": "stdout",
     "output_type": "stream",
     "text": [
      "12\n",
      "afther  i am going to use the decorator\n"
     ]
    },
    {
     "data": {
      "text/plain": [
       "12"
      ]
     },
     "execution_count": 89,
     "metadata": {},
     "output_type": "execute_result"
    }
   ],
   "source": [
    "test7() # here we are not getting sum of 5+7=12\n",
    "        # to get that we need to use print statement in 56"
   ]
  },
  {
   "cell_type": "code",
   "execution_count": 90,
   "id": "1708ea49",
   "metadata": {},
   "outputs": [
    {
     "name": "stdout",
     "output_type": "stream",
     "text": [
      "12\n",
      "afther  i am going to use the decorator\n"
     ]
    },
    {
     "data": {
      "text/plain": [
       "112"
      ]
     },
     "execution_count": 90,
     "metadata": {},
     "output_type": "execute_result"
    }
   ],
   "source": [
    "test7()+100 # Here we are not able to add ,to resolve this see 63\n",
    "            # why we used return in the 74-6th line because in line number-4 \n",
    "            # we used the print function print is a none type. With none type we cannot use ase any function "
   ]
  },
  {
   "cell_type": "code",
   "execution_count": null,
   "id": "2d0dda33",
   "metadata": {},
   "outputs": [],
   "source": []
  },
  {
   "cell_type": "code",
   "execution_count": 92,
   "id": "d62d83f2",
   "metadata": {},
   "outputs": [
    {
     "name": "stdout",
     "output_type": "stream",
     "text": [
      "Lambda function \n",
      "Lambda function \n",
      "Lambda function \n",
      "Lambda function \n",
      "Lambda function \n",
      "Lambda function \n",
      "Lambda function \n",
      "Lambda function \n",
      "Lambda function \n",
      "Lambda function \n",
      "Lambda function \n",
      "Lambda function \n",
      "Lambda function \n",
      "Lambda function \n",
      "Lambda function \n",
      "Lambda function \n",
      "Lambda function \n",
      "Lambda function \n",
      "Lambda function \n",
      "Lambda function \n",
      "Lambda function \n",
      "Lambda function \n",
      "Lambda function \n",
      "Lambda function \n",
      "Lambda function \n",
      "Lambda function \n",
      "Lambda function \n",
      "Lambda function \n",
      "Lambda function \n",
      "Lambda function \n",
      "Lambda function \n",
      "Lambda function \n",
      "Lambda function \n",
      "Lambda function \n",
      "Lambda function \n",
      "Lambda function \n",
      "Lambda function \n",
      "Lambda function \n",
      "Lambda function \n",
      "Lambda function \n",
      "Lambda function \n",
      "Lambda function \n",
      "Lambda function \n",
      "Lambda function \n",
      "Lambda function \n",
      "Lambda function \n",
      "Lambda function \n",
      "Lambda function \n",
      "Lambda function \n",
      "Lambda function \n",
      "Lambda function \n",
      "Lambda function \n",
      "Lambda function \n",
      "Lambda function \n",
      "Lambda function \n",
      "Lambda function \n",
      "Lambda function \n",
      "Lambda function \n",
      "Lambda function \n",
      "Lambda function \n",
      "Lambda function \n",
      "Lambda function \n",
      "Lambda function \n",
      "Lambda function \n",
      "Lambda function \n",
      "Lambda function \n",
      "Lambda function \n",
      "Lambda function \n",
      "Lambda function \n",
      "Lambda function \n",
      "Lambda function \n",
      "Lambda function \n",
      "Lambda function \n",
      "Lambda function \n",
      "Lambda function \n",
      "Lambda function \n",
      "Lambda function \n",
      "Lambda function \n",
      "Lambda function \n",
      "Lambda function \n",
      "Lambda function \n",
      "Lambda function \n",
      "Lambda function \n",
      "Lambda function \n",
      "Lambda function \n",
      "Lambda function \n",
      "Lambda function \n",
      "Lambda function \n",
      "Lambda function \n",
      "Lambda function \n",
      "Lambda function \n",
      "Lambda function \n",
      "Lambda function \n",
      "Lambda function \n",
      "Lambda function \n",
      "Lambda function \n",
      "Lambda function \n",
      "Lambda function \n",
      "Lambda function \n",
      "Lambda function \n",
      "\n"
     ]
    }
   ],
   "source": [
    "print(\"Lambda function \\n\"*100)"
   ]
  },
  {
   "cell_type": "code",
   "execution_count": 93,
   "id": "a6cb1f8f",
   "metadata": {},
   "outputs": [
    {
     "data": {
      "text/plain": [
       "<function __main__.<lambda>(a, b)>"
      ]
     },
     "execution_count": 93,
     "metadata": {},
     "output_type": "execute_result"
    }
   ],
   "source": [
    "lambda a,b : a+b"
   ]
  },
  {
   "cell_type": "code",
   "execution_count": 94,
   "id": "088379a2",
   "metadata": {},
   "outputs": [],
   "source": [
    "d=lambda a,b : a+b"
   ]
  },
  {
   "cell_type": "code",
   "execution_count": 95,
   "id": "12564903",
   "metadata": {},
   "outputs": [
    {
     "data": {
      "text/plain": [
       "5"
      ]
     },
     "execution_count": 95,
     "metadata": {},
     "output_type": "execute_result"
    }
   ],
   "source": [
    "d(3,2)"
   ]
  },
  {
   "cell_type": "code",
   "execution_count": 96,
   "id": "f211f7bd",
   "metadata": {},
   "outputs": [],
   "source": [
    "m= lambda a,s,d,f:a+s+d+f"
   ]
  },
  {
   "cell_type": "code",
   "execution_count": 97,
   "id": "a0714afb",
   "metadata": {},
   "outputs": [
    {
     "data": {
      "text/plain": [
       "10"
      ]
     },
     "execution_count": 97,
     "metadata": {},
     "output_type": "execute_result"
    }
   ],
   "source": [
    "m(1,2,3,4)"
   ]
  },
  {
   "cell_type": "code",
   "execution_count": 98,
   "id": "4b30166f",
   "metadata": {},
   "outputs": [],
   "source": [
    "a=lambda * args:args"
   ]
  },
  {
   "cell_type": "code",
   "execution_count": 100,
   "id": "a2b731bd",
   "metadata": {},
   "outputs": [
    {
     "data": {
      "text/plain": [
       "(1, 2, 3, 4)"
      ]
     },
     "execution_count": 100,
     "metadata": {},
     "output_type": "execute_result"
    }
   ],
   "source": [
    "a(1,2,3,4)"
   ]
  },
  {
   "cell_type": "code",
   "execution_count": 101,
   "id": "1a8cb5ae",
   "metadata": {},
   "outputs": [
    {
     "name": "stdout",
     "output_type": "stream",
     "text": [
      "map function \n",
      "map function \n",
      "map function \n",
      "map function \n",
      "map function \n",
      "map function \n",
      "map function \n",
      "map function \n",
      "map function \n",
      "map function \n",
      "map function \n",
      "map function \n",
      "map function \n",
      "map function \n",
      "map function \n",
      "map function \n",
      "map function \n",
      "map function \n",
      "map function \n",
      "map function \n",
      "map function \n",
      "map function \n",
      "map function \n",
      "map function \n",
      "map function \n",
      "map function \n",
      "map function \n",
      "map function \n",
      "map function \n",
      "map function \n",
      "map function \n",
      "map function \n",
      "map function \n",
      "map function \n",
      "map function \n",
      "map function \n",
      "map function \n",
      "map function \n",
      "map function \n",
      "map function \n",
      "map function \n",
      "map function \n",
      "map function \n",
      "map function \n",
      "map function \n",
      "map function \n",
      "map function \n",
      "map function \n",
      "map function \n",
      "map function \n",
      "map function \n",
      "map function \n",
      "map function \n",
      "map function \n",
      "map function \n",
      "map function \n",
      "map function \n",
      "map function \n",
      "map function \n",
      "map function \n",
      "map function \n",
      "map function \n",
      "map function \n",
      "map function \n",
      "map function \n",
      "map function \n",
      "map function \n",
      "map function \n",
      "map function \n",
      "map function \n",
      "map function \n",
      "map function \n",
      "map function \n",
      "map function \n",
      "map function \n",
      "map function \n",
      "map function \n",
      "map function \n",
      "map function \n",
      "map function \n",
      "map function \n",
      "map function \n",
      "map function \n",
      "map function \n",
      "map function \n",
      "map function \n",
      "map function \n",
      "map function \n",
      "map function \n",
      "map function \n",
      "map function \n",
      "map function \n",
      "map function \n",
      "map function \n",
      "map function \n",
      "map function \n",
      "map function \n",
      "map function \n",
      "map function \n",
      "map function \n",
      "\n"
     ]
    }
   ],
   "source": [
    "print(\"map function \\n\"*100)"
   ]
  },
  {
   "cell_type": "code",
   "execution_count": 119,
   "id": "9e4e5c95",
   "metadata": {},
   "outputs": [
    {
     "name": "stdout",
     "output_type": "stream",
     "text": [
      "[11, 12, 13, 14, 15]\n"
     ]
    }
   ],
   "source": [
    "l=[1,2,3,4,5]\n",
    "l1=[]\n",
    "for i in l:\n",
    "    l1.append(i+10)\n",
    "print(l1)"
   ]
  },
  {
   "cell_type": "code",
   "execution_count": 120,
   "id": "60619a12",
   "metadata": {},
   "outputs": [],
   "source": [
    "# lets try using map function"
   ]
  },
  {
   "cell_type": "code",
   "execution_count": 121,
   "id": "de314d65",
   "metadata": {},
   "outputs": [],
   "source": [
    "def test10(a):\n",
    "    return a +10"
   ]
  },
  {
   "cell_type": "code",
   "execution_count": 122,
   "id": "7d595d9b",
   "metadata": {},
   "outputs": [
    {
     "data": {
      "text/plain": [
       "[11, 12, 13, 14, 15]"
      ]
     },
     "execution_count": 122,
     "metadata": {},
     "output_type": "execute_result"
    }
   ],
   "source": [
    "list(map(test10,l))"
   ]
  },
  {
   "cell_type": "code",
   "execution_count": 123,
   "id": "33891959",
   "metadata": {},
   "outputs": [
    {
     "data": {
      "text/plain": [
       "[11, 12, 13, 14, 15]"
      ]
     },
     "execution_count": 123,
     "metadata": {},
     "output_type": "execute_result"
    }
   ],
   "source": [
    "list (map(lambda a:a+10,l))"
   ]
  },
  {
   "cell_type": "code",
   "execution_count": 124,
   "id": "813ccfb5",
   "metadata": {},
   "outputs": [],
   "source": [
    "n=lambda a:a+10"
   ]
  },
  {
   "cell_type": "code",
   "execution_count": 125,
   "id": "33ce5547",
   "metadata": {},
   "outputs": [
    {
     "data": {
      "text/plain": [
       "<map at 0x1aac22ea3d0>"
      ]
     },
     "execution_count": 125,
     "metadata": {},
     "output_type": "execute_result"
    }
   ],
   "source": [
    "map(n,l)"
   ]
  },
  {
   "cell_type": "code",
   "execution_count": 126,
   "id": "09b38fc2",
   "metadata": {},
   "outputs": [
    {
     "data": {
      "text/plain": [
       "[11, 12, 13, 14, 15]"
      ]
     },
     "execution_count": 126,
     "metadata": {},
     "output_type": "execute_result"
    }
   ],
   "source": [
    "list(map(n,l))"
   ]
  },
  {
   "cell_type": "code",
   "execution_count": 128,
   "id": "9dcba0a2",
   "metadata": {},
   "outputs": [],
   "source": [
    "l=['Dasari','Prasanth','kumar']"
   ]
  },
  {
   "cell_type": "code",
   "execution_count": 132,
   "id": "41cdf750",
   "metadata": {},
   "outputs": [
    {
     "name": "stdout",
     "output_type": "stream",
     "text": [
      "['DASARI', 'PRASANTH', 'KUMAR']\n"
     ]
    }
   ],
   "source": [
    "l1=[]\n",
    "for i in l:\n",
    "    l1.append(i.upper())\n",
    "print(l1)"
   ]
  },
  {
   "cell_type": "code",
   "execution_count": 134,
   "id": "d0c1648e",
   "metadata": {},
   "outputs": [
    {
     "data": {
      "text/plain": [
       "['DASARI', 'PRASANTH', 'KUMAR']"
      ]
     },
     "execution_count": 134,
     "metadata": {},
     "output_type": "execute_result"
    }
   ],
   "source": [
    "list(map(lambda a:a.upper(),l))"
   ]
  },
  {
   "cell_type": "code",
   "execution_count": 137,
   "id": "88fa0ca8",
   "metadata": {},
   "outputs": [
    {
     "data": {
      "text/plain": [
       "['DASARI', 'PRASANTH', 'KUMAR']"
      ]
     },
     "execution_count": 137,
     "metadata": {},
     "output_type": "execute_result"
    }
   ],
   "source": [
    "list(map(str.upper,l))"
   ]
  },
  {
   "cell_type": "code",
   "execution_count": 143,
   "id": "2828265c",
   "metadata": {},
   "outputs": [
    {
     "name": "stdout",
     "output_type": "stream",
     "text": [
      "[6, 8, 5]\n"
     ]
    }
   ],
   "source": [
    "l1=[]\n",
    "for i in l:\n",
    "    l1.append(len(i))\n",
    "print(l1)"
   ]
  },
  {
   "cell_type": "code",
   "execution_count": 144,
   "id": "f7eab6aa",
   "metadata": {},
   "outputs": [
    {
     "data": {
      "text/plain": [
       "[6, 8, 5]"
      ]
     },
     "execution_count": 144,
     "metadata": {},
     "output_type": "execute_result"
    }
   ],
   "source": [
    "list(map(lambda a:len(a),l))"
   ]
  },
  {
   "cell_type": "code",
   "execution_count": 146,
   "id": "85eba922",
   "metadata": {},
   "outputs": [],
   "source": [
    "def test20(a):\n",
    "    return len(a)"
   ]
  },
  {
   "cell_type": "code",
   "execution_count": null,
   "id": "acd62004",
   "metadata": {},
   "outputs": [],
   "source": []
  },
  {
   "cell_type": "code",
   "execution_count": 192,
   "id": "f6f99fbb",
   "metadata": {},
   "outputs": [],
   "source": [
    "l=[1,2,3,4,5,6,7,8,9]"
   ]
  },
  {
   "cell_type": "code",
   "execution_count": 193,
   "id": "86447880",
   "metadata": {},
   "outputs": [
    {
     "name": "stdout",
     "output_type": "stream",
     "text": [
      "[2, 4, 6, 8]\n"
     ]
    }
   ],
   "source": [
    "l1=[]\n",
    "for i in l:\n",
    "    if i%2==0:\n",
    "        l1.append(i)\n",
    "print(l1)"
   ]
  },
  {
   "cell_type": "code",
   "execution_count": 194,
   "id": "26346208",
   "metadata": {},
   "outputs": [
    {
     "data": {
      "text/plain": [
       "[False, True, False, True, False, True, False, True, False]"
      ]
     },
     "execution_count": 194,
     "metadata": {},
     "output_type": "execute_result"
    }
   ],
   "source": [
    "list(map(lambda a:a%2==0,l))"
   ]
  },
  {
   "cell_type": "code",
   "execution_count": 201,
   "id": "a5cfb186",
   "metadata": {},
   "outputs": [],
   "source": [
    "def test21(a):\n",
    "    if a%2==0:\n",
    "        return True\n",
    "    else:\n",
    "        return False"
   ]
  },
  {
   "cell_type": "code",
   "execution_count": 202,
   "id": "53d2bc56",
   "metadata": {},
   "outputs": [
    {
     "data": {
      "text/plain": [
       "[2, 4, 6, 8]"
      ]
     },
     "execution_count": 202,
     "metadata": {},
     "output_type": "execute_result"
    }
   ],
   "source": [
    "list(filter(test21,l))"
   ]
  },
  {
   "cell_type": "code",
   "execution_count": 203,
   "id": "16d81882",
   "metadata": {},
   "outputs": [
    {
     "data": {
      "text/plain": [
       "True"
      ]
     },
     "execution_count": 203,
     "metadata": {},
     "output_type": "execute_result"
    }
   ],
   "source": [
    "test21(34234234)"
   ]
  },
  {
   "cell_type": "code",
   "execution_count": 205,
   "id": "0f4e72bb",
   "metadata": {},
   "outputs": [
    {
     "data": {
      "text/plain": [
       "False"
      ]
     },
     "execution_count": 205,
     "metadata": {},
     "output_type": "execute_result"
    }
   ],
   "source": [
    "test21(2323)"
   ]
  },
  {
   "cell_type": "code",
   "execution_count": 206,
   "id": "faa608d5",
   "metadata": {},
   "outputs": [
    {
     "data": {
      "text/plain": [
       "[1, 2, 3, 4, 5, 6, 7, 8, 9]"
      ]
     },
     "execution_count": 206,
     "metadata": {},
     "output_type": "execute_result"
    }
   ],
   "source": [
    "l"
   ]
  },
  {
   "cell_type": "code",
   "execution_count": 208,
   "id": "ae1d7c6a",
   "metadata": {},
   "outputs": [
    {
     "data": {
      "text/plain": [
       "45"
      ]
     },
     "execution_count": 208,
     "metadata": {},
     "output_type": "execute_result"
    }
   ],
   "source": [
    "sum(l)"
   ]
  },
  {
   "cell_type": "code",
   "execution_count": 210,
   "id": "b46d066c",
   "metadata": {},
   "outputs": [
    {
     "name": "stdout",
     "output_type": "stream",
     "text": [
      "reduce function \n",
      "reduce function \n",
      "reduce function \n",
      "reduce function \n",
      "reduce function \n",
      "reduce function \n",
      "reduce function \n",
      "reduce function \n",
      "reduce function \n",
      "reduce function \n",
      "reduce function \n",
      "reduce function \n",
      "reduce function \n",
      "reduce function \n",
      "reduce function \n",
      "reduce function \n",
      "reduce function \n",
      "reduce function \n",
      "reduce function \n",
      "reduce function \n",
      "\n"
     ]
    }
   ],
   "source": [
    "print(\"reduce function \\n\" *20)"
   ]
  },
  {
   "cell_type": "code",
   "execution_count": 211,
   "id": "41d5526c",
   "metadata": {},
   "outputs": [
    {
     "data": {
      "text/plain": [
       "[1, 2, 3, 4, 5, 6, 7, 8, 9]"
      ]
     },
     "execution_count": 211,
     "metadata": {},
     "output_type": "execute_result"
    }
   ],
   "source": [
    "l"
   ]
  },
  {
   "cell_type": "code",
   "execution_count": 212,
   "id": "a533d48b",
   "metadata": {},
   "outputs": [],
   "source": [
    "from functools import reduce"
   ]
  },
  {
   "cell_type": "code",
   "execution_count": 214,
   "id": "c6f49d61",
   "metadata": {},
   "outputs": [
    {
     "data": {
      "text/plain": [
       "362880"
      ]
     },
     "execution_count": 214,
     "metadata": {},
     "output_type": "execute_result"
    }
   ],
   "source": [
    "reduce(lambda a,b:a*b,l)"
   ]
  },
  {
   "cell_type": "code",
   "execution_count": 215,
   "id": "21eb0dfa",
   "metadata": {},
   "outputs": [
    {
     "ename": "TypeError",
     "evalue": "<lambda>() missing 1 required positional argument: 'c'",
     "output_type": "error",
     "traceback": [
      "\u001b[1;31m---------------------------------------------------------------------------\u001b[0m",
      "\u001b[1;31mTypeError\u001b[0m                                 Traceback (most recent call last)",
      "Input \u001b[1;32mIn [215]\u001b[0m, in \u001b[0;36m<cell line: 1>\u001b[1;34m()\u001b[0m\n\u001b[1;32m----> 1\u001b[0m \u001b[43mreduce\u001b[49m\u001b[43m(\u001b[49m\u001b[38;5;28;43;01mlambda\u001b[39;49;00m\u001b[43m \u001b[49m\u001b[43ma\u001b[49m\u001b[43m,\u001b[49m\u001b[43mb\u001b[49m\u001b[43m,\u001b[49m\u001b[43mc\u001b[49m\u001b[43m:\u001b[49m\u001b[43ma\u001b[49m\u001b[38;5;241;43m*\u001b[39;49m\u001b[43mb\u001b[49m\u001b[38;5;241;43m*\u001b[39;49m\u001b[43mc\u001b[49m\u001b[43m,\u001b[49m\u001b[43ml\u001b[49m\u001b[43m)\u001b[49m\n",
      "\u001b[1;31mTypeError\u001b[0m: <lambda>() missing 1 required positional argument: 'c'"
     ]
    }
   ],
   "source": [
    "reduce(lambda a,b,c:a*b*c,l)"
   ]
  },
  {
   "cell_type": "code",
   "execution_count": 216,
   "id": "7f4249ae",
   "metadata": {},
   "outputs": [
    {
     "data": {
      "text/plain": [
       "3"
      ]
     },
     "execution_count": 216,
     "metadata": {},
     "output_type": "execute_result"
    }
   ],
   "source": [
    "l1=[3]\n",
    "reduce(lambda a,b:a*b,l1)"
   ]
  },
  {
   "cell_type": "code",
   "execution_count": null,
   "id": "0c058ea5",
   "metadata": {},
   "outputs": [],
   "source": []
  }
 ],
 "metadata": {
  "kernelspec": {
   "display_name": "Python 3 (ipykernel)",
   "language": "python",
   "name": "python3"
  },
  "language_info": {
   "codemirror_mode": {
    "name": "ipython",
    "version": 3
   },
   "file_extension": ".py",
   "mimetype": "text/x-python",
   "name": "python",
   "nbconvert_exporter": "python",
   "pygments_lexer": "ipython3",
   "version": "3.9.12"
  }
 },
 "nbformat": 4,
 "nbformat_minor": 5
}
