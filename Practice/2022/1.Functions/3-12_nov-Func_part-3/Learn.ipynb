{
 "cells": [
  {
   "cell_type": "code",
   "execution_count": null,
   "metadata": {},
   "outputs": [],
   "source": [
    "d={'name': 'sudh',\n",
    " 'mentor': {'fsds': 'imran', 'fsda': 'anand', 'bigdata': 'shashank'},\n",
    " 'mail_id': {'imran': 'imran@ineiuron.ai',\n",
    "  'anand': 'anand@ineuron.ai',\n",
    "  'shashank': 'shashank@ineuron.ai'}}"
   ]
  },
  {
   "cell_type": "code",
   "execution_count": null,
   "metadata": {},
   "outputs": [],
   "source": []
  }
 ],
 "metadata": {
  "language_info": {
   "name": "python"
  }
 },
 "nbformat": 4,
 "nbformat_minor": 2
}
