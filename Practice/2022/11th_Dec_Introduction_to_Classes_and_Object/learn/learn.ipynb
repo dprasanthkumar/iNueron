{
 "cells": [
  {
   "cell_type": "code",
   "execution_count": 1,
   "metadata": {},
   "outputs": [
    {
     "name": "stderr",
     "output_type": "stream",
     "text": [
      "__main__ - WARNING -this is a warning\n",
      "__main__ - ERROR -this is an error\n"
     ]
    }
   ],
   "source": [
    "import logging\n",
    "\n",
    "#create a custom logger\n",
    "logger=logging.getLogger(__name__)\n",
    "\n",
    "#create handler\n",
    "c_handler=logging.StreamHandler() # what is the use of stream handler\n",
    "f_handler=logging.FileHandler('abc.log')\n",
    "c_handler.setLevel(logging.WARNING)\n",
    "f_handler.setLevel(logging.ERROR)\n",
    "\n",
    "#create formatter and add it ot handler\n",
    "\n",
    "c_format=logging.Formatter('%(name)s - %(levelname)s -%(message)s')\n",
    "f_format=logging.Formatter('%(asctime)s -%(name)s - %(levelname)s -%(message)s')\n",
    "c_handler.setFormatter(c_format)\n",
    "f_handler.setFormatter(f_format)\n",
    "\n",
    "# add handler to the logger\n",
    "logger.addHandler(c_handler)\n",
    "logger.addHandler(f_handler)\n",
    "\n",
    "logger.warning('this is a warning')\n",
    "logger.error('this is an error')"
   ]
  },
  {
   "cell_type": "code",
   "execution_count": 7,
   "metadata": {},
   "outputs": [
    {
     "name": "stderr",
     "output_type": "stream",
     "text": [
      "unsupported operand type(s) for +: 'int' and 'str'\n",
      "2023-12-30 00:46:39,636 : __main__ :unsupported operand type(s) for +: 'int' and 'str'\n",
      "2023-12-30 00:46:39,636 : __main__ :unsupported operand type(s) for +: 'int' and 'str'\n",
      "2023-12-30 00:46:39,636 : __main__ :unsupported operand type(s) for +: 'int' and 'str'\n",
      "2023-12-30 00:46:39,636 : __main__ :unsupported operand type(s) for +: 'int' and 'str'\n"
     ]
    },
    {
     "name": "stdout",
     "output_type": "stream",
     "text": [
      "None\n"
     ]
    }
   ],
   "source": [
    "import logging\n",
    "\n",
    "logger=logging.getLogger(__name__)\n",
    "\n",
    "handler=logging.StreamHandler()\n",
    "filehandler=logging.FileHandler('sum.log')\n",
    "\n",
    "formatter=logging.Formatter('%(asctime)s : %(name)s :%(message)s')\n",
    "\n",
    "handler.setFormatter(formatter)\n",
    "\n",
    "logger.addHandler(handler)\n",
    "logger.addHandler(filehandler)\n",
    "logger.setLevel(logging.INFO)\n",
    "\n",
    "def sum(a,b):\n",
    "    try:\n",
    "        logger.info(a+b)\n",
    "        c=a+b\n",
    "        return c\n",
    "    except Exception as e:\n",
    "        logger.info(e)\n",
    "\n",
    "print(sum(1,'re'))\n"
   ]
  },
  {
   "cell_type": "code",
   "execution_count": 8,
   "metadata": {},
   "outputs": [
    {
     "name": "stderr",
     "output_type": "stream",
     "text": [
      "1\n",
      "2023-12-30 00:46:45,455 : __main__ :1\n",
      "2023-12-30 00:46:45,455 : __main__ :1\n",
      "2023-12-30 00:46:45,455 : __main__ :1\n",
      "2023-12-30 00:46:45,455 : __main__ :1\n",
      "2023-12-30 00:46:45,455 : __main__ :1\n"
     ]
    },
    {
     "name": "stdout",
     "output_type": "stream",
     "text": [
      "1\n"
     ]
    }
   ],
   "source": [
    "import logging\n",
    "\n",
    "logger=logging.getLogger(__name__)\n",
    "\n",
    "handler=logging.StreamHandler()\n",
    "#filehandler=logging.FileHandler('sum.log')\n",
    "\n",
    "formatter=logging.Formatter('%(asctime)s : %(name)s :%(message)s')\n",
    "\n",
    "handler.setFormatter(formatter)\n",
    "\n",
    "logger.addHandler(handler)\n",
    "#logger.addHandler(filehandler)\n",
    "logger.setLevel(logging.INFO)\n",
    "\n",
    "def minus(a,b):\n",
    "    try:\n",
    "        logger.info(a-b)\n",
    "        c=a-b\n",
    "        return c\n",
    "    except Exception as e:\n",
    "        logger.info(e)\n",
    "\n",
    "print(minus(2,1))\n"
   ]
  },
  {
   "cell_type": "markdown",
   "metadata": {},
   "source": [
    "# OOPS"
   ]
  },
  {
   "cell_type": "markdown",
   "metadata": {},
   "source": [
    "- class : is a bluprint or code temlate for object creation \n",
    "- object : bject is instance of class\n",
    "- Properties of object --> attribute, instance and vriable\n",
    "- functionality of object ---> methoods/function()"
   ]
  },
  {
   "cell_type": "code",
   "execution_count": 1,
   "metadata": {},
   "outputs": [],
   "source": [
    "class DP:\n",
    "    pass"
   ]
  },
  {
   "cell_type": "code",
   "execution_count": 7,
   "metadata": {},
   "outputs": [],
   "source": [
    "n=DP()"
   ]
  },
  {
   "cell_type": "code",
   "execution_count": 8,
   "metadata": {},
   "outputs": [
    {
     "name": "stdout",
     "output_type": "stream",
     "text": [
      "<class '__main__.DP'>\n"
     ]
    }
   ],
   "source": [
    "print(type(n))"
   ]
  },
  {
   "cell_type": "code",
   "execution_count": 22,
   "metadata": {},
   "outputs": [],
   "source": [
    "# self is associated with perticulat object\n",
    "class Robot:\n",
    "    def introduce_self(self):\n",
    "        print(f'my Name is {self.name}')"
   ]
  },
  {
   "cell_type": "code",
   "execution_count": 23,
   "metadata": {},
   "outputs": [],
   "source": [
    "r1=Robot()"
   ]
  },
  {
   "cell_type": "code",
   "execution_count": 24,
   "metadata": {},
   "outputs": [],
   "source": [
    "r1.name='Prasanth'"
   ]
  },
  {
   "cell_type": "code",
   "execution_count": 25,
   "metadata": {},
   "outputs": [
    {
     "name": "stdout",
     "output_type": "stream",
     "text": [
      "my Name is Prasanth\n"
     ]
    }
   ],
   "source": [
    "r1.introduce_self()"
   ]
  },
  {
   "cell_type": "code",
   "execution_count": 26,
   "metadata": {},
   "outputs": [
    {
     "data": {
      "text/plain": [
       "['__class__',\n",
       " '__delattr__',\n",
       " '__dict__',\n",
       " '__dir__',\n",
       " '__doc__',\n",
       " '__eq__',\n",
       " '__format__',\n",
       " '__ge__',\n",
       " '__getattribute__',\n",
       " '__gt__',\n",
       " '__hash__',\n",
       " '__init__',\n",
       " '__init_subclass__',\n",
       " '__le__',\n",
       " '__lt__',\n",
       " '__module__',\n",
       " '__ne__',\n",
       " '__new__',\n",
       " '__reduce__',\n",
       " '__reduce_ex__',\n",
       " '__repr__',\n",
       " '__setattr__',\n",
       " '__sizeof__',\n",
       " '__str__',\n",
       " '__subclasshook__',\n",
       " '__weakref__',\n",
       " 'introduce_self',\n",
       " 'name']"
      ]
     },
     "execution_count": 26,
     "metadata": {},
     "output_type": "execute_result"
    }
   ],
   "source": [
    "dir(r1)"
   ]
  },
  {
   "cell_type": "code",
   "execution_count": 40,
   "metadata": {},
   "outputs": [],
   "source": [
    "class Robot:\n",
    "    def __init__(self,name,colour,weight):\n",
    "        self.name=name\n",
    "        self.colour=colour\n",
    "        self.weight=weight\n",
    "\n",
    "    def introduce_selff():\n",
    "        print(f'my Name is {self.name}')"
   ]
  },
  {
   "cell_type": "code",
   "execution_count": 41,
   "metadata": {},
   "outputs": [],
   "source": [
    "r1=Robot('Prasanth','red',30)"
   ]
  },
  {
   "cell_type": "code",
   "execution_count": 42,
   "metadata": {},
   "outputs": [],
   "source": [
    "r2=Robot('Kumar','Greeen',45)"
   ]
  },
  {
   "cell_type": "code",
   "execution_count": null,
   "metadata": {},
   "outputs": [],
   "source": [
    "r2."
   ]
  },
  {
   "cell_type": "code",
   "execution_count": 43,
   "metadata": {},
   "outputs": [
    {
     "name": "stdout",
     "output_type": "stream",
     "text": [
      "<__main__.Robot object at 0x000001FEF0F99F00>\n"
     ]
    }
   ],
   "source": [
    "print(r1)"
   ]
  },
  {
   "cell_type": "code",
   "execution_count": 44,
   "metadata": {},
   "outputs": [
    {
     "data": {
      "text/plain": [
       "'red'"
      ]
     },
     "execution_count": 44,
     "metadata": {},
     "output_type": "execute_result"
    }
   ],
   "source": [
    "r1.colour"
   ]
  },
  {
   "cell_type": "code",
   "execution_count": 49,
   "metadata": {},
   "outputs": [
    {
     "ename": "TypeError",
     "evalue": "Robot.introduce_selff() takes 0 positional arguments but 1 was given",
     "output_type": "error",
     "traceback": [
      "\u001b[1;31m---------------------------------------------------------------------------\u001b[0m",
      "\u001b[1;31mTypeError\u001b[0m                                 Traceback (most recent call last)",
      "Input \u001b[1;32mIn [49]\u001b[0m, in \u001b[0;36m<cell line: 1>\u001b[1;34m()\u001b[0m\n\u001b[1;32m----> 1\u001b[0m \u001b[43mr1\u001b[49m\u001b[38;5;241;43m.\u001b[39;49m\u001b[43mintroduce_selff\u001b[49m\u001b[43m(\u001b[49m\u001b[43m)\u001b[49m\n",
      "\u001b[1;31mTypeError\u001b[0m: Robot.introduce_selff() takes 0 positional arguments but 1 was given"
     ]
    }
   ],
   "source": [
    "r1.introduce_selff()"
   ]
  },
  {
   "cell_type": "code",
   "execution_count": 46,
   "metadata": {},
   "outputs": [
    {
     "ename": "AttributeError",
     "evalue": "'Robot' object has no attribute 'introduce_self'",
     "output_type": "error",
     "traceback": [
      "\u001b[1;31m---------------------------------------------------------------------------\u001b[0m",
      "\u001b[1;31mAttributeError\u001b[0m                            Traceback (most recent call last)",
      "Input \u001b[1;32mIn [46]\u001b[0m, in \u001b[0;36m<cell line: 1>\u001b[1;34m()\u001b[0m\n\u001b[1;32m----> 1\u001b[0m \u001b[43mr2\u001b[49m\u001b[38;5;241;43m.\u001b[39;49m\u001b[43mintroduce_self\u001b[49m()\n",
      "\u001b[1;31mAttributeError\u001b[0m: 'Robot' object has no attribute 'introduce_self'"
     ]
    }
   ],
   "source": [
    "r2.introduce_self()"
   ]
  },
  {
   "cell_type": "code",
   "execution_count": 39,
   "metadata": {},
   "outputs": [
    {
     "ename": "TypeError",
     "evalue": "Robot.introduce_self() takes 0 positional arguments but 1 was given",
     "output_type": "error",
     "traceback": [
      "\u001b[1;31m---------------------------------------------------------------------------\u001b[0m",
      "\u001b[1;31mTypeError\u001b[0m                                 Traceback (most recent call last)",
      "Input \u001b[1;32mIn [39]\u001b[0m, in \u001b[0;36m<cell line: 1>\u001b[1;34m()\u001b[0m\n\u001b[1;32m----> 1\u001b[0m \u001b[43mr2\u001b[49m\u001b[38;5;241;43m.\u001b[39;49m\u001b[43mintroduce_self\u001b[49m\u001b[43m(\u001b[49m\u001b[43m)\u001b[49m\n",
      "\u001b[1;31mTypeError\u001b[0m: Robot.introduce_self() takes 0 positional arguments but 1 was given"
     ]
    }
   ],
   "source": [
    "r2.introduce_self()"
   ]
  },
  {
   "cell_type": "code",
   "execution_count": 59,
   "metadata": {},
   "outputs": [],
   "source": [
    "class Person:\n",
    "\n",
    "    def __init__(self,name,gender,profession):\n",
    "        self.name=name\n",
    "        self.gender=gender\n",
    "        self.profession=profession\n",
    "\n",
    "\n",
    "\n",
    "    def show(self):\n",
    "        print(f'name {self.name} gender {self.gender} profession  {self.profession}')\n",
    "\n",
    "\n",
    "    def work(self):\n",
    "        print(f'{self.name} working as a engineer')"
   ]
  },
  {
   "cell_type": "code",
   "execution_count": 60,
   "metadata": {},
   "outputs": [],
   "source": [
    "o1=Person('Prasanth','Male','SE')"
   ]
  },
  {
   "cell_type": "code",
   "execution_count": 61,
   "metadata": {},
   "outputs": [
    {
     "name": "stdout",
     "output_type": "stream",
     "text": [
      "name Prasanth gender Male profession  SE\n"
     ]
    }
   ],
   "source": [
    "o1.show()"
   ]
  },
  {
   "cell_type": "code",
   "execution_count": 62,
   "metadata": {},
   "outputs": [
    {
     "name": "stdout",
     "output_type": "stream",
     "text": [
      "Prasanth working as a engineer\n"
     ]
    }
   ],
   "source": [
    "o1.work()"
   ]
  },
  {
   "cell_type": "code",
   "execution_count": 63,
   "metadata": {},
   "outputs": [],
   "source": [
    "class BankAccount:\n",
    "    def __init__(self,account_number, name, balance):\n",
    "        self.account_number = account_number\n",
    "        self.name = name\n",
    "        self.balance = balance\n",
    "   \n",
    "    def deposit(self,d_amount):\n",
    "        self.d_amount = d_amount\n",
    "        self.balance += self.d_amount\n",
    "        print(self.d_amount, ' is credited into your bank account')\n",
    "        print(f'your current balance is {self.balance}')\n",
    "\n",
    "    def withdraw(self,w_amount):\n",
    "        self.w_amount = w_amount\n",
    "        self.balance -= self.w_amount\n",
    "        print(self.w_amount, ' is debited into your bank account')\n",
    "        print(f'your current balance is {self.balance}')\n",
    "   \n",
    "    def account_details(self):\n",
    "        print(f'Your name is {self.name}')\n",
    "       \n",
    "        print(f'Your account number is {self.account_number}')\n",
    "        print(f'Your balance is {self.balance}')"
   ]
  },
  {
   "cell_type": "code",
   "execution_count": 65,
   "metadata": {},
   "outputs": [],
   "source": [
    "b=BankAccount(121313,'Prasanth',123)"
   ]
  },
  {
   "cell_type": "code",
   "execution_count": 67,
   "metadata": {},
   "outputs": [
    {
     "name": "stdout",
     "output_type": "stream",
     "text": [
      "5000  is credited into your bank account\n",
      "your current balance is 5123\n"
     ]
    }
   ],
   "source": [
    "b.deposit(5000)"
   ]
  },
  {
   "cell_type": "code",
   "execution_count": 68,
   "metadata": {},
   "outputs": [
    {
     "name": "stdout",
     "output_type": "stream",
     "text": [
      "2000  is debited into your bank account\n",
      "your current balance is 3123\n"
     ]
    }
   ],
   "source": [
    "b.withdraw(2000)"
   ]
  },
  {
   "cell_type": "code",
   "execution_count": 69,
   "metadata": {},
   "outputs": [
    {
     "data": {
      "text/plain": [
       "<bound method BankAccount.account_details of <__main__.BankAccount object at 0x000001FEEFE19C00>>"
      ]
     },
     "execution_count": 69,
     "metadata": {},
     "output_type": "execute_result"
    }
   ],
   "source": [
    "b.account_details"
   ]
  },
  {
   "cell_type": "code",
   "execution_count": 70,
   "metadata": {},
   "outputs": [
    {
     "name": "stdout",
     "output_type": "stream",
     "text": [
      "Your name is Prasanth\n",
      "Your account number is 121313\n",
      "Your balance is 3123\n"
     ]
    }
   ],
   "source": [
    "b.account_details()"
   ]
  },
  {
   "cell_type": "code",
   "execution_count": 95,
   "metadata": {},
   "outputs": [],
   "source": [
    "class EntireCart:\n",
    "    def __init__(self,cost_of_dress:int,vegitables:int,groceries:int,snacks:int):\n",
    "        self.cost_of_dress=cost_of_dress\n",
    "        self.vegitables=vegitables\n",
    "        self.groceries=groceries\n",
    "        self.snacks=snacks\n",
    "\n",
    "    def vegitable_cart(self,value : int):\n",
    "        self.value=value\n",
    "        self.vegitables +=self.value\n",
    "        print(f'present vegitable cart value is:{self.vegitables}')"
   ]
  },
  {
   "cell_type": "code",
   "execution_count": 96,
   "metadata": {},
   "outputs": [],
   "source": [
    "e=EntireCart(0,200,0,0)"
   ]
  },
  {
   "cell_type": "code",
   "execution_count": 97,
   "metadata": {},
   "outputs": [
    {
     "name": "stdout",
     "output_type": "stream",
     "text": [
      "present vegitable cart value is:200\n"
     ]
    }
   ],
   "source": [
    "e.vegitable_cart(0)"
   ]
  },
  {
   "cell_type": "code",
   "execution_count": 98,
   "metadata": {},
   "outputs": [
    {
     "name": "stdout",
     "output_type": "stream",
     "text": [
      "present vegitable cart value is:300\n"
     ]
    }
   ],
   "source": [
    "e.vegitable_cart(100)"
   ]
  },
  {
   "cell_type": "code",
   "execution_count": 99,
   "metadata": {},
   "outputs": [
    {
     "name": "stdout",
     "output_type": "stream",
     "text": [
      "present vegitable cart value is:500\n"
     ]
    }
   ],
   "source": [
    "e.vegitable_cart(200)"
   ]
  },
  {
   "cell_type": "code",
   "execution_count": null,
   "metadata": {},
   "outputs": [],
   "source": []
  },
  {
   "cell_type": "code",
   "execution_count": null,
   "metadata": {},
   "outputs": [],
   "source": []
  },
  {
   "cell_type": "code",
   "execution_count": null,
   "metadata": {},
   "outputs": [],
   "source": []
  },
  {
   "cell_type": "code",
   "execution_count": null,
   "metadata": {},
   "outputs": [],
   "source": []
  },
  {
   "cell_type": "code",
   "execution_count": 85,
   "metadata": {},
   "outputs": [
    {
     "ename": "SyntaxError",
     "evalue": "invalid syntax (2561114682.py, line 1)",
     "output_type": "error",
     "traceback": [
      "\u001b[1;36m  Input \u001b[1;32mIn [85]\u001b[1;36m\u001b[0m\n\u001b[1;33m    def sum(int a,int b):\u001b[0m\n\u001b[1;37m                ^\u001b[0m\n\u001b[1;31mSyntaxError\u001b[0m\u001b[1;31m:\u001b[0m invalid syntax\n"
     ]
    }
   ],
   "source": [
    "def sum(int a,int b):\n",
    "    return a+b"
   ]
  },
  {
   "cell_type": "code",
   "execution_count": null,
   "metadata": {},
   "outputs": [],
   "source": []
  }
 ],
 "metadata": {
  "kernelspec": {
   "display_name": "Python 3",
   "language": "python",
   "name": "python3"
  },
  "language_info": {
   "codemirror_mode": {
    "name": "ipython",
    "version": 3
   },
   "file_extension": ".py",
   "mimetype": "text/x-python",
   "name": "python",
   "nbconvert_exporter": "python",
   "pygments_lexer": "ipython3",
   "version": "3.10.4"
  }
 },
 "nbformat": 4,
 "nbformat_minor": 2
}
