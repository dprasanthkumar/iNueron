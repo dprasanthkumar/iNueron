{
 "cells": [
  {
   "cell_type": "code",
   "execution_count": 1,
   "metadata": {},
   "outputs": [
    {
     "name": "stderr",
     "output_type": "stream",
     "text": [
      "__main__ - WARNING -this is a warning\n",
      "__main__ - ERROR -this is an error\n"
     ]
    }
   ],
   "source": [
    "import logging\n",
    "\n",
    "#create a custom logger\n",
    "logger=logging.getLogger(__name__)\n",
    "\n",
    "#create handler\n",
    "c_handler=logging.StreamHandler() # what is the use of stream handler\n",
    "f_handler=logging.FileHandler('abc.log')\n",
    "c_handler.setLevel(logging.WARNING)\n",
    "f_handler.setLevel(logging.ERROR)\n",
    "\n",
    "#create formatter and add it ot handler\n",
    "\n",
    "c_format=logging.Formatter('%(name)s - %(levelname)s -%(message)s')\n",
    "f_format=logging.Formatter('%(asctime)s -%(name)s - %(levelname)s -%(message)s')\n",
    "c_handler.setFormatter(c_format)\n",
    "f_handler.setFormatter(f_format)\n",
    "\n",
    "# add handler to the logger\n",
    "logger.addHandler(c_handler)\n",
    "logger.addHandler(f_handler)\n",
    "\n",
    "logger.warning('this is a warning')\n",
    "logger.error('this is an error')"
   ]
  },
  {
   "cell_type": "code",
   "execution_count": 7,
   "metadata": {},
   "outputs": [
    {
     "name": "stderr",
     "output_type": "stream",
     "text": [
      "unsupported operand type(s) for +: 'int' and 'str'\n",
      "2023-12-30 00:46:39,636 : __main__ :unsupported operand type(s) for +: 'int' and 'str'\n",
      "2023-12-30 00:46:39,636 : __main__ :unsupported operand type(s) for +: 'int' and 'str'\n",
      "2023-12-30 00:46:39,636 : __main__ :unsupported operand type(s) for +: 'int' and 'str'\n",
      "2023-12-30 00:46:39,636 : __main__ :unsupported operand type(s) for +: 'int' and 'str'\n"
     ]
    },
    {
     "name": "stdout",
     "output_type": "stream",
     "text": [
      "None\n"
     ]
    }
   ],
   "source": [
    "import logging\n",
    "\n",
    "logger=logging.getLogger(__name__)\n",
    "\n",
    "handler=logging.StreamHandler()\n",
    "filehandler=logging.FileHandler('sum.log')\n",
    "\n",
    "formatter=logging.Formatter('%(asctime)s : %(name)s :%(message)s')\n",
    "\n",
    "handler.setFormatter(formatter)\n",
    "\n",
    "logger.addHandler(handler)\n",
    "logger.addHandler(filehandler)\n",
    "logger.setLevel(logging.INFO)\n",
    "\n",
    "def sum(a,b):\n",
    "    try:\n",
    "        logger.info(a+b)\n",
    "        c=a+b\n",
    "        return c\n",
    "    except Exception as e:\n",
    "        logger.info(e)\n",
    "\n",
    "print(sum(1,'re'))\n"
   ]
  },
  {
   "cell_type": "code",
   "execution_count": 8,
   "metadata": {},
   "outputs": [
    {
     "name": "stderr",
     "output_type": "stream",
     "text": [
      "1\n",
      "2023-12-30 00:46:45,455 : __main__ :1\n",
      "2023-12-30 00:46:45,455 : __main__ :1\n",
      "2023-12-30 00:46:45,455 : __main__ :1\n",
      "2023-12-30 00:46:45,455 : __main__ :1\n",
      "2023-12-30 00:46:45,455 : __main__ :1\n"
     ]
    },
    {
     "name": "stdout",
     "output_type": "stream",
     "text": [
      "1\n"
     ]
    }
   ],
   "source": [
    "import logging\n",
    "\n",
    "logger=logging.getLogger(__name__)\n",
    "\n",
    "handler=logging.StreamHandler()\n",
    "#filehandler=logging.FileHandler('sum.log')\n",
    "\n",
    "formatter=logging.Formatter('%(asctime)s : %(name)s :%(message)s')\n",
    "\n",
    "handler.setFormatter(formatter)\n",
    "\n",
    "logger.addHandler(handler)\n",
    "#logger.addHandler(filehandler)\n",
    "logger.setLevel(logging.INFO)\n",
    "\n",
    "def minus(a,b):\n",
    "    try:\n",
    "        logger.info(a-b)\n",
    "        c=a-b\n",
    "        return c\n",
    "    except Exception as e:\n",
    "        logger.info(e)\n",
    "\n",
    "print(minus(2,1))\n"
   ]
  },
  {
   "cell_type": "code",
   "execution_count": null,
   "metadata": {},
   "outputs": [],
   "source": []
  }
 ],
 "metadata": {
  "kernelspec": {
   "display_name": "Python 3",
   "language": "python",
   "name": "python3"
  },
  "language_info": {
   "codemirror_mode": {
    "name": "ipython",
    "version": 3
   },
   "file_extension": ".py",
   "mimetype": "text/x-python",
   "name": "python",
   "nbconvert_exporter": "python",
   "pygments_lexer": "ipython3",
   "version": "3.10.4"
  }
 },
 "nbformat": 4,
 "nbformat_minor": 2
}
