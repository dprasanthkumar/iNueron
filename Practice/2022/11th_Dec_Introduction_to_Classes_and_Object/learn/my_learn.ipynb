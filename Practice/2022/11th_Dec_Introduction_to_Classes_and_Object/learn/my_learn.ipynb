{
 "cells": [
  {
   "cell_type": "code",
   "execution_count": 16,
   "metadata": {},
   "outputs": [],
   "source": [
    "import logging\n",
    "#create a custom logger\n",
    "logger=logging.getLogger(__name__)\n",
    "\n",
    "#create handler\n",
    "f_handler=logging.FileHandler('result1.log')\n",
    "f_handler.setLevel(logging.DEBUG)\n",
    "\n",
    "#create formatter and add it ot handler\n",
    "\n",
    "f_format=logging.Formatter('%(asctime)s -%(name)s - %(levelname)s -%(message)s')\n",
    "f_handler.setFormatter(f_format)\n",
    "\n",
    "# add handler to the logger\n",
    "logger.addHandler(f_handler)\n",
    "\n",
    "try:\n",
    "  dresses_total_cart=int(input(\"enter the dress bill:\"))\n",
    "\n",
    "  if dresses_total_cart >= 5000:\n",
    "    Discount=1500\n",
    "    logger.debug(f\"you will get 1500 discount for dresses then the remaining balnce is: {dresses_total_cart-Discount} \")\n",
    "  if dresses_total_cart >= 3000:\n",
    "      Discount=500\n",
    "      logger.debug(f\"you will get 500 discount for dresses then the remaining balance is: {dresses_total_cart-Discount} \")\n",
    "  else:\n",
    "      logger.debug(\"you will get carry bag\")\n",
    "  groceries_total_cart=int(input(\"enter the groceries bill: \"))\n",
    "  if groceries_total_cart >= 1000:\n",
    "    Discount=groceries_total_cart*10/100\n",
    "    logger.debug(f\"you will get 10% Discount on groceries:{groceries_total_cart-Discount}\")\n",
    "    if dresses_total_cart+groceries_total_cart>=6000:\n",
    "        logger.error(\"you will get coupon code woth of 2000\")\n",
    "  else:\n",
    "    logger.debug(\"no discount\")\n",
    "except Exception as e:\n",
    "   print (e)"
   ]
  },
  {
   "cell_type": "code",
   "execution_count": null,
   "metadata": {},
   "outputs": [],
   "source": []
  }
 ],
 "metadata": {
  "kernelspec": {
   "display_name": "Python 3",
   "language": "python",
   "name": "python3"
  },
  "language_info": {
   "codemirror_mode": {
    "name": "ipython",
    "version": 3
   },
   "file_extension": ".py",
   "mimetype": "text/x-python",
   "name": "python",
   "nbconvert_exporter": "python",
   "pygments_lexer": "ipython3",
   "version": "3.10.4"
  }
 },
 "nbformat": 4,
 "nbformat_minor": 2
}
