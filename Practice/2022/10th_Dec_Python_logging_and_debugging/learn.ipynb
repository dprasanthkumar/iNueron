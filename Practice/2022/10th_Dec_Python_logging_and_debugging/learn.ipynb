{
 "cells": [
  {
   "cell_type": "markdown",
   "metadata": {},
   "source": [
    "# Logging\n",
    "**Logging help us to track and monitor the application**\n",
    "- Log is critical part of sysytem documentation about runtime status of application."
   ]
  },
  {
   "cell_type": "code",
   "execution_count": 2,
   "metadata": {},
   "outputs": [
    {
     "name": "stdout",
     "output_type": "stream",
     "text": [
      "13\n",
      "30\n",
      "7\n"
     ]
    }
   ],
   "source": [
    "def add(x,y):\n",
    "    return x+y\n",
    "def product(x,y):\n",
    "    return x*y\n",
    "def susstarct(x,y):\n",
    "    return x-y\n",
    "\n",
    "num_1=10\n",
    "num_2=3\n",
    "\n",
    "add_result=add(num_1,num_2)\n",
    "print(add_result)\n",
    "product_result=product(num_1,num_2)\n",
    "print(product_result)\n",
    "susstarct_result=susstarct(num_1,num_2)\n",
    "print(susstarct_result)"
   ]
  },
  {
   "cell_type": "code",
   "execution_count": 4,
   "metadata": {},
   "outputs": [],
   "source": [
    "import logging\n",
    "logging.basicConfig(level=logging.DEBUG)\n",
    "\n",
    "def add(x,y):\n",
    "    return x+y\n",
    "def product(x,y):\n",
    "    return x*y\n",
    "def susstarct(x,y):\n",
    "    return x-y\n",
    "\n",
    "num_1=10\n",
    "num_2=3\n",
    "\n",
    "add_result=add(num_1,num_2)\n",
    "logging.debug(add_result)\n",
    "product_result=product(num_1,num_2)\n",
    "logging.debug(product_result)\n",
    "susstarct_result=susstarct(num_1,num_2)\n",
    "logging.debug(susstarct_result)"
   ]
  },
  {
   "cell_type": "code",
   "execution_count": 5,
   "metadata": {},
   "outputs": [],
   "source": [
    "import logging\n",
    "#logging.basicConfig(level=logging.DEBUG)\n",
    "logging.basicConfig(filename='learn_1.log',level=logging.DEBUG) \n",
    "# this created the log file after going to the exact directory and ran the file.\n",
    "\n",
    "def add(x,y):\n",
    "    return x+y\n",
    "def product(x,y):\n",
    "    return x*y\n",
    "def susstarct(x,y):\n",
    "    return x-y\n",
    "\n",
    "num_1=10\n",
    "num_2=3\n",
    "\n",
    "add_result=add(num_1,num_2)\n",
    "#logging.debug(add_result)\n",
    "logging.debug(add_result)\n",
    "product_result=product(num_1,num_2)\n",
    "#logging.debug(product_result)\n",
    "logging.debug(product_result)\n",
    "susstarct_result=susstarct(num_1,num_2)\n",
    "#logging.debug(susstarct_result)\n",
    "logging.debug(susstarct_result)"
   ]
  },
  {
   "cell_type": "code",
   "execution_count": 6,
   "metadata": {},
   "outputs": [],
   "source": [
    "def namecheck(name):\n",
    "    if len(name) < 2:\n",
    "        print('Chech for the name length')\n",
    "        return 'invalid name'\n",
    "    elif name.isspace():\n",
    "        print('Cheking for name has space')\n",
    "        return 'invalid name'\n",
    "    elif name.isalpha():\n",
    "        print('Cheking for name has alphabet')\n",
    "        return 'valid name'\n",
    "    elif name.replace(' ','').isalpha():\n",
    "        print('checking for full name')\n",
    "        return 'name is valid'\n",
    "    else:\n",
    "        print('Failed all checkes')\n",
    "        return 'invalid name'"
   ]
  },
  {
   "cell_type": "code",
   "execution_count": 7,
   "metadata": {},
   "outputs": [
    {
     "name": "stdout",
     "output_type": "stream",
     "text": [
      "checking for full name\n"
     ]
    },
    {
     "data": {
      "text/plain": [
       "'name is valid'"
      ]
     },
     "execution_count": 7,
     "metadata": {},
     "output_type": "execute_result"
    }
   ],
   "source": [
    "namecheck('Prsa nth')"
   ]
  },
  {
   "cell_type": "code",
   "execution_count": 8,
   "metadata": {},
   "outputs": [
    {
     "name": "stdout",
     "output_type": "stream",
     "text": [
      "Chech for the name length\n"
     ]
    },
    {
     "data": {
      "text/plain": [
       "'invalid name'"
      ]
     },
     "execution_count": 8,
     "metadata": {},
     "output_type": "execute_result"
    }
   ],
   "source": [
    "namecheck('w')"
   ]
  },
  {
   "cell_type": "code",
   "execution_count": 9,
   "metadata": {},
   "outputs": [],
   "source": [
    "import logging\n",
    "\n",
    "logging.basicConfig(level=logging.DEBUG)\n",
    "\n",
    "def namecheck(name):\n",
    "    if len(name) < 2:\n",
    "        logging.debug('Chech for the name length')\n",
    "        return 'invalid name'\n",
    "    elif name.isspace():\n",
    "        logging.debug('Cheking for name has space')\n",
    "        return 'invalid name'\n",
    "    elif name.isalpha():\n",
    "        logging.debug('Cheking for name has alphabet')\n",
    "        return 'valid name'\n",
    "    elif name.replace(' ','').isalpha():\n",
    "        logging.debug('checking for full name')\n",
    "        return 'name is valid'\n",
    "    else:\n",
    "        logging.debug('Failed all checkes')\n",
    "        return 'invalid name'"
   ]
  },
  {
   "cell_type": "code",
   "execution_count": 10,
   "metadata": {},
   "outputs": [
    {
     "data": {
      "text/plain": [
       "'name is valid'"
      ]
     },
     "execution_count": 10,
     "metadata": {},
     "output_type": "execute_result"
    }
   ],
   "source": [
    "namecheck('aa afa')"
   ]
  },
  {
   "cell_type": "code",
   "execution_count": 11,
   "metadata": {},
   "outputs": [
    {
     "data": {
      "text/plain": [
       "'invalid name'"
      ]
     },
     "execution_count": 11,
     "metadata": {},
     "output_type": "execute_result"
    }
   ],
   "source": [
    "namecheck('s')"
   ]
  },
  {
   "cell_type": "code",
   "execution_count": 23,
   "metadata": {},
   "outputs": [
    {
     "data": {
      "text/plain": [
       "'invalid name'"
      ]
     },
     "execution_count": 23,
     "metadata": {},
     "output_type": "execute_result"
    }
   ],
   "source": [
    "import logging\n",
    "\n",
    "logging.basicConfig(filename='learn_namecheck.log',level=logging.DEBUG,format='%(created)f - %(levelname)s -%(levelno)s -%(message)s')\n",
    "\n",
    "def namecheck(name):\n",
    "    if len(name) < 2:\n",
    "        logging.debug('Chech for the name length')\n",
    "        return 'invalid name'\n",
    "    elif name.isspace():\n",
    "        logging.debug('Cheking for name has space')\n",
    "        return 'invalid name'\n",
    "    elif name.isalpha():\n",
    "        logging.debug('Cheking for name has alphabet')\n",
    "        return 'valid name'\n",
    "    elif name.replace(' ','').isalpha():\n",
    "        logging.debug('checking for full name')\n",
    "        return 'name is valid'\n",
    "    else:\n",
    "        logging.debug('Failed all checkes')\n",
    "        return 'invalid name'\n",
    "    \n",
    "namecheck('P')"
   ]
  },
  {
   "cell_type": "code",
   "execution_count": 21,
   "metadata": {},
   "outputs": [
    {
     "data": {
      "text/plain": [
       "'invalid name'"
      ]
     },
     "execution_count": 21,
     "metadata": {},
     "output_type": "execute_result"
    }
   ],
   "source": [
    "namecheck('P')"
   ]
  },
  {
   "cell_type": "code",
   "execution_count": null,
   "metadata": {},
   "outputs": [],
   "source": []
  }
 ],
 "metadata": {
  "kernelspec": {
   "display_name": "Python 3",
   "language": "python",
   "name": "python3"
  },
  "language_info": {
   "codemirror_mode": {
    "name": "ipython",
    "version": 3
   },
   "file_extension": ".py",
   "mimetype": "text/x-python",
   "name": "python",
   "nbconvert_exporter": "python",
   "pygments_lexer": "ipython3",
   "version": "3.10.4"
  }
 },
 "nbformat": 4,
 "nbformat_minor": 2
}
