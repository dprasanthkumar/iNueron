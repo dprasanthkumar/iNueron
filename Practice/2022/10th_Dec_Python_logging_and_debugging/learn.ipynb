{
 "cells": [
  {
   "cell_type": "markdown",
   "metadata": {},
   "source": [
    "# Logging\n",
    "**Logging help us to track and monitor the application**\n",
    "- Log is critical part of sysytem documentation about runtime status of application."
   ]
  },
  {
   "cell_type": "code",
   "execution_count": 2,
   "metadata": {},
   "outputs": [
    {
     "name": "stdout",
     "output_type": "stream",
     "text": [
      "13\n",
      "30\n",
      "7\n"
     ]
    }
   ],
   "source": [
    "def add(x,y):\n",
    "    return x+y\n",
    "def product(x,y):\n",
    "    return x*y\n",
    "def susstarct(x,y):\n",
    "    return x-y\n",
    "\n",
    "num_1=10\n",
    "num_2=3\n",
    "\n",
    "add_result=add(num_1,num_2)\n",
    "print(add_result)\n",
    "product_result=product(num_1,num_2)\n",
    "print(product_result)\n",
    "susstarct_result=susstarct(num_1,num_2)\n",
    "print(susstarct_result)"
   ]
  },
  {
   "cell_type": "code",
   "execution_count": 4,
   "metadata": {},
   "outputs": [],
   "source": [
    "import logging\n",
    "logging.basicConfig(level=logging.DEBUG)\n",
    "\n",
    "def add(x,y):\n",
    "    return x+y\n",
    "def product(x,y):\n",
    "    return x*y\n",
    "def susstarct(x,y):\n",
    "    return x-y\n",
    "\n",
    "num_1=10\n",
    "num_2=3\n",
    "\n",
    "add_result=add(num_1,num_2)\n",
    "logging.debug(add_result)\n",
    "product_result=product(num_1,num_2)\n",
    "logging.debug(product_result)\n",
    "susstarct_result=susstarct(num_1,num_2)\n",
    "logging.debug(susstarct_result)"
   ]
  },
  {
   "cell_type": "code",
   "execution_count": 5,
   "metadata": {},
   "outputs": [],
   "source": [
    "import logging\n",
    "#logging.basicConfig(level=logging.DEBUG)\n",
    "logging.basicConfig(filename='learn_1.log',level=logging.DEBUG) \n",
    "# this created the log file after going to the exact directory and ran the file.\n",
    "\n",
    "def add(x,y):\n",
    "    return x+y\n",
    "def product(x,y):\n",
    "    return x*y\n",
    "def susstarct(x,y):\n",
    "    return x-y\n",
    "\n",
    "num_1=10\n",
    "num_2=3\n",
    "\n",
    "add_result=add(num_1,num_2)\n",
    "#logging.debug(add_result)\n",
    "logging.debug(add_result)\n",
    "product_result=product(num_1,num_2)\n",
    "#logging.debug(product_result)\n",
    "logging.debug(product_result)\n",
    "susstarct_result=susstarct(num_1,num_2)\n",
    "#logging.debug(susstarct_result)\n",
    "logging.debug(susstarct_result)"
   ]
  },
  {
   "cell_type": "code",
   "execution_count": null,
   "metadata": {},
   "outputs": [],
   "source": []
  }
 ],
 "metadata": {
  "kernelspec": {
   "display_name": "Python 3",
   "language": "python",
   "name": "python3"
  },
  "language_info": {
   "codemirror_mode": {
    "name": "ipython",
    "version": 3
   },
   "file_extension": ".py",
   "mimetype": "text/x-python",
   "name": "python",
   "nbconvert_exporter": "python",
   "pygments_lexer": "ipython3",
   "version": "3.10.4"
  }
 },
 "nbformat": 4,
 "nbformat_minor": 2
}
