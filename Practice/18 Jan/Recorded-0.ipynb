{
 "cells": [
  {
   "cell_type": "code",
   "execution_count": 4,
   "id": "054f68ad",
   "metadata": {},
   "outputs": [],
   "source": [
    "Name='Prasanth'"
   ]
  },
  {
   "cell_type": "code",
   "execution_count": 5,
   "id": "38e41822",
   "metadata": {},
   "outputs": [
    {
     "name": "stdout",
     "output_type": "stream",
     "text": [
      "Prasanth\n"
     ]
    }
   ],
   "source": [
    "print(Name)"
   ]
  },
  {
   "cell_type": "code",
   "execution_count": 6,
   "id": "1dcbf5a1",
   "metadata": {},
   "outputs": [
    {
     "name": "stdout",
     "output_type": "stream",
     "text": [
      "my name is prasanth\n"
     ]
    }
   ],
   "source": [
    "print(\"my name is prasanth\")"
   ]
  },
  {
   "cell_type": "code",
   "execution_count": 7,
   "id": "7ad4426e",
   "metadata": {},
   "outputs": [
    {
     "data": {
      "text/plain": [
       "str"
      ]
     },
     "execution_count": 7,
     "metadata": {},
     "output_type": "execute_result"
    }
   ],
   "source": [
    "type(Name)"
   ]
  },
  {
   "cell_type": "code",
   "execution_count": 8,
   "id": "56656d57",
   "metadata": {},
   "outputs": [],
   "source": [
    "aaa=21321354"
   ]
  },
  {
   "cell_type": "code",
   "execution_count": 9,
   "id": "2ccd8cdd",
   "metadata": {},
   "outputs": [
    {
     "data": {
      "text/plain": [
       "21321354"
      ]
     },
     "execution_count": 9,
     "metadata": {},
     "output_type": "execute_result"
    }
   ],
   "source": [
    "aaa"
   ]
  },
  {
   "cell_type": "code",
   "execution_count": 10,
   "id": "73374802",
   "metadata": {},
   "outputs": [
    {
     "data": {
      "text/plain": [
       "int"
      ]
     },
     "execution_count": 10,
     "metadata": {},
     "output_type": "execute_result"
    }
   ],
   "source": [
    "type(aaa)"
   ]
  },
  {
   "cell_type": "code",
   "execution_count": 11,
   "id": "433a9576",
   "metadata": {},
   "outputs": [],
   "source": [
    "a=\"string\""
   ]
  },
  {
   "cell_type": "code",
   "execution_count": 12,
   "id": "8be7392b",
   "metadata": {},
   "outputs": [
    {
     "data": {
      "text/plain": [
       "str"
      ]
     },
     "execution_count": 12,
     "metadata": {},
     "output_type": "execute_result"
    }
   ],
   "source": [
    "type(a)"
   ]
  },
  {
   "cell_type": "code",
   "execution_count": 13,
   "id": "d1d34b1b",
   "metadata": {},
   "outputs": [],
   "source": [
    "aadd=True"
   ]
  },
  {
   "cell_type": "code",
   "execution_count": 14,
   "id": "b75c4177",
   "metadata": {},
   "outputs": [
    {
     "data": {
      "text/plain": [
       "bool"
      ]
     },
     "execution_count": 14,
     "metadata": {},
     "output_type": "execute_result"
    }
   ],
   "source": [
    "type(aadd)"
   ]
  },
  {
   "cell_type": "code",
   "execution_count": 15,
   "id": "aa62cbe4",
   "metadata": {},
   "outputs": [
    {
     "ename": "NameError",
     "evalue": "name 'prasanth' is not defined",
     "output_type": "error",
     "traceback": [
      "\u001b[1;31m---------------------------------------------------------------------------\u001b[0m",
      "\u001b[1;31mNameError\u001b[0m                                 Traceback (most recent call last)",
      "Input \u001b[1;32mIn [15]\u001b[0m, in \u001b[0;36m<cell line: 1>\u001b[1;34m()\u001b[0m\n\u001b[1;32m----> 1\u001b[0m c \u001b[38;5;241m=\u001b[39m \u001b[43mprasanth\u001b[49m\n",
      "\u001b[1;31mNameError\u001b[0m: name 'prasanth' is not defined"
     ]
    }
   ],
   "source": [
    "c = prasanth"
   ]
  },
  {
   "cell_type": "code",
   "execution_count": 16,
   "id": "941268ba",
   "metadata": {},
   "outputs": [],
   "source": [
    "c='Prasanth'"
   ]
  },
  {
   "cell_type": "code",
   "execution_count": 17,
   "id": "b051e66c",
   "metadata": {},
   "outputs": [
    {
     "data": {
      "text/plain": [
       "'Prasanth'"
      ]
     },
     "execution_count": 17,
     "metadata": {},
     "output_type": "execute_result"
    }
   ],
   "source": [
    "c"
   ]
  },
  {
   "cell_type": "code",
   "execution_count": 18,
   "id": "37b653cf",
   "metadata": {},
   "outputs": [
    {
     "data": {
      "text/plain": [
       "str"
      ]
     },
     "execution_count": 18,
     "metadata": {},
     "output_type": "execute_result"
    }
   ],
   "source": [
    "type(c)"
   ]
  },
  {
   "cell_type": "code",
   "execution_count": 19,
   "id": "46fc53ff",
   "metadata": {},
   "outputs": [
    {
     "ename": "SyntaxError",
     "evalue": "starred assignment target must be in a list or tuple (2004339555.py, line 1)",
     "output_type": "error",
     "traceback": [
      "\u001b[1;36m  Input \u001b[1;32mIn [19]\u001b[1;36m\u001b[0m\n\u001b[1;33m    *a=22\u001b[0m\n\u001b[1;37m    ^\u001b[0m\n\u001b[1;31mSyntaxError\u001b[0m\u001b[1;31m:\u001b[0m starred assignment target must be in a list or tuple\n"
     ]
    }
   ],
   "source": [
    "*a=22"
   ]
  },
  {
   "cell_type": "code",
   "execution_count": 20,
   "id": "034f6a8c",
   "metadata": {},
   "outputs": [],
   "source": [
    "#2nd \n",
    "Name='Prasanth'"
   ]
  },
  {
   "cell_type": "code",
   "execution_count": 21,
   "id": "5ef94f57",
   "metadata": {},
   "outputs": [
    {
     "data": {
      "text/plain": [
       "'r'"
      ]
     },
     "execution_count": 21,
     "metadata": {},
     "output_type": "execute_result"
    }
   ],
   "source": [
    "#String indexing\n",
    "Nmae[1]"
   ]
  },
  {
   "cell_type": "code",
   "execution_count": 22,
   "id": "5d373e6a",
   "metadata": {},
   "outputs": [
    {
     "ename": "TypeError",
     "evalue": "string indices must be integers",
     "output_type": "error",
     "traceback": [
      "\u001b[1;31m---------------------------------------------------------------------------\u001b[0m",
      "\u001b[1;31mTypeError\u001b[0m                                 Traceback (most recent call last)",
      "Input \u001b[1;32mIn [22]\u001b[0m, in \u001b[0;36m<cell line: 1>\u001b[1;34m()\u001b[0m\n\u001b[1;32m----> 1\u001b[0m \u001b[43mName\u001b[49m\u001b[43m[\u001b[49m\u001b[38;5;241;43m0\u001b[39;49m\u001b[43m,\u001b[49m\u001b[38;5;241;43m3\u001b[39;49m\u001b[43m]\u001b[49m\n",
      "\u001b[1;31mTypeError\u001b[0m: string indices must be integers"
     ]
    }
   ],
   "source": [
    "Name[0,3]"
   ]
  },
  {
   "cell_type": "code",
   "execution_count": 23,
   "id": "fae50a0b",
   "metadata": {},
   "outputs": [
    {
     "ename": "SyntaxError",
     "evalue": "leading zeros in decimal integer literals are not permitted; use an 0o prefix for octal integers (3721547661.py, line 1)",
     "output_type": "error",
     "traceback": [
      "\u001b[1;36m  Input \u001b[1;32mIn [23]\u001b[1;36m\u001b[0m\n\u001b[1;33m    Name[03]\u001b[0m\n\u001b[1;37m          ^\u001b[0m\n\u001b[1;31mSyntaxError\u001b[0m\u001b[1;31m:\u001b[0m leading zeros in decimal integer literals are not permitted; use an 0o prefix for octal integers\n"
     ]
    }
   ],
   "source": [
    "Name[03]"
   ]
  },
  {
   "cell_type": "code",
   "execution_count": 24,
   "id": "a57357b8",
   "metadata": {},
   "outputs": [
    {
     "data": {
      "text/plain": [
       "'Pra'"
      ]
     },
     "execution_count": 24,
     "metadata": {},
     "output_type": "execute_result"
    }
   ],
   "source": [
    "Name[0:3]"
   ]
  },
  {
   "cell_type": "code",
   "execution_count": 25,
   "id": "3232c7c7",
   "metadata": {},
   "outputs": [
    {
     "data": {
      "text/plain": [
       "'Prasanth'"
      ]
     },
     "execution_count": 25,
     "metadata": {},
     "output_type": "execute_result"
    }
   ],
   "source": [
    "Name"
   ]
  },
  {
   "cell_type": "code",
   "execution_count": 26,
   "id": "1fb93ca4",
   "metadata": {},
   "outputs": [
    {
     "data": {
      "text/plain": [
       "''"
      ]
     },
     "execution_count": 26,
     "metadata": {},
     "output_type": "execute_result"
    }
   ],
   "source": [
    "Name[-1:0]"
   ]
  },
  {
   "cell_type": "code",
   "execution_count": 27,
   "id": "d37abf3b",
   "metadata": {},
   "outputs": [
    {
     "data": {
      "text/plain": [
       "'h'"
      ]
     },
     "execution_count": 27,
     "metadata": {},
     "output_type": "execute_result"
    }
   ],
   "source": [
    "Name[-1]"
   ]
  },
  {
   "cell_type": "code",
   "execution_count": 28,
   "id": "aca81006",
   "metadata": {},
   "outputs": [
    {
     "data": {
      "text/plain": [
       "'Prasant'"
      ]
     },
     "execution_count": 28,
     "metadata": {},
     "output_type": "execute_result"
    }
   ],
   "source": [
    "Name[0:-1]"
   ]
  },
  {
   "cell_type": "code",
   "execution_count": 29,
   "id": "fef5f0a6",
   "metadata": {},
   "outputs": [
    {
     "data": {
      "text/plain": [
       "'Prasanth'"
      ]
     },
     "execution_count": 29,
     "metadata": {},
     "output_type": "execute_result"
    }
   ],
   "source": [
    "Name[0:100]"
   ]
  },
  {
   "cell_type": "code",
   "execution_count": 30,
   "id": "7bdaa4db",
   "metadata": {},
   "outputs": [
    {
     "data": {
      "text/plain": [
       "'Pr'"
      ]
     },
     "execution_count": 30,
     "metadata": {},
     "output_type": "execute_result"
    }
   ],
   "source": [
    "Name[0:2:1]"
   ]
  },
  {
   "cell_type": "code",
   "execution_count": 31,
   "id": "265192af",
   "metadata": {},
   "outputs": [],
   "source": [
    "Name='Prasanth kumar Dasari'"
   ]
  },
  {
   "cell_type": "code",
   "execution_count": 32,
   "id": "4f520e23",
   "metadata": {},
   "outputs": [
    {
     "data": {
      "text/plain": [
       "'Prasanth kumar Dasari'"
      ]
     },
     "execution_count": 32,
     "metadata": {},
     "output_type": "execute_result"
    }
   ],
   "source": [
    "Name"
   ]
  },
  {
   "cell_type": "code",
   "execution_count": 33,
   "id": "ee725a03",
   "metadata": {},
   "outputs": [
    {
     "data": {
      "text/plain": [
       "'Prasanth kumar Dasari'"
      ]
     },
     "execution_count": 33,
     "metadata": {},
     "output_type": "execute_result"
    }
   ],
   "source": [
    "Name[0:21:1]"
   ]
  },
  {
   "cell_type": "code",
   "execution_count": 34,
   "id": "0b7fa460",
   "metadata": {},
   "outputs": [
    {
     "data": {
      "text/plain": [
       "'Paat ua aai'"
      ]
     },
     "execution_count": 34,
     "metadata": {},
     "output_type": "execute_result"
    }
   ],
   "source": [
    "Name[0:21:2]"
   ]
  },
  {
   "cell_type": "code",
   "execution_count": 35,
   "id": "b032fde1",
   "metadata": {},
   "outputs": [
    {
     "data": {
      "text/plain": [
       "'Prasanth kumar Dasari'"
      ]
     },
     "execution_count": 35,
     "metadata": {},
     "output_type": "execute_result"
    }
   ],
   "source": [
    "Name"
   ]
  },
  {
   "cell_type": "code",
   "execution_count": 36,
   "id": "ff37ff31",
   "metadata": {},
   "outputs": [
    {
     "data": {
      "text/plain": [
       "''"
      ]
     },
     "execution_count": 36,
     "metadata": {},
     "output_type": "execute_result"
    }
   ],
   "source": [
    "Name[0:21:-1]"
   ]
  },
  {
   "cell_type": "code",
   "execution_count": 37,
   "id": "5092c811",
   "metadata": {},
   "outputs": [
    {
     "data": {
      "text/plain": [
       "'i'"
      ]
     },
     "execution_count": 37,
     "metadata": {},
     "output_type": "execute_result"
    }
   ],
   "source": [
    "Name[-1]"
   ]
  },
  {
   "cell_type": "code",
   "execution_count": 38,
   "id": "2098ce11",
   "metadata": {},
   "outputs": [
    {
     "data": {
      "text/plain": [
       "'irasaD ramuk htnasar'"
      ]
     },
     "execution_count": 38,
     "metadata": {},
     "output_type": "execute_result"
    }
   ],
   "source": [
    "Name[-1:-21:-1]"
   ]
  },
  {
   "cell_type": "code",
   "execution_count": 39,
   "id": "b92b5c2a",
   "metadata": {},
   "outputs": [
    {
     "data": {
      "text/plain": [
       "''"
      ]
     },
     "execution_count": 39,
     "metadata": {},
     "output_type": "execute_result"
    }
   ],
   "source": [
    "Name[-1:21:-1]"
   ]
  },
  {
   "cell_type": "code",
   "execution_count": 40,
   "id": "41b31ee8",
   "metadata": {},
   "outputs": [
    {
     "data": {
      "text/plain": [
       "'i'"
      ]
     },
     "execution_count": 40,
     "metadata": {},
     "output_type": "execute_result"
    }
   ],
   "source": [
    "Name[-1:21:1]"
   ]
  },
  {
   "cell_type": "code",
   "execution_count": 41,
   "id": "21fab68e",
   "metadata": {},
   "outputs": [
    {
     "data": {
      "text/plain": [
       "'irasaD ramuk htnasar'"
      ]
     },
     "execution_count": 41,
     "metadata": {},
     "output_type": "execute_result"
    }
   ],
   "source": [
    "Name[:-21:-1]"
   ]
  },
  {
   "cell_type": "code",
   "execution_count": 42,
   "id": "64af005e",
   "metadata": {},
   "outputs": [
    {
     "data": {
      "text/plain": [
       "'Prasan'"
      ]
     },
     "execution_count": 42,
     "metadata": {},
     "output_type": "execute_result"
    }
   ],
   "source": [
    "#Prasanth k u m a r D a s a r i\n",
    "#1234567891011121314151617181920\n",
    "#P   r   a  s anth k u m a r D a s a r i\n",
    "#-21-20-19-18\n",
    "Name[-21:-15]"
   ]
  },
  {
   "cell_type": "code",
   "execution_count": 43,
   "id": "439db595",
   "metadata": {},
   "outputs": [
    {
     "data": {
      "text/plain": [
       "''"
      ]
     },
     "execution_count": 43,
     "metadata": {},
     "output_type": "execute_result"
    }
   ],
   "source": [
    "Name[-15:-21]"
   ]
  },
  {
   "cell_type": "code",
   "execution_count": 44,
   "id": "32313899",
   "metadata": {},
   "outputs": [
    {
     "data": {
      "text/plain": [
       "'th kumar Dasari'"
      ]
     },
     "execution_count": 44,
     "metadata": {},
     "output_type": "execute_result"
    }
   ],
   "source": [
    "Name[-15:]"
   ]
  },
  {
   "cell_type": "code",
   "execution_count": 45,
   "id": "51e436be",
   "metadata": {},
   "outputs": [
    {
     "data": {
      "text/plain": [
       "21"
      ]
     },
     "execution_count": 45,
     "metadata": {},
     "output_type": "execute_result"
    }
   ],
   "source": [
    "len(Name)"
   ]
  },
  {
   "cell_type": "code",
   "execution_count": 47,
   "id": "b06ff289",
   "metadata": {},
   "outputs": [
    {
     "data": {
      "text/plain": [
       "'NameNameNameName'"
      ]
     },
     "execution_count": 47,
     "metadata": {},
     "output_type": "execute_result"
    }
   ],
   "source": [
    "'Name'*4"
   ]
  },
  {
   "cell_type": "code",
   "execution_count": 48,
   "id": "326c46d6",
   "metadata": {},
   "outputs": [
    {
     "data": {
      "text/plain": [
       "-1"
      ]
     },
     "execution_count": 48,
     "metadata": {},
     "output_type": "execute_result"
    }
   ],
   "source": [
    "#find function\n",
    "Name.find(a)"
   ]
  },
  {
   "cell_type": "code",
   "execution_count": 49,
   "id": "989bac84",
   "metadata": {},
   "outputs": [
    {
     "data": {
      "text/plain": [
       "2"
      ]
     },
     "execution_count": 49,
     "metadata": {},
     "output_type": "execute_result"
    }
   ],
   "source": [
    "Name.find('a')"
   ]
  },
  {
   "cell_type": "code",
   "execution_count": 50,
   "id": "04d4b1c9",
   "metadata": {},
   "outputs": [
    {
     "data": {
      "text/plain": [
       "9"
      ]
     },
     "execution_count": 50,
     "metadata": {},
     "output_type": "execute_result"
    }
   ],
   "source": [
    "Name.find('k')"
   ]
  },
  {
   "cell_type": "code",
   "execution_count": 51,
   "id": "dce3bd31",
   "metadata": {},
   "outputs": [
    {
     "data": {
      "text/plain": [
       "'Prasanth kumar Dasari'"
      ]
     },
     "execution_count": 51,
     "metadata": {},
     "output_type": "execute_result"
    }
   ],
   "source": [
    "Name"
   ]
  },
  {
   "cell_type": "code",
   "execution_count": 53,
   "id": "7cbe19fe",
   "metadata": {},
   "outputs": [
    {
     "ename": "NameError",
     "evalue": "name 'count' is not defined",
     "output_type": "error",
     "traceback": [
      "\u001b[1;31m---------------------------------------------------------------------------\u001b[0m",
      "\u001b[1;31mNameError\u001b[0m                                 Traceback (most recent call last)",
      "Input \u001b[1;32mIn [53]\u001b[0m, in \u001b[0;36m<cell line: 1>\u001b[1;34m()\u001b[0m\n\u001b[1;32m----> 1\u001b[0m Name\u001b[38;5;241m.\u001b[39mfind(\u001b[43mcount\u001b[49m(\u001b[38;5;124m'\u001b[39m\u001b[38;5;124ma\u001b[39m\u001b[38;5;124m'\u001b[39m))\n",
      "\u001b[1;31mNameError\u001b[0m: name 'count' is not defined"
     ]
    }
   ],
   "source": [
    "Name.find(count('a'))"
   ]
  },
  {
   "cell_type": "code",
   "execution_count": 54,
   "id": "50dece3a",
   "metadata": {},
   "outputs": [
    {
     "data": {
      "text/plain": [
       "5"
      ]
     },
     "execution_count": 54,
     "metadata": {},
     "output_type": "execute_result"
    }
   ],
   "source": [
    "Name.count('a')"
   ]
  },
  {
   "cell_type": "code",
   "execution_count": 56,
   "id": "6d9b5c38",
   "metadata": {},
   "outputs": [
    {
     "data": {
      "text/plain": [
       "['Prasanth', 'kumar', 'Dasari']"
      ]
     },
     "execution_count": 56,
     "metadata": {},
     "output_type": "execute_result"
    }
   ],
   "source": [
    "Name.split(' ')"
   ]
  },
  {
   "cell_type": "code",
   "execution_count": 57,
   "id": "e1c440ae",
   "metadata": {},
   "outputs": [],
   "source": [
    "N=Name.split(' ')"
   ]
  },
  {
   "cell_type": "code",
   "execution_count": 58,
   "id": "03e06c46",
   "metadata": {},
   "outputs": [
    {
     "data": {
      "text/plain": [
       "['Prasanth', 'kumar', 'Dasari']"
      ]
     },
     "execution_count": 58,
     "metadata": {},
     "output_type": "execute_result"
    }
   ],
   "source": [
    "N"
   ]
  },
  {
   "cell_type": "code",
   "execution_count": 59,
   "id": "08edaa6d",
   "metadata": {},
   "outputs": [
    {
     "data": {
      "text/plain": [
       "'Prasanth'"
      ]
     },
     "execution_count": 59,
     "metadata": {},
     "output_type": "execute_result"
    }
   ],
   "source": [
    "N[0]"
   ]
  },
  {
   "cell_type": "code",
   "execution_count": 60,
   "id": "0f99880d",
   "metadata": {},
   "outputs": [
    {
     "data": {
      "text/plain": [
       "'kumar'"
      ]
     },
     "execution_count": 60,
     "metadata": {},
     "output_type": "execute_result"
    }
   ],
   "source": [
    "N[1]"
   ]
  },
  {
   "cell_type": "code",
   "execution_count": 61,
   "id": "6a823610",
   "metadata": {},
   "outputs": [
    {
     "data": {
      "text/plain": [
       "'Dasari'"
      ]
     },
     "execution_count": 61,
     "metadata": {},
     "output_type": "execute_result"
    }
   ],
   "source": [
    "N[2]"
   ]
  },
  {
   "cell_type": "code",
   "execution_count": 62,
   "id": "346e120a",
   "metadata": {},
   "outputs": [
    {
     "data": {
      "text/plain": [
       "'Prasanth kumar Dasari'"
      ]
     },
     "execution_count": 62,
     "metadata": {},
     "output_type": "execute_result"
    }
   ],
   "source": [
    "Name"
   ]
  },
  {
   "cell_type": "code",
   "execution_count": 63,
   "id": "9d5922de",
   "metadata": {},
   "outputs": [
    {
     "data": {
      "text/plain": [
       "['Prasanth', 'kumar', 'Dasari']"
      ]
     },
     "execution_count": 63,
     "metadata": {},
     "output_type": "execute_result"
    }
   ],
   "source": [
    "Name.split( )"
   ]
  },
  {
   "cell_type": "code",
   "execution_count": 64,
   "id": "47c1e8f9",
   "metadata": {},
   "outputs": [
    {
     "data": {
      "text/plain": [
       "['Pr', 's', 'nth kum', 'r D', 's', 'ri']"
      ]
     },
     "execution_count": 64,
     "metadata": {},
     "output_type": "execute_result"
    }
   ],
   "source": [
    "Name.split('a')"
   ]
  },
  {
   "cell_type": "code",
   "execution_count": 66,
   "id": "73073c88",
   "metadata": {},
   "outputs": [
    {
     "data": {
      "text/plain": [
       "'PRASANTH KUMAR DASARI'"
      ]
     },
     "execution_count": 66,
     "metadata": {},
     "output_type": "execute_result"
    }
   ],
   "source": [
    "Name.upper()"
   ]
  },
  {
   "cell_type": "code",
   "execution_count": 67,
   "id": "771ba43a",
   "metadata": {},
   "outputs": [
    {
     "data": {
      "text/plain": [
       "<function str.lower()>"
      ]
     },
     "execution_count": 67,
     "metadata": {},
     "output_type": "execute_result"
    }
   ],
   "source": [
    "Name.lower"
   ]
  },
  {
   "cell_type": "code",
   "execution_count": 68,
   "id": "b2fad661",
   "metadata": {},
   "outputs": [
    {
     "data": {
      "text/plain": [
       "'prasanth kumar dasari'"
      ]
     },
     "execution_count": 68,
     "metadata": {},
     "output_type": "execute_result"
    }
   ],
   "source": [
    "Name.lower()"
   ]
  },
  {
   "cell_type": "code",
   "execution_count": 69,
   "id": "e3363baf",
   "metadata": {},
   "outputs": [
    {
     "ename": "TypeError",
     "evalue": "str.join() takes exactly one argument (0 given)",
     "output_type": "error",
     "traceback": [
      "\u001b[1;31m---------------------------------------------------------------------------\u001b[0m",
      "\u001b[1;31mTypeError\u001b[0m                                 Traceback (most recent call last)",
      "Input \u001b[1;32mIn [69]\u001b[0m, in \u001b[0;36m<cell line: 1>\u001b[1;34m()\u001b[0m\n\u001b[1;32m----> 1\u001b[0m \u001b[43mName\u001b[49m\u001b[38;5;241;43m.\u001b[39;49m\u001b[43mjoin\u001b[49m\u001b[43m(\u001b[49m\u001b[43m \u001b[49m\u001b[43m)\u001b[49m\n",
      "\u001b[1;31mTypeError\u001b[0m: str.join() takes exactly one argument (0 given)"
     ]
    }
   ],
   "source": [
    "#Join condition\n",
    "Name.join( )"
   ]
  },
  {
   "cell_type": "code",
   "execution_count": 70,
   "id": "d18a1b87",
   "metadata": {},
   "outputs": [
    {
     "data": {
      "text/plain": [
       "'pPrasanth kumar DasarirPrasanth kumar DasariaPrasanth kumar DasarisPrasanth kumar DasariaPrasanth kumar DasarinPrasanth kumar DasaritPrasanth kumar DasarihPrasanth kumar Dasari Prasanth kumar DasarikPrasanth kumar DasariuPrasanth kumar DasarimPrasanth kumar DasariaPrasanth kumar DasarirPrasanth kumar Dasari Prasanth kumar DasaridPrasanth kumar DasariaPrasanth kumar DasarisPrasanth kumar DasariaPrasanth kumar DasarirPrasanth kumar Dasarii'"
      ]
     },
     "execution_count": 70,
     "metadata": {},
     "output_type": "execute_result"
    }
   ],
   "source": [
    "Name.join(_)"
   ]
  },
  {
   "cell_type": "code",
   "execution_count": 73,
   "id": "fc0f333f",
   "metadata": {},
   "outputs": [
    {
     "data": {
      "text/plain": [
       "' '"
      ]
     },
     "execution_count": 73,
     "metadata": {},
     "output_type": "execute_result"
    }
   ],
   "source": [
    "Name.join(' ')"
   ]
  },
  {
   "cell_type": "code",
   "execution_count": 74,
   "id": "0def6f55",
   "metadata": {},
   "outputs": [
    {
     "data": {
      "text/plain": [
       "'Prasanth kumar Dasari'"
      ]
     },
     "execution_count": 74,
     "metadata": {},
     "output_type": "execute_result"
    }
   ],
   "source": [
    "Name"
   ]
  },
  {
   "cell_type": "code",
   "execution_count": 77,
   "id": "cf58182d",
   "metadata": {},
   "outputs": [],
   "source": [
    "Name=Name.join('p')"
   ]
  },
  {
   "cell_type": "code",
   "execution_count": 78,
   "id": "de934d2c",
   "metadata": {},
   "outputs": [
    {
     "data": {
      "text/plain": [
       "'p'"
      ]
     },
     "execution_count": 78,
     "metadata": {},
     "output_type": "execute_result"
    }
   ],
   "source": [
    "Name"
   ]
  },
  {
   "cell_type": "code",
   "execution_count": 79,
   "id": "aab367b0",
   "metadata": {},
   "outputs": [
    {
     "data": {
      "text/plain": [
       "'p'"
      ]
     },
     "execution_count": 79,
     "metadata": {},
     "output_type": "execute_result"
    }
   ],
   "source": [
    "Name"
   ]
  },
  {
   "cell_type": "code",
   "execution_count": 81,
   "id": "f37d80ff",
   "metadata": {},
   "outputs": [],
   "source": [
    "Name='Prasanth kumar Dasari'\n",
    "name='Janga'\n"
   ]
  },
  {
   "cell_type": "code",
   "execution_count": 82,
   "id": "cbde3e08",
   "metadata": {},
   "outputs": [
    {
     "data": {
      "text/plain": [
       "'PJangarJangaaJangasJangaaJanganJangatJangahJanga JangakJangauJangamJangaaJangarJanga JangaDJangaaJangasJangaaJangarJangai'"
      ]
     },
     "execution_count": 82,
     "metadata": {},
     "output_type": "execute_result"
    }
   ],
   "source": [
    "name.join(Name)"
   ]
  },
  {
   "cell_type": "code",
   "execution_count": 85,
   "id": "bcbbdf1d",
   "metadata": {},
   "outputs": [
    {
     "data": {
      "text/plain": [
       "'JPrasanth kumar DasariaPrasanth kumar DasarinPrasanth kumar DasarigPrasanth kumar Dasaria'"
      ]
     },
     "execution_count": 85,
     "metadata": {},
     "output_type": "execute_result"
    }
   ],
   "source": [
    "Name .join( name)"
   ]
  },
  {
   "cell_type": "code",
   "execution_count": 86,
   "id": "9e11db60",
   "metadata": {},
   "outputs": [
    {
     "data": {
      "text/plain": [
       "'5012346012347012348012349'"
      ]
     },
     "execution_count": 86,
     "metadata": {},
     "output_type": "execute_result"
    }
   ],
   "source": [
    "Number='01234'\n",
    "number='56789'\n",
    "Number.join(number)"
   ]
  },
  {
   "cell_type": "code",
   "execution_count": 87,
   "id": "fabbed4c",
   "metadata": {},
   "outputs": [
    {
     "data": {
      "text/plain": [
       "'Prasanth kumar Dasari'"
      ]
     },
     "execution_count": 87,
     "metadata": {},
     "output_type": "execute_result"
    }
   ],
   "source": [
    "Name"
   ]
  },
  {
   "cell_type": "code",
   "execution_count": 88,
   "id": "4557484b",
   "metadata": {},
   "outputs": [
    {
     "data": {
      "text/plain": [
       "'PrasanthkumarDasari'"
      ]
     },
     "execution_count": 88,
     "metadata": {},
     "output_type": "execute_result"
    }
   ],
   "source": [
    "#replace function\n",
    "Name.replace(' ','')"
   ]
  },
  {
   "cell_type": "code",
   "execution_count": 89,
   "id": "d6430a48",
   "metadata": {},
   "outputs": [
    {
     "data": {
      "text/plain": [
       "'Prasanth|kumar|Dasari'"
      ]
     },
     "execution_count": 89,
     "metadata": {},
     "output_type": "execute_result"
    }
   ],
   "source": [
    "Name.replace(' ','|')"
   ]
  },
  {
   "cell_type": "code",
   "execution_count": 90,
   "id": "028bc666",
   "metadata": {},
   "outputs": [
    {
     "ename": "AttributeError",
     "evalue": "'str' object has no attribute 'centre'",
     "output_type": "error",
     "traceback": [
      "\u001b[1;31m---------------------------------------------------------------------------\u001b[0m",
      "\u001b[1;31mAttributeError\u001b[0m                            Traceback (most recent call last)",
      "Input \u001b[1;32mIn [90]\u001b[0m, in \u001b[0;36m<cell line: 1>\u001b[1;34m()\u001b[0m\n\u001b[1;32m----> 1\u001b[0m \u001b[43mName\u001b[49m\u001b[38;5;241;43m.\u001b[39;49m\u001b[43mcentre\u001b[49m(\u001b[38;5;241m100\u001b[39m)\n",
      "\u001b[1;31mAttributeError\u001b[0m: 'str' object has no attribute 'centre'"
     ]
    }
   ],
   "source": [
    "Name.centre(100)"
   ]
  },
  {
   "cell_type": "code",
   "execution_count": 92,
   "id": "b46019da",
   "metadata": {},
   "outputs": [
    {
     "data": {
      "text/plain": [
       "'***************************************Prasanth kumar Dasari****************************************'"
      ]
     },
     "execution_count": 92,
     "metadata": {},
     "output_type": "execute_result"
    }
   ],
   "source": [
    "Name.center(100,'*')"
   ]
  },
  {
   "cell_type": "code",
   "execution_count": 93,
   "id": "543b361c",
   "metadata": {},
   "outputs": [
    {
     "data": {
      "text/plain": [
       "'Prasanth kumar Dasari'"
      ]
     },
     "execution_count": 93,
     "metadata": {},
     "output_type": "execute_result"
    }
   ],
   "source": [
    "Name"
   ]
  },
  {
   "cell_type": "code",
   "execution_count": 94,
   "id": "ee28dbee",
   "metadata": {},
   "outputs": [
    {
     "data": {
      "text/plain": [
       "'Prasanth kumar Dasari'"
      ]
     },
     "execution_count": 94,
     "metadata": {},
     "output_type": "execute_result"
    }
   ],
   "source": [
    "Name.strip('kumar')"
   ]
  },
  {
   "cell_type": "code",
   "execution_count": 95,
   "id": "5d796f9f",
   "metadata": {},
   "outputs": [],
   "source": [
    "Name='   Prasanth'"
   ]
  },
  {
   "cell_type": "code",
   "execution_count": 97,
   "id": "7950bc9f",
   "metadata": {},
   "outputs": [
    {
     "data": {
      "text/plain": [
       "'Prasanth'"
      ]
     },
     "execution_count": 97,
     "metadata": {},
     "output_type": "execute_result"
    }
   ],
   "source": [
    "Name.strip()"
   ]
  },
  {
   "cell_type": "code",
   "execution_count": 98,
   "id": "473922c4",
   "metadata": {},
   "outputs": [
    {
     "data": {
      "text/plain": [
       "'   Prasanth'"
      ]
     },
     "execution_count": 98,
     "metadata": {},
     "output_type": "execute_result"
    }
   ],
   "source": [
    "Name"
   ]
  },
  {
   "cell_type": "code",
   "execution_count": 99,
   "id": "82858f0c",
   "metadata": {},
   "outputs": [],
   "source": [
    "Name=Name.strip()"
   ]
  },
  {
   "cell_type": "code",
   "execution_count": 100,
   "id": "e955c3ab",
   "metadata": {},
   "outputs": [
    {
     "data": {
      "text/plain": [
       "'Prasanth'"
      ]
     },
     "execution_count": 100,
     "metadata": {},
     "output_type": "execute_result"
    }
   ],
   "source": [
    "Name"
   ]
  },
  {
   "cell_type": "code",
   "execution_count": 101,
   "id": "a5e09aae",
   "metadata": {},
   "outputs": [],
   "source": [
    "Name=Name.upper()"
   ]
  },
  {
   "cell_type": "code",
   "execution_count": 102,
   "id": "b30b5b7a",
   "metadata": {},
   "outputs": [
    {
     "data": {
      "text/plain": [
       "'PRASANTH'"
      ]
     },
     "execution_count": 102,
     "metadata": {},
     "output_type": "execute_result"
    }
   ],
   "source": [
    "Name"
   ]
  },
  {
   "cell_type": "code",
   "execution_count": 103,
   "id": "f39a8276",
   "metadata": {},
   "outputs": [
    {
     "data": {
      "text/plain": [
       "True"
      ]
     },
     "execution_count": 103,
     "metadata": {},
     "output_type": "execute_result"
    }
   ],
   "source": [
    "Name.isupper()"
   ]
  },
  {
   "cell_type": "code",
   "execution_count": 104,
   "id": "cc07b359",
   "metadata": {},
   "outputs": [
    {
     "data": {
      "text/plain": [
       "False"
      ]
     },
     "execution_count": 104,
     "metadata": {},
     "output_type": "execute_result"
    }
   ],
   "source": [
    "Name.islower()"
   ]
  },
  {
   "cell_type": "code",
   "execution_count": 105,
   "id": "2bc6cd2f",
   "metadata": {},
   "outputs": [
    {
     "data": {
      "text/plain": [
       "'PRASANTH'"
      ]
     },
     "execution_count": 105,
     "metadata": {},
     "output_type": "execute_result"
    }
   ],
   "source": [
    "Name"
   ]
  },
  {
   "cell_type": "code",
   "execution_count": 106,
   "id": "3a9dcdf5",
   "metadata": {},
   "outputs": [],
   "source": [
    "Name=Name.lower()"
   ]
  },
  {
   "cell_type": "code",
   "execution_count": 107,
   "id": "16f76c53",
   "metadata": {},
   "outputs": [
    {
     "data": {
      "text/plain": [
       "'prasanth'"
      ]
     },
     "execution_count": 107,
     "metadata": {},
     "output_type": "execute_result"
    }
   ],
   "source": [
    "Name"
   ]
  },
  {
   "cell_type": "code",
   "execution_count": 108,
   "id": "42850c92",
   "metadata": {},
   "outputs": [
    {
     "data": {
      "text/plain": [
       "True"
      ]
     },
     "execution_count": 108,
     "metadata": {},
     "output_type": "execute_result"
    }
   ],
   "source": [
    "Name.islower()"
   ]
  },
  {
   "cell_type": "code",
   "execution_count": 1,
   "id": "9011bb54",
   "metadata": {},
   "outputs": [
    {
     "ename": "NameError",
     "evalue": "name 'Name' is not defined",
     "output_type": "error",
     "traceback": [
      "\u001b[1;31m---------------------------------------------------------------------------\u001b[0m",
      "\u001b[1;31mNameError\u001b[0m                                 Traceback (most recent call last)",
      "Input \u001b[1;32mIn [1]\u001b[0m, in \u001b[0;36m<cell line: 1>\u001b[1;34m()\u001b[0m\n\u001b[1;32m----> 1\u001b[0m \u001b[43mName\u001b[49m\n",
      "\u001b[1;31mNameError\u001b[0m: name 'Name' is not defined"
     ]
    }
   ],
   "source": [
    "Name"
   ]
  },
  {
   "cell_type": "code",
   "execution_count": 2,
   "id": "e7d2749a",
   "metadata": {},
   "outputs": [
    {
     "ename": "NameError",
     "evalue": "name 'Name' is not defined",
     "output_type": "error",
     "traceback": [
      "\u001b[1;31m---------------------------------------------------------------------------\u001b[0m",
      "\u001b[1;31mNameError\u001b[0m                                 Traceback (most recent call last)",
      "Input \u001b[1;32mIn [2]\u001b[0m, in \u001b[0;36m<cell line: 1>\u001b[1;34m()\u001b[0m\n\u001b[1;32m----> 1\u001b[0m \u001b[43mName\u001b[49m\n",
      "\u001b[1;31mNameError\u001b[0m: name 'Name' is not defined"
     ]
    }
   ],
   "source": [
    "Name"
   ]
  },
  {
   "cell_type": "code",
   "execution_count": 3,
   "id": "0ab320e2",
   "metadata": {},
   "outputs": [],
   "source": [
    "Name = 'Prasanth Kumar Dasari'"
   ]
  },
  {
   "cell_type": "code",
   "execution_count": 4,
   "id": "3651b2ba",
   "metadata": {},
   "outputs": [
    {
     "data": {
      "text/plain": [
       "'Prasanth Kumar Dasari'"
      ]
     },
     "execution_count": 4,
     "metadata": {},
     "output_type": "execute_result"
    }
   ],
   "source": [
    "Name"
   ]
  },
  {
   "cell_type": "code",
   "execution_count": 5,
   "id": "2af31730",
   "metadata": {},
   "outputs": [
    {
     "data": {
      "text/plain": [
       "True"
      ]
     },
     "execution_count": 5,
     "metadata": {},
     "output_type": "execute_result"
    }
   ],
   "source": [
    "Name.istitle()"
   ]
  },
  {
   "cell_type": "code",
   "execution_count": 6,
   "id": "905cc091",
   "metadata": {},
   "outputs": [
    {
     "data": {
      "text/plain": [
       "False"
      ]
     },
     "execution_count": 6,
     "metadata": {},
     "output_type": "execute_result"
    }
   ],
   "source": [
    "Name.isalpha()"
   ]
  },
  {
   "cell_type": "code",
   "execution_count": 1,
   "id": "506e4d29",
   "metadata": {},
   "outputs": [
    {
     "ename": "NameError",
     "evalue": "name 'Name' is not defined",
     "output_type": "error",
     "traceback": [
      "\u001b[1;31m---------------------------------------------------------------------------\u001b[0m",
      "\u001b[1;31mNameError\u001b[0m                                 Traceback (most recent call last)",
      "Input \u001b[1;32mIn [1]\u001b[0m, in \u001b[0;36m<cell line: 1>\u001b[1;34m()\u001b[0m\n\u001b[1;32m----> 1\u001b[0m \u001b[43mName\u001b[49m\n",
      "\u001b[1;31mNameError\u001b[0m: name 'Name' is not defined"
     ]
    }
   ],
   "source": [
    "Name"
   ]
  },
  {
   "cell_type": "code",
   "execution_count": 2,
   "id": "be0511d1",
   "metadata": {},
   "outputs": [],
   "source": [
    "Name='Prasanth kumar Dasari'"
   ]
  },
  {
   "cell_type": "code",
   "execution_count": 3,
   "id": "c8e506d0",
   "metadata": {},
   "outputs": [
    {
     "data": {
      "text/plain": [
       "'Prasanth kumar Dasari'"
      ]
     },
     "execution_count": 3,
     "metadata": {},
     "output_type": "execute_result"
    }
   ],
   "source": [
    "Name"
   ]
  },
  {
   "cell_type": "code",
   "execution_count": 4,
   "id": "fc780f2e",
   "metadata": {},
   "outputs": [
    {
     "data": {
      "text/plain": [
       "False"
      ]
     },
     "execution_count": 4,
     "metadata": {},
     "output_type": "execute_result"
    }
   ],
   "source": [
    "Name.startswith('p')"
   ]
  },
  {
   "cell_type": "code",
   "execution_count": 5,
   "id": "ba14f817",
   "metadata": {},
   "outputs": [
    {
     "data": {
      "text/plain": [
       "True"
      ]
     },
     "execution_count": 5,
     "metadata": {},
     "output_type": "execute_result"
    }
   ],
   "source": [
    "Name.startswith('P')"
   ]
  },
  {
   "cell_type": "code",
   "execution_count": 6,
   "id": "22d8203c",
   "metadata": {},
   "outputs": [],
   "source": [
    "List=['prasanth',1213,True,23+4J,24.2]"
   ]
  },
  {
   "cell_type": "code",
   "execution_count": 7,
   "id": "7c5a96d3",
   "metadata": {},
   "outputs": [
    {
     "data": {
      "text/plain": [
       "list"
      ]
     },
     "execution_count": 7,
     "metadata": {},
     "output_type": "execute_result"
    }
   ],
   "source": [
    "type(List)"
   ]
  },
  {
   "cell_type": "code",
   "execution_count": 8,
   "id": "bef38140",
   "metadata": {},
   "outputs": [
    {
     "data": {
      "text/plain": [
       "str"
      ]
     },
     "execution_count": 8,
     "metadata": {},
     "output_type": "execute_result"
    }
   ],
   "source": [
    "type(List[0])"
   ]
  },
  {
   "cell_type": "code",
   "execution_count": 9,
   "id": "49198ec6",
   "metadata": {},
   "outputs": [
    {
     "data": {
      "text/plain": [
       "int"
      ]
     },
     "execution_count": 9,
     "metadata": {},
     "output_type": "execute_result"
    }
   ],
   "source": [
    "type(List[1])"
   ]
  },
  {
   "cell_type": "code",
   "execution_count": 10,
   "id": "65454fc2",
   "metadata": {},
   "outputs": [
    {
     "data": {
      "text/plain": [
       "complex"
      ]
     },
     "execution_count": 10,
     "metadata": {},
     "output_type": "execute_result"
    }
   ],
   "source": [
    "type(List[3])"
   ]
  },
  {
   "cell_type": "code",
   "execution_count": 11,
   "id": "763e48c5",
   "metadata": {},
   "outputs": [
    {
     "data": {
      "text/plain": [
       "bool"
      ]
     },
     "execution_count": 11,
     "metadata": {},
     "output_type": "execute_result"
    }
   ],
   "source": [
    "type(List[2])"
   ]
  },
  {
   "cell_type": "code",
   "execution_count": 12,
   "id": "5e5f6e16",
   "metadata": {},
   "outputs": [
    {
     "data": {
      "text/plain": [
       "float"
      ]
     },
     "execution_count": 12,
     "metadata": {},
     "output_type": "execute_result"
    }
   ],
   "source": [
    "type(List[4])"
   ]
  },
  {
   "cell_type": "code",
   "execution_count": 13,
   "id": "6db74e8f",
   "metadata": {},
   "outputs": [
    {
     "data": {
      "text/plain": [
       "[24.2, (23+4j), True, 1213, 'prasanth']"
      ]
     },
     "execution_count": 13,
     "metadata": {},
     "output_type": "execute_result"
    }
   ],
   "source": [
    "List[::-1]"
   ]
  },
  {
   "cell_type": "code",
   "execution_count": 15,
   "id": "8cba4c56",
   "metadata": {},
   "outputs": [
    {
     "data": {
      "text/plain": [
       "'p'"
      ]
     },
     "execution_count": 15,
     "metadata": {},
     "output_type": "execute_result"
    }
   ],
   "source": [
    "List[0][0]"
   ]
  },
  {
   "cell_type": "code",
   "execution_count": 16,
   "id": "94cf8c98",
   "metadata": {},
   "outputs": [
    {
     "name": "stderr",
     "output_type": "stream",
     "text": [
      "<>:1: SyntaxWarning: 'int' object is not subscriptable; perhaps you missed a comma?\n",
      "<>:1: SyntaxWarning: 'int' object is not subscriptable; perhaps you missed a comma?\n",
      "C:\\Users\\dpras\\AppData\\Local\\Temp\\ipykernel_19980\\2070687218.py:1: SyntaxWarning: 'int' object is not subscriptable; perhaps you missed a comma?\n",
      "  List[0[0:2]]\n",
      "C:\\Users\\dpras\\AppData\\Local\\Temp\\ipykernel_19980\\2070687218.py:1: SyntaxWarning: 'int' object is not subscriptable; perhaps you missed a comma?\n",
      "  List[0[0:2]]\n",
      "C:\\Users\\dpras\\AppData\\Local\\Temp\\ipykernel_19980\\2070687218.py:1: SyntaxWarning: 'int' object is not subscriptable; perhaps you missed a comma?\n",
      "  List[0[0:2]]\n",
      "C:\\Users\\dpras\\AppData\\Local\\Temp\\ipykernel_19980\\2070687218.py:1: SyntaxWarning: 'int' object is not subscriptable; perhaps you missed a comma?\n",
      "  List[0[0:2]]\n"
     ]
    },
    {
     "ename": "TypeError",
     "evalue": "'int' object is not subscriptable",
     "output_type": "error",
     "traceback": [
      "\u001b[1;31m---------------------------------------------------------------------------\u001b[0m",
      "\u001b[1;31mTypeError\u001b[0m                                 Traceback (most recent call last)",
      "Input \u001b[1;32mIn [16]\u001b[0m, in \u001b[0;36m<cell line: 1>\u001b[1;34m()\u001b[0m\n\u001b[1;32m----> 1\u001b[0m List[\u001b[38;5;241;43m0\u001b[39;49m\u001b[43m[\u001b[49m\u001b[38;5;241;43m0\u001b[39;49m\u001b[43m:\u001b[49m\u001b[38;5;241;43m2\u001b[39;49m\u001b[43m]\u001b[49m]\n",
      "\u001b[1;31mTypeError\u001b[0m: 'int' object is not subscriptable"
     ]
    }
   ],
   "source": [
    "List[0[0:2]]"
   ]
  },
  {
   "cell_type": "code",
   "execution_count": 17,
   "id": "206f2e8a",
   "metadata": {},
   "outputs": [
    {
     "data": {
      "text/plain": [
       "'pr'"
      ]
     },
     "execution_count": 17,
     "metadata": {},
     "output_type": "execute_result"
    }
   ],
   "source": [
    "List[0][0:2]"
   ]
  },
  {
   "cell_type": "code",
   "execution_count": 18,
   "id": "3c3b713e",
   "metadata": {},
   "outputs": [
    {
     "data": {
      "text/plain": [
       "'r'"
      ]
     },
     "execution_count": 18,
     "metadata": {},
     "output_type": "execute_result"
    }
   ],
   "source": [
    "List[0][1:2]"
   ]
  },
  {
   "cell_type": "code",
   "execution_count": 19,
   "id": "a2e96f85",
   "metadata": {},
   "outputs": [],
   "source": [
    "L=['prasanth',1213,True,23+4J,24.2]"
   ]
  },
  {
   "cell_type": "code",
   "execution_count": 20,
   "id": "7d95ef41",
   "metadata": {},
   "outputs": [
    {
     "ename": "TypeError",
     "evalue": "can only concatenate list (not \"str\") to list",
     "output_type": "error",
     "traceback": [
      "\u001b[1;31m---------------------------------------------------------------------------\u001b[0m",
      "\u001b[1;31mTypeError\u001b[0m                                 Traceback (most recent call last)",
      "Input \u001b[1;32mIn [20]\u001b[0m, in \u001b[0;36m<cell line: 1>\u001b[1;34m()\u001b[0m\n\u001b[1;32m----> 1\u001b[0m \u001b[43mL\u001b[49m\u001b[38;5;241;43m+\u001b[39;49m\u001b[38;5;124;43m'\u001b[39;49m\u001b[38;5;124;43mKumar\u001b[39;49m\u001b[38;5;124;43m'\u001b[39;49m\n",
      "\u001b[1;31mTypeError\u001b[0m: can only concatenate list (not \"str\") to list"
     ]
    }
   ],
   "source": [
    "L+'Kumar'"
   ]
  },
  {
   "cell_type": "code",
   "execution_count": 21,
   "id": "aba76e21",
   "metadata": {},
   "outputs": [
    {
     "data": {
      "text/plain": [
       "['prasanth', 1213, True, (23+4j), 24.2, 'Kumar']"
      ]
     },
     "execution_count": 21,
     "metadata": {},
     "output_type": "execute_result"
    }
   ],
   "source": [
    "L+['Kumar']"
   ]
  },
  {
   "cell_type": "code",
   "execution_count": 22,
   "id": "120ade0b",
   "metadata": {},
   "outputs": [
    {
     "data": {
      "text/plain": [
       "['prasanth', 1213, True, (23+4j), 24.2, 'prasanth', 1213, True, (23+4j), 24.2]"
      ]
     },
     "execution_count": 22,
     "metadata": {},
     "output_type": "execute_result"
    }
   ],
   "source": [
    "L*2"
   ]
  },
  {
   "cell_type": "code",
   "execution_count": 23,
   "id": "9f165ba0",
   "metadata": {},
   "outputs": [
    {
     "data": {
      "text/plain": [
       "['prasanth', 1213, True, (23+4j), 24.2]"
      ]
     },
     "execution_count": 23,
     "metadata": {},
     "output_type": "execute_result"
    }
   ],
   "source": [
    "L"
   ]
  },
  {
   "cell_type": "code",
   "execution_count": 24,
   "id": "63d40808",
   "metadata": {},
   "outputs": [],
   "source": [
    "L[0] = 'Prasanth Kumar'"
   ]
  },
  {
   "cell_type": "code",
   "execution_count": 25,
   "id": "ac09ecd7",
   "metadata": {},
   "outputs": [
    {
     "data": {
      "text/plain": [
       "['Prasanth Kumar', 1213, True, (23+4j), 24.2]"
      ]
     },
     "execution_count": 25,
     "metadata": {},
     "output_type": "execute_result"
    }
   ],
   "source": [
    "L"
   ]
  },
  {
   "cell_type": "code",
   "execution_count": 1,
   "id": "f9ac4941",
   "metadata": {},
   "outputs": [],
   "source": [
    "L=['prasanth',1213,True,23+4J,24.2]\n"
   ]
  },
  {
   "cell_type": "code",
   "execution_count": 2,
   "id": "07828a21",
   "metadata": {},
   "outputs": [
    {
     "data": {
      "text/plain": [
       "['prasanth', 1213, True, (23+4j), 24.2]"
      ]
     },
     "execution_count": 2,
     "metadata": {},
     "output_type": "execute_result"
    }
   ],
   "source": [
    "L"
   ]
  },
  {
   "cell_type": "code",
   "execution_count": 3,
   "id": "8dcbb262",
   "metadata": {},
   "outputs": [],
   "source": [
    "#############################################Append function#################################################3\n",
    "L.append(\"Kumar\")"
   ]
  },
  {
   "cell_type": "code",
   "execution_count": 4,
   "id": "c1fea54f",
   "metadata": {},
   "outputs": [
    {
     "data": {
      "text/plain": [
       "['prasanth', 1213, True, (23+4j), 24.2, 'Kumar']"
      ]
     },
     "execution_count": 4,
     "metadata": {},
     "output_type": "execute_result"
    }
   ],
   "source": [
    "L"
   ]
  },
  {
   "cell_type": "code",
   "execution_count": 5,
   "id": "6ad902af",
   "metadata": {},
   "outputs": [],
   "source": [
    "L.append(\"Dasari\")"
   ]
  },
  {
   "cell_type": "code",
   "execution_count": 6,
   "id": "c904da93",
   "metadata": {},
   "outputs": [
    {
     "data": {
      "text/plain": [
       "['prasanth', 1213, True, (23+4j), 24.2, 'Kumar', 'Dasari']"
      ]
     },
     "execution_count": 6,
     "metadata": {},
     "output_type": "execute_result"
    }
   ],
   "source": [
    "L"
   ]
  },
  {
   "cell_type": "code",
   "execution_count": 7,
   "id": "bb5978de",
   "metadata": {},
   "outputs": [
    {
     "data": {
      "text/plain": [
       "'Dasari'"
      ]
     },
     "execution_count": 7,
     "metadata": {},
     "output_type": "execute_result"
    }
   ],
   "source": [
    "###############################################pop function#####################################################\n",
    "L.pop()#pop operation will insert value at last"
   ]
  },
  {
   "cell_type": "code",
   "execution_count": 8,
   "id": "6b273c01",
   "metadata": {},
   "outputs": [
    {
     "data": {
      "text/plain": [
       "['prasanth', 1213, True, (23+4j), 24.2, 'Kumar']"
      ]
     },
     "execution_count": 8,
     "metadata": {},
     "output_type": "execute_result"
    }
   ],
   "source": [
    "L"
   ]
  },
  {
   "cell_type": "code",
   "execution_count": 9,
   "id": "9f58bb6b",
   "metadata": {},
   "outputs": [
    {
     "data": {
      "text/plain": [
       "(23+4j)"
      ]
     },
     "execution_count": 9,
     "metadata": {},
     "output_type": "execute_result"
    }
   ],
   "source": [
    "L.pop(3) #0123 third is removed"
   ]
  },
  {
   "cell_type": "code",
   "execution_count": 10,
   "id": "e2bfc780",
   "metadata": {},
   "outputs": [
    {
     "data": {
      "text/plain": [
       "['prasanth', 1213, True, 24.2, 'Kumar']"
      ]
     },
     "execution_count": 10,
     "metadata": {},
     "output_type": "execute_result"
    }
   ],
   "source": [
    "L"
   ]
  },
  {
   "cell_type": "code",
   "execution_count": 11,
   "id": "d162df67",
   "metadata": {},
   "outputs": [],
   "source": [
    "###########################################################insert function#######################################\n",
    "#here lets try inserting value in list at anu place\n",
    "L.insert(1,\"Kumar\")# we have inserted value at second place"
   ]
  },
  {
   "cell_type": "code",
   "execution_count": 12,
   "id": "4ea10b4e",
   "metadata": {},
   "outputs": [
    {
     "data": {
      "text/plain": [
       "['prasanth', 'Kumar', 1213, True, 24.2, 'Kumar']"
      ]
     },
     "execution_count": 12,
     "metadata": {},
     "output_type": "execute_result"
    }
   ],
   "source": [
    "L"
   ]
  },
  {
   "cell_type": "code",
   "execution_count": 13,
   "id": "ade1b9a0",
   "metadata": {},
   "outputs": [],
   "source": [
    "########################################################reverse function##########################\n",
    "L.reverse()"
   ]
  },
  {
   "cell_type": "code",
   "execution_count": 14,
   "id": "85c04ded",
   "metadata": {},
   "outputs": [
    {
     "data": {
      "text/plain": [
       "['Kumar', 24.2, True, 1213, 'Kumar', 'prasanth']"
      ]
     },
     "execution_count": 14,
     "metadata": {},
     "output_type": "execute_result"
    }
   ],
   "source": [
    "L"
   ]
  },
  {
   "cell_type": "code",
   "execution_count": 16,
   "id": "e1243d4d",
   "metadata": {},
   "outputs": [],
   "source": [
    "#######################################################extend#####################################\n",
    "L.extend([1,5,151,\"sdfs\"])"
   ]
  },
  {
   "cell_type": "code",
   "execution_count": 17,
   "id": "d4f03bca",
   "metadata": {},
   "outputs": [
    {
     "data": {
      "text/plain": [
       "['Kumar', 24.2, True, 1213, 'Kumar', 'prasanth', 1, 5, 151, 'sdfs']"
      ]
     },
     "execution_count": 17,
     "metadata": {},
     "output_type": "execute_result"
    }
   ],
   "source": [
    "L"
   ]
  },
  {
   "cell_type": "code",
   "execution_count": 24,
   "id": "f9b111cd",
   "metadata": {},
   "outputs": [],
   "source": [
    "K=\"3333333333333333333333333333333333333333333333333333333333333333333333333333333333333333333333333333333333333333\"*20"
   ]
  },
  {
   "cell_type": "code",
   "execution_count": 25,
   "id": "5ced9ee6",
   "metadata": {},
   "outputs": [
    {
     "data": {
      "text/plain": [
       "'33333333333333333333333333333333333333333333333333333333333333333333333333333333333333333333333333333333333333333333333333333333333333333333333333333333333333333333333333333333333333333333333333333333333333333333333333333333333333333333333333333333333333333333333333333333333333333333333333333333333333333333333333333333333333333333333333333333333333333333333333333333333333333333333333333333333333333333333333333333333333333333333333333333333333333333333333333333333333333333333333333333333333333333333333333333333333333333333333333333333333333333333333333333333333333333333333333333333333333333333333333333333333333333333333333333333333333333333333333333333333333333333333333333333333333333333333333333333333333333333333333333333333333333333333333333333333333333333333333333333333333333333333333333333333333333333333333333333333333333333333333333333333333333333333333333333333333333333333333333333333333333333333333333333333333333333333333333333333333333333333333333333333333333333333333333333333333333333333333333333333333333333333333333333333333333333333333333333333333333333333333333333333333333333333333333333333333333333333333333333333333333333333333333333333333333333333333333333333333333333333333333333333333333333333333333333333333333333333333333333333333333333333333333333333333333333333333333333333333333333333333333333333333333333333333333333333333333333333333333333333333333333333333333333333333333333333333333333333333333333333333333333333333333333333333333333333333333333333333333333333333333333333333333333333333333333333333333333333333333333333333333333333333333333333333333333333333333333333333333333333333333333333333333333333333333333333333333333333333333333333333333333333333333333333333333333333333333333333333333333333333333333333333333333333333333333333333333333333333333333333333333333333333333333333333333333333333333333333333333333333333333333333333333333333333333333333333333333333333333333333333333333333333333333333333333333333333333333333333333333333333333333333333333333333333333333333333333333333333333333333333333333333333333333333333333333333333333333333333333333333333333333333333333333333333333333333333333333333333333333333333333333333333333333333333333333333333333333333333333333333333333333333333333'"
      ]
     },
     "execution_count": 25,
     "metadata": {},
     "output_type": "execute_result"
    }
   ],
   "source": [
    "K"
   ]
  },
  {
   "cell_type": "code",
   "execution_count": 26,
   "id": "9b04deaa",
   "metadata": {},
   "outputs": [],
   "source": [
    "#########################################Tuple set and Dictionary###################################################"
   ]
  },
  {
   "cell_type": "code",
   "execution_count": 27,
   "id": "0fb63201",
   "metadata": {},
   "outputs": [],
   "source": [
    "p=(1,2,3,4,5)"
   ]
  },
  {
   "cell_type": "code",
   "execution_count": 28,
   "id": "997d4e00",
   "metadata": {},
   "outputs": [
    {
     "data": {
      "text/plain": [
       "tuple"
      ]
     },
     "execution_count": 28,
     "metadata": {},
     "output_type": "execute_result"
    }
   ],
   "source": [
    "type(p)"
   ]
  },
  {
   "cell_type": "code",
   "execution_count": 29,
   "id": "c1ecc0e3",
   "metadata": {},
   "outputs": [
    {
     "ename": "NameError",
     "evalue": "name 'sad' is not defined",
     "output_type": "error",
     "traceback": [
      "\u001b[1;31m---------------------------------------------------------------------------\u001b[0m",
      "\u001b[1;31mNameError\u001b[0m                                 Traceback (most recent call last)",
      "Input \u001b[1;32mIn [29]\u001b[0m, in \u001b[0;36m<cell line: 1>\u001b[1;34m()\u001b[0m\n\u001b[1;32m----> 1\u001b[0m p\u001b[38;5;241m=\u001b[39m(\u001b[38;5;241m12\u001b[39m,\u001b[38;5;241m3\u001b[39m,\u001b[38;5;241m23\u001b[39m,\u001b[38;5;241m24\u001b[39m,\u001b[43msad\u001b[49m,asda,sasd,asdasd)\n",
      "\u001b[1;31mNameError\u001b[0m: name 'sad' is not defined"
     ]
    }
   ],
   "source": [
    "p=(12,3,23,24,sad,asda,sasd,asdasd)"
   ]
  },
  {
   "cell_type": "code",
   "execution_count": 30,
   "id": "62aa0f69",
   "metadata": {},
   "outputs": [],
   "source": [
    "p=(12,3,23,24,\"sad\",\"asda\",\"sasd\",\"asdasd\")"
   ]
  },
  {
   "cell_type": "code",
   "execution_count": 31,
   "id": "6a70bbbc",
   "metadata": {},
   "outputs": [
    {
     "data": {
      "text/plain": [
       "tuple"
      ]
     },
     "execution_count": 31,
     "metadata": {},
     "output_type": "execute_result"
    }
   ],
   "source": [
    "type(p)"
   ]
  },
  {
   "cell_type": "code",
   "execution_count": 32,
   "id": "29912786",
   "metadata": {},
   "outputs": [
    {
     "data": {
      "text/plain": [
       "(12, 3, 23)"
      ]
     },
     "execution_count": 32,
     "metadata": {},
     "output_type": "execute_result"
    }
   ],
   "source": [
    "p[0:3]"
   ]
  },
  {
   "cell_type": "code",
   "execution_count": 34,
   "id": "9d63561c",
   "metadata": {},
   "outputs": [
    {
     "data": {
      "text/plain": [
       "('sad', 'asda', 'sasd', 'asdasd')"
      ]
     },
     "execution_count": 34,
     "metadata": {},
     "output_type": "execute_result"
    }
   ],
   "source": [
    "p[4:]"
   ]
  },
  {
   "cell_type": "code",
   "execution_count": 35,
   "id": "21b2e831",
   "metadata": {},
   "outputs": [
    {
     "data": {
      "text/plain": [
       "('asdasd', 'sasd', 'asda', 'sad', 24, 23, 3, 12)"
      ]
     },
     "execution_count": 35,
     "metadata": {},
     "output_type": "execute_result"
    }
   ],
   "source": [
    "p[::-1]"
   ]
  },
  {
   "cell_type": "code",
   "execution_count": 36,
   "id": "8b88a872",
   "metadata": {},
   "outputs": [
    {
     "ename": "AttributeError",
     "evalue": "'tuple' object has no attribute 'reverse'",
     "output_type": "error",
     "traceback": [
      "\u001b[1;31m---------------------------------------------------------------------------\u001b[0m",
      "\u001b[1;31mAttributeError\u001b[0m                            Traceback (most recent call last)",
      "Input \u001b[1;32mIn [36]\u001b[0m, in \u001b[0;36m<cell line: 1>\u001b[1;34m()\u001b[0m\n\u001b[1;32m----> 1\u001b[0m \u001b[43mp\u001b[49m\u001b[38;5;241;43m.\u001b[39;49m\u001b[43mreverse\u001b[49m()\n",
      "\u001b[1;31mAttributeError\u001b[0m: 'tuple' object has no attribute 'reverse'"
     ]
    }
   ],
   "source": [
    "p.reverse()"
   ]
  },
  {
   "cell_type": "code",
   "execution_count": 37,
   "id": "04f0112a",
   "metadata": {},
   "outputs": [
    {
     "data": {
      "text/plain": [
       "'asdasd'"
      ]
     },
     "execution_count": 37,
     "metadata": {},
     "output_type": "execute_result"
    }
   ],
   "source": [
    "p[-1]"
   ]
  },
  {
   "cell_type": "code",
   "execution_count": 38,
   "id": "5087fe6e",
   "metadata": {},
   "outputs": [
    {
     "data": {
      "text/plain": [
       "(12, 23, 'sad', 'sasd')"
      ]
     },
     "execution_count": 38,
     "metadata": {},
     "output_type": "execute_result"
    }
   ],
   "source": [
    "p[0::2]"
   ]
  },
  {
   "cell_type": "code",
   "execution_count": 39,
   "id": "3dfd0473",
   "metadata": {},
   "outputs": [
    {
     "data": {
      "text/plain": [
       "(12, 3, 23, 24, 'sad', 'asda', 'sasd', 'asdasd')"
      ]
     },
     "execution_count": 39,
     "metadata": {},
     "output_type": "execute_result"
    }
   ],
   "source": [
    "p"
   ]
  },
  {
   "cell_type": "code",
   "execution_count": 41,
   "id": "987ef62e",
   "metadata": {},
   "outputs": [
    {
     "ename": "TypeError",
     "evalue": "'tuple' object does not support item assignment",
     "output_type": "error",
     "traceback": [
      "\u001b[1;31m---------------------------------------------------------------------------\u001b[0m",
      "\u001b[1;31mTypeError\u001b[0m                                 Traceback (most recent call last)",
      "Input \u001b[1;32mIn [41]\u001b[0m, in \u001b[0;36m<cell line: 1>\u001b[1;34m()\u001b[0m\n\u001b[1;32m----> 1\u001b[0m p[\u001b[38;5;241m5\u001b[39m]\u001b[38;5;241m=\u001b[39m\u001b[38;5;124m\"\u001b[39m\u001b[38;5;124mPrasanth\u001b[39m\u001b[38;5;124m\"\u001b[39m\n",
      "\u001b[1;31mTypeError\u001b[0m: 'tuple' object does not support item assignment"
     ]
    }
   ],
   "source": [
    "p[5]=\"Prasanth\""
   ]
  },
  {
   "cell_type": "code",
   "execution_count": 42,
   "id": "eb2f934b",
   "metadata": {},
   "outputs": [
    {
     "data": {
      "text/plain": [
       "(12, 3, 23, 24, 'sad', 'asda', 'sasd', 'asdasd')"
      ]
     },
     "execution_count": 42,
     "metadata": {},
     "output_type": "execute_result"
    }
   ],
   "source": [
    "p"
   ]
  },
  {
   "cell_type": "code",
   "execution_count": 43,
   "id": "b9a54d1a",
   "metadata": {},
   "outputs": [],
   "source": [
    "r=(\"erwer\",\"werwwe\",2321,32,23)"
   ]
  },
  {
   "cell_type": "code",
   "execution_count": 46,
   "id": "a2058b60",
   "metadata": {},
   "outputs": [
    {
     "data": {
      "text/plain": [
       "(12,\n",
       " 3,\n",
       " 23,\n",
       " 24,\n",
       " 'sad',\n",
       " 'asda',\n",
       " 'sasd',\n",
       " 'asdasd',\n",
       " 'erwer',\n",
       " 'werwwe',\n",
       " 2321,\n",
       " 32,\n",
       " 23)"
      ]
     },
     "execution_count": 46,
     "metadata": {},
     "output_type": "execute_result"
    }
   ],
   "source": [
    "#############################################append operation###########################################3\n",
    "p+r"
   ]
  },
  {
   "cell_type": "code",
   "execution_count": 47,
   "id": "def59dda",
   "metadata": {},
   "outputs": [
    {
     "ename": "TypeError",
     "evalue": "tuple.count() takes exactly one argument (0 given)",
     "output_type": "error",
     "traceback": [
      "\u001b[1;31m---------------------------------------------------------------------------\u001b[0m",
      "\u001b[1;31mTypeError\u001b[0m                                 Traceback (most recent call last)",
      "Input \u001b[1;32mIn [47]\u001b[0m, in \u001b[0;36m<cell line: 1>\u001b[1;34m()\u001b[0m\n\u001b[1;32m----> 1\u001b[0m \u001b[43mp\u001b[49m\u001b[38;5;241;43m.\u001b[39;49m\u001b[43mcount\u001b[49m\u001b[43m(\u001b[49m\u001b[43m)\u001b[49m\n",
      "\u001b[1;31mTypeError\u001b[0m: tuple.count() takes exactly one argument (0 given)"
     ]
    }
   ],
   "source": [
    "p.count()"
   ]
  },
  {
   "cell_type": "code",
   "execution_count": 48,
   "id": "71c5e874",
   "metadata": {},
   "outputs": [
    {
     "ename": "AttributeError",
     "evalue": "'builtin_function_or_method' object has no attribute 'p'",
     "output_type": "error",
     "traceback": [
      "\u001b[1;31m---------------------------------------------------------------------------\u001b[0m",
      "\u001b[1;31mAttributeError\u001b[0m                            Traceback (most recent call last)",
      "Input \u001b[1;32mIn [48]\u001b[0m, in \u001b[0;36m<cell line: 1>\u001b[1;34m()\u001b[0m\n\u001b[1;32m----> 1\u001b[0m \u001b[38;5;28;43mlen\u001b[39;49m\u001b[38;5;241;43m.\u001b[39;49m\u001b[43mp\u001b[49m\n",
      "\u001b[1;31mAttributeError\u001b[0m: 'builtin_function_or_method' object has no attribute 'p'"
     ]
    }
   ],
   "source": [
    "len.p"
   ]
  },
  {
   "cell_type": "code",
   "execution_count": 49,
   "id": "30f6c5b4",
   "metadata": {},
   "outputs": [
    {
     "data": {
      "text/plain": [
       "8"
      ]
     },
     "execution_count": 49,
     "metadata": {},
     "output_type": "execute_result"
    }
   ],
   "source": [
    "len(p)"
   ]
  },
  {
   "cell_type": "code",
   "execution_count": 50,
   "id": "1e24c41a",
   "metadata": {},
   "outputs": [
    {
     "data": {
      "text/plain": [
       "1"
      ]
     },
     "execution_count": 50,
     "metadata": {},
     "output_type": "execute_result"
    }
   ],
   "source": [
    "p.count(23)"
   ]
  },
  {
   "cell_type": "code",
   "execution_count": 52,
   "id": "70eccd05",
   "metadata": {},
   "outputs": [
    {
     "ename": "NameError",
     "evalue": "name 'sdf' is not defined",
     "output_type": "error",
     "traceback": [
      "\u001b[1;31m---------------------------------------------------------------------------\u001b[0m",
      "\u001b[1;31mNameError\u001b[0m                                 Traceback (most recent call last)",
      "Input \u001b[1;32mIn [52]\u001b[0m, in \u001b[0;36m<cell line: 1>\u001b[1;34m()\u001b[0m\n\u001b[1;32m----> 1\u001b[0m s\u001b[38;5;241m=\u001b[39m(\u001b[38;5;241m1\u001b[39m,\u001b[38;5;241m2\u001b[39m,\u001b[38;5;241m3\u001b[39m,\u001b[38;5;241m12\u001b[39m,\u001b[43msdf\u001b[49m,sdfs,(\u001b[38;5;241m123\u001b[39m,\u001b[38;5;241m12313\u001b[39m,\u001b[38;5;241m343\u001b[39m,asd,d,e,q),\u001b[38;5;241m343\u001b[39m,\u001b[38;5;241m4\u001b[39m)\n",
      "\u001b[1;31mNameError\u001b[0m: name 'sdf' is not defined"
     ]
    }
   ],
   "source": [
    "s=(1,2,3,12,sdf,sdfs,(123,12313,343,asd,d,e,q),343,4)"
   ]
  },
  {
   "cell_type": "code",
   "execution_count": 53,
   "id": "95baaf22",
   "metadata": {},
   "outputs": [],
   "source": [
    "s=(1,2,3,12,\"sdf\",\"sdfs\",(123,12313,343,\"asd\",\"d\",\"e\",\"q\"),343,4)"
   ]
  },
  {
   "cell_type": "code",
   "execution_count": 54,
   "id": "71a3e23e",
   "metadata": {},
   "outputs": [
    {
     "data": {
      "text/plain": [
       "(1, 2, 3, 12, 'sdf', 'sdfs', (123, 12313, 343, 'asd', 'd', 'e', 'q'), 343, 4)"
      ]
     },
     "execution_count": 54,
     "metadata": {},
     "output_type": "execute_result"
    }
   ],
   "source": [
    "s"
   ]
  },
  {
   "cell_type": "code",
   "execution_count": 59,
   "id": "53ce1ebb",
   "metadata": {},
   "outputs": [
    {
     "ename": "TypeError",
     "evalue": "'tuple' object does not support item assignment",
     "output_type": "error",
     "traceback": [
      "\u001b[1;31m---------------------------------------------------------------------------\u001b[0m",
      "\u001b[1;31mTypeError\u001b[0m                                 Traceback (most recent call last)",
      "Input \u001b[1;32mIn [59]\u001b[0m, in \u001b[0;36m<cell line: 1>\u001b[1;34m()\u001b[0m\n\u001b[1;32m----> 1\u001b[0m s[\u001b[38;5;241m2\u001b[39m] \u001b[38;5;241m=\u001b[39m \u001b[38;5;241m9\u001b[39m\n",
      "\u001b[1;31mTypeError\u001b[0m: 'tuple' object does not support item assignment"
     ]
    }
   ],
   "source": [
    "s[2] = 9"
   ]
  },
  {
   "cell_type": "code",
   "execution_count": 63,
   "id": "82951de0",
   "metadata": {},
   "outputs": [],
   "source": [
    "s=((1,2,3,12,\"sdf\",\"sdfs\"),[123,12313,343,\"asd\",\"d\",\"e\",\"q\"],343,4)"
   ]
  },
  {
   "cell_type": "code",
   "execution_count": 64,
   "id": "5e7ab2c1",
   "metadata": {},
   "outputs": [
    {
     "data": {
      "text/plain": [
       "((1, 2, 3, 12, 'sdf', 'sdfs'), [123, 12313, 343, 'asd', 'd', 'e', 'q'], 343, 4)"
      ]
     },
     "execution_count": 64,
     "metadata": {},
     "output_type": "execute_result"
    }
   ],
   "source": [
    "s"
   ]
  },
  {
   "cell_type": "code",
   "execution_count": 66,
   "id": "1433ea1f",
   "metadata": {},
   "outputs": [
    {
     "data": {
      "text/plain": [
       "(1, 2, 3, 12, 'sdf', 'sdfs')"
      ]
     },
     "execution_count": 66,
     "metadata": {},
     "output_type": "execute_result"
    }
   ],
   "source": [
    "s[0]"
   ]
  },
  {
   "cell_type": "code",
   "execution_count": 68,
   "id": "013fb70c",
   "metadata": {},
   "outputs": [
    {
     "data": {
      "text/plain": [
       "343"
      ]
     },
     "execution_count": 68,
     "metadata": {},
     "output_type": "execute_result"
    }
   ],
   "source": [
    "s[1][2]"
   ]
  },
  {
   "cell_type": "code",
   "execution_count": 69,
   "id": "d9643709",
   "metadata": {},
   "outputs": [],
   "source": [
    "s[1][2]=\"Dasari\""
   ]
  },
  {
   "cell_type": "code",
   "execution_count": 70,
   "id": "3b60d358",
   "metadata": {},
   "outputs": [
    {
     "data": {
      "text/plain": [
       "((1, 2, 3, 12, 'sdf', 'sdfs'),\n",
       " [123, 12313, 'Dasari', 'asd', 'd', 'e', 'q'],\n",
       " 343,\n",
       " 4)"
      ]
     },
     "execution_count": 70,
     "metadata": {},
     "output_type": "execute_result"
    }
   ],
   "source": [
    "s"
   ]
  },
  {
   "cell_type": "code",
   "execution_count": 72,
   "id": "92c6d1f9",
   "metadata": {},
   "outputs": [],
   "source": [
    "q=[1,2,3,4,5,6,7,8,9,1,2,3,4,5,6,7,\"a\",\"s\",\"d\",\"f\",\"g\",\"h\",\"a\",\"s\",\"d\",\"f\",\"g\",\"h\"]"
   ]
  },
  {
   "cell_type": "code",
   "execution_count": 73,
   "id": "970074ac",
   "metadata": {},
   "outputs": [
    {
     "ename": "TypeError",
     "evalue": "'<' not supported between instances of 'str' and 'int'",
     "output_type": "error",
     "traceback": [
      "\u001b[1;31m---------------------------------------------------------------------------\u001b[0m",
      "\u001b[1;31mTypeError\u001b[0m                                 Traceback (most recent call last)",
      "Input \u001b[1;32mIn [73]\u001b[0m, in \u001b[0;36m<cell line: 1>\u001b[1;34m()\u001b[0m\n\u001b[1;32m----> 1\u001b[0m \u001b[43mq\u001b[49m\u001b[38;5;241;43m.\u001b[39;49m\u001b[43msort\u001b[49m\u001b[43m(\u001b[49m\u001b[43m)\u001b[49m\n",
      "\u001b[1;31mTypeError\u001b[0m: '<' not supported between instances of 'str' and 'int'"
     ]
    }
   ],
   "source": [
    "q.sort()"
   ]
  },
  {
   "cell_type": "code",
   "execution_count": 74,
   "id": "5fb7f7b2",
   "metadata": {},
   "outputs": [
    {
     "data": {
      "text/plain": [
       "{1, 2, 3, 4, 5, 6, 7, 8, 9, 'a', 'd', 'f', 'g', 'h', 's'}"
      ]
     },
     "execution_count": 74,
     "metadata": {},
     "output_type": "execute_result"
    }
   ],
   "source": [
    "set(q)"
   ]
  },
  {
   "cell_type": "code",
   "execution_count": 75,
   "id": "b083b6fd",
   "metadata": {},
   "outputs": [],
   "source": [
    "w={}"
   ]
  },
  {
   "cell_type": "code",
   "execution_count": 76,
   "id": "8b24c9b7",
   "metadata": {},
   "outputs": [
    {
     "data": {
      "text/plain": [
       "dict"
      ]
     },
     "execution_count": 76,
     "metadata": {},
     "output_type": "execute_result"
    }
   ],
   "source": [
    "type(w)"
   ]
  },
  {
   "cell_type": "code",
   "execution_count": 77,
   "id": "16e802d5",
   "metadata": {},
   "outputs": [],
   "source": [
    "e={1,2,2,3,3,3,4}"
   ]
  },
  {
   "cell_type": "code",
   "execution_count": 78,
   "id": "ca3017d7",
   "metadata": {},
   "outputs": [
    {
     "data": {
      "text/plain": [
       "set"
      ]
     },
     "execution_count": 78,
     "metadata": {},
     "output_type": "execute_result"
    }
   ],
   "source": [
    "type(e)"
   ]
  },
  {
   "cell_type": "code",
   "execution_count": 79,
   "id": "e51c4938",
   "metadata": {},
   "outputs": [
    {
     "data": {
      "text/plain": [
       "{1, 2, 3, 4}"
      ]
     },
     "execution_count": 79,
     "metadata": {},
     "output_type": "execute_result"
    }
   ],
   "source": [
    "e"
   ]
  },
  {
   "cell_type": "code",
   "execution_count": 80,
   "id": "4bfb8107",
   "metadata": {},
   "outputs": [
    {
     "data": {
      "text/plain": [
       "[1, 2, 3, 4]"
      ]
     },
     "execution_count": 80,
     "metadata": {},
     "output_type": "execute_result"
    }
   ],
   "source": [
    "list(e)"
   ]
  },
  {
   "cell_type": "code",
   "execution_count": 81,
   "id": "1ff32ebc",
   "metadata": {},
   "outputs": [
    {
     "data": {
      "text/plain": [
       "{1, 2, 3, 4}"
      ]
     },
     "execution_count": 81,
     "metadata": {},
     "output_type": "execute_result"
    }
   ],
   "source": [
    "e"
   ]
  },
  {
   "cell_type": "code",
   "execution_count": 82,
   "id": "fb426f98",
   "metadata": {},
   "outputs": [
    {
     "data": {
      "text/plain": [
       "3"
      ]
     },
     "execution_count": 82,
     "metadata": {},
     "output_type": "execute_result"
    }
   ],
   "source": [
    "list(e)[2]"
   ]
  },
  {
   "cell_type": "code",
   "execution_count": 83,
   "id": "a6dc0de7",
   "metadata": {},
   "outputs": [
    {
     "data": {
      "text/plain": [
       "{1, 2, 3, 4}"
      ]
     },
     "execution_count": 83,
     "metadata": {},
     "output_type": "execute_result"
    }
   ],
   "source": [
    "e"
   ]
  },
  {
   "cell_type": "code",
   "execution_count": 84,
   "id": "f8eba6f0",
   "metadata": {},
   "outputs": [],
   "source": [
    "e.add(\"Praanth\")"
   ]
  },
  {
   "cell_type": "code",
   "execution_count": 85,
   "id": "061746f5",
   "metadata": {},
   "outputs": [
    {
     "data": {
      "text/plain": [
       "{1, 2, 3, 4, 'Praanth'}"
      ]
     },
     "execution_count": 85,
     "metadata": {},
     "output_type": "execute_result"
    }
   ],
   "source": [
    "e"
   ]
  },
  {
   "cell_type": "code",
   "execution_count": 86,
   "id": "7772fa04",
   "metadata": {},
   "outputs": [
    {
     "ename": "TypeError",
     "evalue": "unhashable type: 'list'",
     "output_type": "error",
     "traceback": [
      "\u001b[1;31m---------------------------------------------------------------------------\u001b[0m",
      "\u001b[1;31mTypeError\u001b[0m                                 Traceback (most recent call last)",
      "Input \u001b[1;32mIn [86]\u001b[0m, in \u001b[0;36m<cell line: 1>\u001b[1;34m()\u001b[0m\n\u001b[1;32m----> 1\u001b[0m \u001b[43me\u001b[49m\u001b[38;5;241;43m.\u001b[39;49m\u001b[43madd\u001b[49m\u001b[43m(\u001b[49m\u001b[43m[\u001b[49m\u001b[38;5;241;43m1\u001b[39;49m\u001b[43m,\u001b[49m\u001b[38;5;241;43m2\u001b[39;49m\u001b[43m,\u001b[49m\u001b[38;5;241;43m23\u001b[39;49m\u001b[43m,\u001b[49m\u001b[38;5;241;43m3\u001b[39;49m\u001b[43m]\u001b[49m\u001b[43m)\u001b[49m\n",
      "\u001b[1;31mTypeError\u001b[0m: unhashable type: 'list'"
     ]
    }
   ],
   "source": [
    "e.add([1,2,23,3])"
   ]
  },
  {
   "cell_type": "code",
   "execution_count": 1,
   "id": "270a7a47",
   "metadata": {},
   "outputs": [],
   "source": [
    "e={1, 2, 3, 4, 'Praanth'}"
   ]
  },
  {
   "cell_type": "code",
   "execution_count": 2,
   "id": "31eb227a",
   "metadata": {},
   "outputs": [
    {
     "data": {
      "text/plain": [
       "{1, 2, 3, 4, 'Praanth'}"
      ]
     },
     "execution_count": 2,
     "metadata": {},
     "output_type": "execute_result"
    }
   ],
   "source": [
    "e"
   ]
  },
  {
   "cell_type": "code",
   "execution_count": 3,
   "id": "2ddf8c1b",
   "metadata": {},
   "outputs": [],
   "source": [
    "e.remove(1)"
   ]
  },
  {
   "cell_type": "code",
   "execution_count": 4,
   "id": "2d882666",
   "metadata": {},
   "outputs": [
    {
     "data": {
      "text/plain": [
       "{2, 3, 4, 'Praanth'}"
      ]
     },
     "execution_count": 4,
     "metadata": {},
     "output_type": "execute_result"
    }
   ],
   "source": [
    "e"
   ]
  },
  {
   "cell_type": "code",
   "execution_count": 5,
   "id": "6647baed",
   "metadata": {},
   "outputs": [
    {
     "ename": "TypeError",
     "evalue": "set.add() takes exactly one argument (5 given)",
     "output_type": "error",
     "traceback": [
      "\u001b[1;31m---------------------------------------------------------------------------\u001b[0m",
      "\u001b[1;31mTypeError\u001b[0m                                 Traceback (most recent call last)",
      "Input \u001b[1;32mIn [5]\u001b[0m, in \u001b[0;36m<cell line: 1>\u001b[1;34m()\u001b[0m\n\u001b[1;32m----> 1\u001b[0m \u001b[43me\u001b[49m\u001b[38;5;241;43m.\u001b[39;49m\u001b[43madd\u001b[49m\u001b[43m(\u001b[49m\u001b[38;5;241;43m11\u001b[39;49m\u001b[43m,\u001b[49m\u001b[38;5;241;43m2\u001b[39;49m\u001b[43m,\u001b[49m\u001b[38;5;241;43m2\u001b[39;49m\u001b[43m,\u001b[49m\u001b[38;5;241;43m3\u001b[39;49m\u001b[43m,\u001b[49m\u001b[38;5;241;43m3\u001b[39;49m\u001b[43m,\u001b[49m\u001b[43m)\u001b[49m\n",
      "\u001b[1;31mTypeError\u001b[0m: set.add() takes exactly one argument (5 given)"
     ]
    }
   ],
   "source": [
    "e.add(11,2,2,3,3,)"
   ]
  },
  {
   "cell_type": "code",
   "execution_count": null,
   "id": "f753322e",
   "metadata": {},
   "outputs": [],
   "source": [
    "e"
   ]
  },
  {
   "cell_type": "code",
   "execution_count": 6,
   "id": "ba424a36",
   "metadata": {},
   "outputs": [],
   "source": [
    "e.add(1)"
   ]
  },
  {
   "cell_type": "code",
   "execution_count": 7,
   "id": "2009f785",
   "metadata": {},
   "outputs": [
    {
     "data": {
      "text/plain": [
       "{1, 2, 3, 4, 'Praanth'}"
      ]
     },
     "execution_count": 7,
     "metadata": {},
     "output_type": "execute_result"
    }
   ],
   "source": [
    "e"
   ]
  },
  {
   "cell_type": "code",
   "execution_count": 8,
   "id": "b9186875",
   "metadata": {},
   "outputs": [
    {
     "ename": "TypeError",
     "evalue": "set.add() takes exactly one argument (2 given)",
     "output_type": "error",
     "traceback": [
      "\u001b[1;31m---------------------------------------------------------------------------\u001b[0m",
      "\u001b[1;31mTypeError\u001b[0m                                 Traceback (most recent call last)",
      "Input \u001b[1;32mIn [8]\u001b[0m, in \u001b[0;36m<cell line: 1>\u001b[1;34m()\u001b[0m\n\u001b[1;32m----> 1\u001b[0m \u001b[43me\u001b[49m\u001b[38;5;241;43m.\u001b[39;49m\u001b[43madd\u001b[49m\u001b[43m(\u001b[49m\u001b[38;5;124;43m\"\u001b[39;49m\u001b[38;5;124;43mhkadgf\u001b[39;49m\u001b[38;5;124;43m\"\u001b[39;49m\u001b[43m,\u001b[49m\u001b[38;5;124;43m\"\u001b[39;49m\u001b[38;5;124;43mkakhgds\u001b[39;49m\u001b[38;5;124;43m\"\u001b[39;49m\u001b[43m)\u001b[49m\n",
      "\u001b[1;31mTypeError\u001b[0m: set.add() takes exactly one argument (2 given)"
     ]
    }
   ],
   "source": [
    "e.add(\"hkadgf\",\"kakhgds\")"
   ]
  },
  {
   "cell_type": "code",
   "execution_count": 9,
   "id": "5e330d58",
   "metadata": {},
   "outputs": [],
   "source": [
    "e.add(\"hkadgf\")"
   ]
  },
  {
   "cell_type": "code",
   "execution_count": 10,
   "id": "65dc58bd",
   "metadata": {},
   "outputs": [
    {
     "data": {
      "text/plain": [
       "{1, 2, 3, 4, 'Praanth', 'hkadgf'}"
      ]
     },
     "execution_count": 10,
     "metadata": {},
     "output_type": "execute_result"
    }
   ],
   "source": [
    "e"
   ]
  },
  {
   "cell_type": "code",
   "execution_count": 11,
   "id": "a83ecf6a",
   "metadata": {},
   "outputs": [],
   "source": [
    "#########################################################remove and discard both do the same function####################\n",
    "e.discard(4)"
   ]
  },
  {
   "cell_type": "code",
   "execution_count": 12,
   "id": "b5bde654",
   "metadata": {},
   "outputs": [
    {
     "data": {
      "text/plain": [
       "{1, 2, 3, 'Praanth', 'hkadgf'}"
      ]
     },
     "execution_count": 12,
     "metadata": {},
     "output_type": "execute_result"
    }
   ],
   "source": [
    "e"
   ]
  },
  {
   "cell_type": "code",
   "execution_count": 14,
   "id": "421894ba",
   "metadata": {},
   "outputs": [],
   "source": [
    "##because its a case sensitive\n",
    "Name={\"Prasanth\",\"prasanth\"}"
   ]
  },
  {
   "cell_type": "code",
   "execution_count": 15,
   "id": "93096afe",
   "metadata": {},
   "outputs": [
    {
     "data": {
      "text/plain": [
       "{'Prasanth', 'prasanth'}"
      ]
     },
     "execution_count": 15,
     "metadata": {},
     "output_type": "execute_result"
    }
   ],
   "source": [
    "Name"
   ]
  },
  {
   "cell_type": "code",
   "execution_count": 20,
   "id": "99abf5da",
   "metadata": {},
   "outputs": [
    {
     "data": {
      "text/plain": [
       "'DictionaryDictionaryDictionaryDictionaryDictionaryDictionaryDictionaryDictionaryDictionaryDictionaryDictionaryDictionaryDictionaryDictionaryDictionaryDictionaryDictionaryDictionaryDictionaryDictionaryDictionaryDictionaryDictionaryDictionaryDictionaryDictionaryDictionaryDictionaryDictionaryDictionaryDictionaryDictionaryDictionaryDictionaryDictionaryDictionaryDictionaryDictionaryDictionaryDictionaryDictionaryDictionaryDictionaryDictionaryDictionaryDictionaryDictionaryDictionaryDictionaryDictionaryDictionaryDictionaryDictionaryDictionaryDictionaryDictionaryDictionaryDictionaryDictionaryDictionaryDictionaryDictionaryDictionaryDictionaryDictionaryDictionaryDictionaryDictionaryDictionaryDictionaryDictionaryDictionaryDictionaryDictionaryDictionaryDictionaryDictionaryDictionaryDictionaryDictionaryDictionaryDictionaryDictionaryDictionaryDictionaryDictionaryDictionaryDictionaryDictionaryDictionaryDictionaryDictionaryDictionaryDictionaryDictionaryDictionaryDictionaryDictionaryDictionaryDictionaryDictionaryDictionaryDictionaryDictionaryDictionaryDictionaryDictionaryDictionaryDictionaryDictionaryDictionaryDictionaryDictionaryDictionaryDictionaryDictionaryDictionaryDictionaryDictionaryDictionaryDictionaryDictionaryDictionaryDictionaryDictionaryDictionaryDictionaryDictionaryDictionaryDictionaryDictionaryDictionaryDictionaryDictionaryDictionaryDictionaryDictionaryDictionaryDictionaryDictionaryDictionaryDictionaryDictionaryDictionaryDictionaryDictionaryDictionaryDictionaryDictionaryDictionaryDictionaryDictionaryDictionaryDictionaryDictionaryDictionaryDictionaryDictionaryDictionaryDictionaryDictionaryDictionaryDictionaryDictionaryDictionaryDictionaryDictionaryDictionaryDictionaryDictionaryDictionaryDictionaryDictionaryDictionaryDictionaryDictionaryDictionaryDictionaryDictionaryDictionaryDictionaryDictionaryDictionaryDictionaryDictionaryDictionaryDictionaryDictionaryDictionaryDictionaryDictionaryDictionaryDictionaryDictionaryDictionaryDictionaryDictionaryDictionaryDictionaryDictionaryDictionaryDictionaryDictionaryDictionaryDictionaryDictionaryDictionaryDictionaryDictionaryDictionaryDictionaryDictionaryDictionaryDictionaryDictionaryDictionaryDictionaryDictionaryDictionaryDictionaryDictionaryDictionaryDictionaryDictionaryDictionaryDictionaryDictionaryDictionaryDictionaryDictionaryDictionaryDictionaryDictionaryDictionaryDictionaryDictionaryDictionaryDictionaryDictionaryDictionaryDictionaryDictionaryDictionaryDictionaryDictionaryDictionaryDictionaryDictionaryDictionaryDictionaryDictionaryDictionaryDictionaryDictionaryDictionaryDictionaryDictionaryDictionaryDictionaryDictionaryDictionaryDictionaryDictionaryDictionaryDictionaryDictionaryDictionaryDictionaryDictionaryDictionaryDictionaryDictionaryDictionaryDictionaryDictionaryDictionaryDictionaryDictionaryDictionaryDictionaryDictionaryDictionaryDictionaryDictionaryDictionaryDictionaryDictionaryDictionaryDictionaryDictionaryDictionaryDictionaryDictionaryDictionaryDictionaryDictionaryDictionaryDictionaryDictionaryDictionaryDictionaryDictionaryDictionaryDictionaryDictionaryDictionaryDictionaryDictionaryDictionaryDictionaryDictionaryDictionaryDictionaryDictionaryDictionaryDictionaryDictionaryDictionaryDictionaryDictionaryDictionaryDictionaryDictionaryDictionaryDictionaryDictionaryDictionaryDictionaryDictionaryDictionaryDictionaryDictionaryDictionaryDictionaryDictionaryDictionaryDictionaryDictionaryDictionaryDictionaryDictionaryDictionaryDictionaryDictionaryDictionaryDictionaryDictionaryDictionaryDictionaryDictionaryDictionaryDictionaryDictionaryDictionaryDictionaryDictionaryDictionaryDictionaryDictionaryDictionaryDictionaryDictionaryDictionaryDictionaryDictionaryDictionaryDictionaryDictionaryDictionaryDictionaryDictionaryDictionaryDictionaryDictionaryDictionaryDictionaryDictionaryDictionaryDictionaryDictionaryDictionaryDictionaryDictionaryDictionaryDictionaryDictionaryDictionaryDictionaryDictionaryDictionaryDictionaryDictionaryDictionaryDictionaryDictionaryDictionaryDictionaryDictionaryDictionaryDictionaryDictionaryDictionaryDictionaryDictionaryDictionaryDictionaryDictionaryDictionaryDictionaryDictionaryDictionaryDictionaryDictionaryDictionaryDictionaryDictionaryDictionaryDictionaryDictionaryDictionaryDictionaryDictionaryDictionaryDictionaryDictionaryDictionaryDictionaryDictionaryDictionaryDictionaryDictionaryDictionaryDictionaryDictionaryDictionaryDictionaryDictionaryDictionaryDictionaryDictionaryDictionaryDictionaryDictionaryDictionaryDictionaryDictionaryDictionaryDictionaryDictionaryDictionaryDictionaryDictionaryDictionaryDictionaryDictionaryDictionaryDictionaryDictionaryDictionaryDictionaryDictionaryDictionaryDictionaryDictionaryDictionaryDictionaryDictionaryDictionaryDictionaryDictionaryDictionaryDictionaryDictionaryDictionaryDictionaryDictionaryDictionaryDictionaryDictionaryDictionaryDictionaryDictionaryDictionaryDictionaryDictionaryDictionaryDictionaryDictionaryDictionaryDictionaryDictionaryDictionaryDictionaryDictionaryDictionaryDictionaryDictionaryDictionaryDictionaryDictionaryDictionaryDictionaryDictionaryDictionaryDictionaryDictionaryDictionaryDictionaryDictionaryDictionaryDictionaryDictionaryDictionaryDictionaryDictionaryDictionaryDictionaryDictionaryDictionaryDictionaryDictionaryDictionaryDictionaryDictionaryDictionaryDictionaryDictionaryDictionaryDictionaryDictionaryDictionaryDictionaryDictionaryDictionaryDictionaryDictionaryDictionaryDictionaryDictionaryDictionaryDictionaryDictionaryDictionaryDictionaryDictionaryDictionaryDictionaryDictionaryDictionaryDictionaryDictionaryDictionaryDictionaryDictionaryDictionaryDictionaryDictionaryDictionaryDictionaryDictionaryDictionaryDictionaryDictionaryDictionaryDictionaryDictionaryDictionaryDictionaryDictionaryDictionaryDictionaryDictionaryDictionaryDictionaryDictionaryDictionaryDictionaryDictionaryDictionaryDictionaryDictionaryDictionaryDictionaryDictionaryDictionaryDictionaryDictionaryDictionaryDictionaryDictionaryDictionaryDictionaryDictionaryDictionaryDictionaryDictionaryDictionaryDictionaryDictionaryDictionaryDictionaryDictionaryDictionaryDictionaryDictionaryDictionaryDictionaryDictionaryDictionaryDictionaryDictionaryDictionaryDictionaryDictionaryDictionaryDictionaryDictionaryDictionaryDictionaryDictionaryDictionaryDictionaryDictionaryDictionaryDictionaryDictionaryDictionaryDictionaryDictionaryDictionaryDictionaryDictionaryDictionaryDictionaryDictionaryDictionaryDictionaryDictionaryDictionaryDictionaryDictionaryDictionaryDictionaryDictionaryDictionaryDictionaryDictionaryDictionaryDictionaryDictionaryDictionaryDictionaryDictionaryDictionaryDictionaryDictionaryDictionaryDictionaryDictionaryDictionaryDictionaryDictionaryDictionaryDictionaryDictionaryDictionaryDictionaryDictionaryDictionaryDictionaryDictionaryDictionaryDictionaryDictionaryDictionaryDictionaryDictionaryDictionaryDictionaryDictionaryDictionaryDictionaryDictionaryDictionaryDictionaryDictionaryDictionaryDictionaryDictionaryDictionaryDictionaryDictionaryDictionaryDictionaryDictionaryDictionaryDictionaryDictionaryDictionaryDictionaryDictionaryDictionaryDictionaryDictionaryDictionaryDictionaryDictionaryDictionaryDictionaryDictionaryDictionaryDictionaryDictionaryDictionaryDictionaryDictionaryDictionaryDictionaryDictionaryDictionaryDictionaryDictionaryDictionaryDictionaryDictionaryDictionaryDictionaryDictionaryDictionaryDictionaryDictionaryDictionaryDictionaryDictionaryDictionaryDictionaryDictionaryDictionaryDictionaryDictionaryDictionaryDictionaryDictionaryDictionaryDictionaryDictionaryDictionaryDictionaryDictionaryDictionaryDictionaryDictionaryDictionaryDictionaryDictionaryDictionaryDictionaryDictionaryDictionaryDictionaryDictionaryDictionaryDictionaryDictionaryDictionaryDictionaryDictionaryDictionaryDictionaryDictionaryDictionaryDictionaryDictionaryDictionaryDictionaryDictionaryDictionaryDictionaryDictionaryDictionaryDictionaryDictionaryDictionaryDictionaryDictionaryDictionaryDictionaryDictionaryDictionaryDictionaryDictionaryDictionaryDictionaryDictionaryDictionaryDictionaryDictionaryDictionaryDictionaryDictionaryDictionaryDictionaryDictionaryDictionaryDictionaryDictionaryDictionaryDictionaryDictionaryDictionaryDictionaryDictionaryDictionaryDictionaryDictionaryDictionaryDictionaryDictionaryDictionaryDictionaryDictionaryDictionaryDictionaryDictionaryDictionaryDictionaryDictionaryDictionaryDictionaryDictionaryDictionaryDictionaryDictionaryDictionaryDictionaryDictionaryDictionaryDictionaryDictionaryDictionaryDictionaryDictionaryDictionaryDictionaryDictionaryDictionaryDictionaryDictionaryDictionaryDictionaryDictionaryDictionaryDictionaryDictionaryDictionaryDictionaryDictionaryDictionaryDictionaryDictionaryDictionaryDictionaryDictionaryDictionaryDictionaryDictionaryDictionaryDictionaryDictionaryDictionaryDictionaryDictionaryDictionaryDictionaryDictionaryDictionaryDictionaryDictionaryDictionaryDictionaryDictionaryDictionaryDictionaryDictionaryDictionaryDictionaryDictionaryDictionaryDictionaryDictionaryDictionaryDictionaryDictionaryDictionaryDictionaryDictionaryDictionaryDictionaryDictionaryDictionaryDictionaryDictionaryDictionaryDictionaryDictionaryDictionaryDictionaryDictionaryDictionaryDictionaryDictionaryDictionaryDictionaryDictionaryDictionaryDictionaryDictionaryDictionaryDictionaryDictionaryDictionaryDictionaryDictionaryDictionaryDictionaryDictionaryDictionaryDictionaryDictionaryDictionaryDictionaryDictionaryDictionaryDictionaryDictionaryDictionaryDictionaryDictionaryDictionaryDictionaryDictionaryDictionaryDictionaryDictionaryDictionaryDictionaryDictionaryDictionaryDictionaryDictionaryDictionaryDictionaryDictionaryDictionaryDictionaryDictionaryDictionaryDictionaryDictionaryDictionaryDictionaryDictionaryDictionaryDictionaryDictionaryDictionaryDictionaryDictionaryDictionaryDictionaryDictionaryDictionaryDictionaryDictionaryDictionaryDictionaryDictionaryDictionaryDictionaryDictionaryDictionaryDictionaryDictionaryDictionaryDictionaryDictionaryDictionaryDictionaryDictionaryDictionaryDictionaryDictionaryDictionaryDictionaryDictionaryDictionaryDictionaryDictionaryDictionaryDictionary'"
      ]
     },
     "execution_count": 20,
     "metadata": {},
     "output_type": "execute_result"
    }
   ],
   "source": [
    "Na='Dictionary'\n",
    "Na*1000"
   ]
  },
  {
   "cell_type": "code",
   "execution_count": 21,
   "id": "8608b5b2",
   "metadata": {},
   "outputs": [],
   "source": [
    "d={}"
   ]
  },
  {
   "cell_type": "code",
   "execution_count": 22,
   "id": "38dafe55",
   "metadata": {},
   "outputs": [
    {
     "data": {
      "text/plain": [
       "dict"
      ]
     },
     "execution_count": 22,
     "metadata": {},
     "output_type": "execute_result"
    }
   ],
   "source": [
    "type(d)"
   ]
  },
  {
   "cell_type": "code",
   "execution_count": 30,
   "id": "add3ef79",
   "metadata": {},
   "outputs": [],
   "source": [
    "d={1,2,3,4,5,66,7,7}"
   ]
  },
  {
   "cell_type": "code",
   "execution_count": 31,
   "id": "b19d38bc",
   "metadata": {},
   "outputs": [
    {
     "data": {
      "text/plain": [
       "set"
      ]
     },
     "execution_count": 31,
     "metadata": {},
     "output_type": "execute_result"
    }
   ],
   "source": [
    "type(d)"
   ]
  },
  {
   "cell_type": "code",
   "execution_count": 25,
   "id": "958af606",
   "metadata": {},
   "outputs": [],
   "source": [
    "d={\"Name\":\"Prasanth\"}"
   ]
  },
  {
   "cell_type": "code",
   "execution_count": 26,
   "id": "8b6d76d0",
   "metadata": {},
   "outputs": [
    {
     "data": {
      "text/plain": [
       "{'Name': 'Prasanth'}"
      ]
     },
     "execution_count": 26,
     "metadata": {},
     "output_type": "execute_result"
    }
   ],
   "source": [
    "d"
   ]
  },
  {
   "cell_type": "code",
   "execution_count": 32,
   "id": "a0d098af",
   "metadata": {},
   "outputs": [
    {
     "data": {
      "text/plain": [
       "set"
      ]
     },
     "execution_count": 32,
     "metadata": {},
     "output_type": "execute_result"
    }
   ],
   "source": [
    "type(d)"
   ]
  },
  {
   "cell_type": "code",
   "execution_count": 33,
   "id": "3e1a47ae",
   "metadata": {},
   "outputs": [],
   "source": [
    "d={\"Name\":\"Prasanth\",\"sur_name\":\"Dasari\"}"
   ]
  },
  {
   "cell_type": "code",
   "execution_count": 34,
   "id": "a09d2183",
   "metadata": {},
   "outputs": [
    {
     "ename": "TypeError",
     "evalue": "'dict' object is not callable",
     "output_type": "error",
     "traceback": [
      "\u001b[1;31m---------------------------------------------------------------------------\u001b[0m",
      "\u001b[1;31mTypeError\u001b[0m                                 Traceback (most recent call last)",
      "Input \u001b[1;32mIn [34]\u001b[0m, in \u001b[0;36m<cell line: 1>\u001b[1;34m()\u001b[0m\n\u001b[1;32m----> 1\u001b[0m \u001b[43md\u001b[49m\u001b[43m(\u001b[49m\u001b[43mName\u001b[49m\u001b[43m)\u001b[49m\n",
      "\u001b[1;31mTypeError\u001b[0m: 'dict' object is not callable"
     ]
    }
   ],
   "source": [
    "d(Name)"
   ]
  },
  {
   "cell_type": "code",
   "execution_count": 35,
   "id": "03e36544",
   "metadata": {},
   "outputs": [
    {
     "ename": "TypeError",
     "evalue": "unhashable type: 'set'",
     "output_type": "error",
     "traceback": [
      "\u001b[1;31m---------------------------------------------------------------------------\u001b[0m",
      "\u001b[1;31mTypeError\u001b[0m                                 Traceback (most recent call last)",
      "Input \u001b[1;32mIn [35]\u001b[0m, in \u001b[0;36m<cell line: 1>\u001b[1;34m()\u001b[0m\n\u001b[1;32m----> 1\u001b[0m \u001b[43md\u001b[49m\u001b[43m[\u001b[49m\u001b[43mName\u001b[49m\u001b[43m]\u001b[49m\n",
      "\u001b[1;31mTypeError\u001b[0m: unhashable type: 'set'"
     ]
    }
   ],
   "source": [
    "d[Name]"
   ]
  },
  {
   "cell_type": "code",
   "execution_count": 36,
   "id": "a2b532f0",
   "metadata": {},
   "outputs": [
    {
     "data": {
      "text/plain": [
       "'Prasanth'"
      ]
     },
     "execution_count": 36,
     "metadata": {},
     "output_type": "execute_result"
    }
   ],
   "source": [
    "d[\"Name\"]"
   ]
  },
  {
   "cell_type": "code",
   "execution_count": 37,
   "id": "88a79d3c",
   "metadata": {},
   "outputs": [
    {
     "ename": "TypeError",
     "evalue": "'dict' object is not callable",
     "output_type": "error",
     "traceback": [
      "\u001b[1;31m---------------------------------------------------------------------------\u001b[0m",
      "\u001b[1;31mTypeError\u001b[0m                                 Traceback (most recent call last)",
      "Input \u001b[1;32mIn [37]\u001b[0m, in \u001b[0;36m<cell line: 1>\u001b[1;34m()\u001b[0m\n\u001b[1;32m----> 1\u001b[0m \u001b[43md\u001b[49m\u001b[43m(\u001b[49m\u001b[38;5;124;43m\"\u001b[39;49m\u001b[38;5;124;43mName\u001b[39;49m\u001b[38;5;124;43m\"\u001b[39;49m\u001b[43m)\u001b[49m\n",
      "\u001b[1;31mTypeError\u001b[0m: 'dict' object is not callable"
     ]
    }
   ],
   "source": [
    "d(\"Name\")"
   ]
  },
  {
   "cell_type": "code",
   "execution_count": 41,
   "id": "4e7999a7",
   "metadata": {},
   "outputs": [],
   "source": [
    "d={1:\"Prasanth\",2:\"Kumar\",3:\"Dasari\",4:{1,2,3,4,345,35,34,35,3,5,5,3,3,3},5:(1121,2,123,2,2,2,2,2),5:(1121,3,123,2,2,2,2,2)}"
   ]
  },
  {
   "cell_type": "code",
   "execution_count": 42,
   "id": "df0cf52c",
   "metadata": {},
   "outputs": [
    {
     "data": {
      "text/plain": [
       "dict_keys([1, 2, 3, 4, 5])"
      ]
     },
     "execution_count": 42,
     "metadata": {},
     "output_type": "execute_result"
    }
   ],
   "source": [
    "d.keys()"
   ]
  },
  {
   "cell_type": "code",
   "execution_count": 43,
   "id": "0fb6a007",
   "metadata": {},
   "outputs": [
    {
     "data": {
      "text/plain": [
       "(1121, 3, 123, 2, 2, 2, 2, 2)"
      ]
     },
     "execution_count": 43,
     "metadata": {},
     "output_type": "execute_result"
    }
   ],
   "source": [
    "d[5]"
   ]
  },
  {
   "cell_type": "code",
   "execution_count": 44,
   "id": "6646c8a6",
   "metadata": {},
   "outputs": [
    {
     "data": {
      "text/plain": [
       "<function dict.values>"
      ]
     },
     "execution_count": 44,
     "metadata": {},
     "output_type": "execute_result"
    }
   ],
   "source": [
    "d.values"
   ]
  },
  {
   "cell_type": "code",
   "execution_count": 45,
   "id": "f204d89b",
   "metadata": {},
   "outputs": [
    {
     "data": {
      "text/plain": [
       "dict_values(['Prasanth', 'Kumar', 'Dasari', {1, 2, 3, 4, 35, 34, 5, 345}, (1121, 3, 123, 2, 2, 2, 2, 2)])"
      ]
     },
     "execution_count": 45,
     "metadata": {},
     "output_type": "execute_result"
    }
   ],
   "source": [
    "d.values()"
   ]
  },
  {
   "cell_type": "code",
   "execution_count": 48,
   "id": "fb122269",
   "metadata": {},
   "outputs": [],
   "source": [
    "d[5]=\"Jupiter\""
   ]
  },
  {
   "cell_type": "code",
   "execution_count": 49,
   "id": "97a4bdfc",
   "metadata": {},
   "outputs": [
    {
     "data": {
      "text/plain": [
       "{1: 'Prasanth',\n",
       " 2: 'Kumar',\n",
       " 3: 'Dasari',\n",
       " 4: {1, 2, 3, 4, 5, 34, 35, 345},\n",
       " 5: 'Jupiter'}"
      ]
     },
     "execution_count": 49,
     "metadata": {},
     "output_type": "execute_result"
    }
   ],
   "source": [
    "d"
   ]
  },
  {
   "cell_type": "code",
   "execution_count": 50,
   "id": "175d2608",
   "metadata": {},
   "outputs": [],
   "source": [
    "del d[5]"
   ]
  },
  {
   "cell_type": "code",
   "execution_count": 51,
   "id": "affa2c3f",
   "metadata": {},
   "outputs": [
    {
     "data": {
      "text/plain": [
       "{1: 'Prasanth', 2: 'Kumar', 3: 'Dasari', 4: {1, 2, 3, 4, 5, 34, 35, 345}}"
      ]
     },
     "execution_count": 51,
     "metadata": {},
     "output_type": "execute_result"
    }
   ],
   "source": [
    "d"
   ]
  },
  {
   "cell_type": "code",
   "execution_count": 52,
   "id": "ba9be3cf",
   "metadata": {},
   "outputs": [
    {
     "data": {
      "text/plain": [
       "'Prasanth'"
      ]
     },
     "execution_count": 52,
     "metadata": {},
     "output_type": "execute_result"
    }
   ],
   "source": [
    "d.get(1)"
   ]
  },
  {
   "cell_type": "code",
   "execution_count": 53,
   "id": "6c398e91",
   "metadata": {},
   "outputs": [],
   "source": [
    "d1={\"Name\":\"Prasanth\",\"sur_name\":\"Dasari\"}"
   ]
  },
  {
   "cell_type": "code",
   "execution_count": 54,
   "id": "4b77aeed",
   "metadata": {},
   "outputs": [],
   "source": [
    "#######################################update function###############################\n",
    "d.update(d1)"
   ]
  },
  {
   "cell_type": "code",
   "execution_count": 55,
   "id": "e6296249",
   "metadata": {},
   "outputs": [
    {
     "data": {
      "text/plain": [
       "{1: 'Prasanth',\n",
       " 2: 'Kumar',\n",
       " 3: 'Dasari',\n",
       " 4: {1, 2, 3, 4, 5, 34, 35, 345},\n",
       " 'Name': 'Prasanth',\n",
       " 'sur_name': 'Dasari'}"
      ]
     },
     "execution_count": 55,
     "metadata": {},
     "output_type": "execute_result"
    }
   ],
   "source": [
    "d"
   ]
  },
  {
   "cell_type": "code",
   "execution_count": 56,
   "id": "12c6e0be",
   "metadata": {},
   "outputs": [
    {
     "ename": "TypeError",
     "evalue": "unsupported operand type(s) for +: 'dict' and 'dict'",
     "output_type": "error",
     "traceback": [
      "\u001b[1;31m---------------------------------------------------------------------------\u001b[0m",
      "\u001b[1;31mTypeError\u001b[0m                                 Traceback (most recent call last)",
      "Input \u001b[1;32mIn [56]\u001b[0m, in \u001b[0;36m<cell line: 1>\u001b[1;34m()\u001b[0m\n\u001b[1;32m----> 1\u001b[0m \u001b[43md\u001b[49m\u001b[38;5;241;43m+\u001b[39;49m\u001b[43md1\u001b[49m\n",
      "\u001b[1;31mTypeError\u001b[0m: unsupported operand type(s) for +: 'dict' and 'dict'"
     ]
    }
   ],
   "source": [
    "d+d1"
   ]
  },
  {
   "cell_type": "code",
   "execution_count": 57,
   "id": "fbcb83e5",
   "metadata": {},
   "outputs": [],
   "source": [
    "key=(1,2,3,4)\n",
    "values=(\"Prasanth\",\"Kumar\")"
   ]
  },
  {
   "cell_type": "code",
   "execution_count": 60,
   "id": "18fcec9a",
   "metadata": {},
   "outputs": [],
   "source": [
    "d=d1.fromkeys(key,values)"
   ]
  },
  {
   "cell_type": "code",
   "execution_count": 61,
   "id": "8e7ef914",
   "metadata": {},
   "outputs": [
    {
     "data": {
      "text/plain": [
       "{1: ('Prasanth', 'Kumar'),\n",
       " 2: ('Prasanth', 'Kumar'),\n",
       " 3: ('Prasanth', 'Kumar'),\n",
       " 4: ('Prasanth', 'Kumar')}"
      ]
     },
     "execution_count": 61,
     "metadata": {},
     "output_type": "execute_result"
    }
   ],
   "source": [
    "d"
   ]
  },
  {
   "cell_type": "code",
   "execution_count": 62,
   "id": "89e03414",
   "metadata": {},
   "outputs": [
    {
     "data": {
      "text/plain": [
       "{'Name': 'Prasanth', 'sur_name': 'Dasari'}"
      ]
     },
     "execution_count": 62,
     "metadata": {},
     "output_type": "execute_result"
    }
   ],
   "source": [
    "d1"
   ]
  },
  {
   "cell_type": "code",
   "execution_count": 63,
   "id": "9abee0e5",
   "metadata": {},
   "outputs": [],
   "source": [
    "d1=d1.fromkeys(key,values)"
   ]
  },
  {
   "cell_type": "code",
   "execution_count": 64,
   "id": "389f92fe",
   "metadata": {},
   "outputs": [
    {
     "data": {
      "text/plain": [
       "{1: ('Prasanth', 'Kumar'),\n",
       " 2: ('Prasanth', 'Kumar'),\n",
       " 3: ('Prasanth', 'Kumar'),\n",
       " 4: ('Prasanth', 'Kumar')}"
      ]
     },
     "execution_count": 64,
     "metadata": {},
     "output_type": "execute_result"
    }
   ],
   "source": [
    "d1"
   ]
  },
  {
   "cell_type": "code",
   "execution_count": 65,
   "id": "298d3497",
   "metadata": {},
   "outputs": [
    {
     "data": {
      "text/plain": [
       "{1: ('Prasanth', 'Kumar'),\n",
       " 2: ('Prasanth', 'Kumar'),\n",
       " 3: ('Prasanth', 'Kumar'),\n",
       " 4: ('Prasanth', 'Kumar')}"
      ]
     },
     "execution_count": 65,
     "metadata": {},
     "output_type": "execute_result"
    }
   ],
   "source": [
    "d1"
   ]
  },
  {
   "cell_type": "code",
   "execution_count": 66,
   "id": "7511936a",
   "metadata": {},
   "outputs": [
    {
     "data": {
      "text/plain": [
       "{1: ('Prasanth', 'Kumar'),\n",
       " 2: ('Prasanth', 'Kumar'),\n",
       " 3: ('Prasanth', 'Kumar'),\n",
       " 4: ('Prasanth', 'Kumar')}"
      ]
     },
     "execution_count": 66,
     "metadata": {},
     "output_type": "execute_result"
    }
   ],
   "source": [
    "d"
   ]
  },
  {
   "cell_type": "code",
   "execution_count": 10,
   "id": "70b8dd4c",
   "metadata": {},
   "outputs": [],
   "source": [
    "a=\"if,else and for loop \" \n"
   ]
  },
  {
   "cell_type": "code",
   "execution_count": 17,
   "id": "862fd07e",
   "metadata": {},
   "outputs": [
    {
     "name": "stdout",
     "output_type": "stream",
     "text": [
      "if,else and for loop if,else and for loop if,else and for loop if,else and for loop if,else and for loop if,else and for loop if,else and for loop if,else and for loop if,else and for loop if,else and for loop if,else and for loop if,else and for loop if,else and for loop if,else and for loop if,else and for loop if,else and for loop if,else and for loop if,else and for loop if,else and for loop if,else and for loop if,else and for loop if,else and for loop if,else and for loop if,else and for loop if,else and for loop if,else and for loop if,else and for loop if,else and for loop if,else and for loop if,else and for loop if,else and for loop if,else and for loop if,else and for loop if,else and for loop if,else and for loop if,else and for loop if,else and for loop if,else and for loop if,else and for loop if,else and for loop if,else and for loop if,else and for loop if,else and for loop if,else and for loop if,else and for loop if,else and for loop if,else and for loop if,else and for loop if,else and for loop if,else and for loop if,else and for loop if,else and for loop if,else and for loop if,else and for loop if,else and for loop if,else and for loop if,else and for loop if,else and for loop if,else and for loop if,else and for loop if,else and for loop if,else and for loop if,else and for loop if,else and for loop if,else and for loop if,else and for loop if,else and for loop if,else and for loop if,else and for loop if,else and for loop if,else and for loop if,else and for loop if,else and for loop if,else and for loop if,else and for loop if,else and for loop if,else and for loop if,else and for loop if,else and for loop if,else and for loop if,else and for loop if,else and for loop if,else and for loop if,else and for loop if,else and for loop if,else and for loop if,else and for loop if,else and for loop if,else and for loop if,else and for loop if,else and for loop if,else and for loop if,else and for loop if,else and for loop if,else and for loop if,else and for loop if,else and for loop if,else and for loop if,else and for loop if,else and for loop if,else and for loop if,else and for loop if,else and for loop if,else and for loop if,else and for loop if,else and for loop if,else and for loop if,else and for loop if,else and for loop if,else and for loop if,else and for loop if,else and for loop if,else and for loop if,else and for loop if,else and for loop if,else and for loop if,else and for loop if,else and for loop if,else and for loop if,else and for loop if,else and for loop if,else and for loop if,else and for loop if,else and for loop if,else and for loop if,else and for loop if,else and for loop if,else and for loop if,else and for loop if,else and for loop if,else and for loop if,else and for loop if,else and for loop if,else and for loop if,else and for loop if,else and for loop if,else and for loop if,else and for loop if,else and for loop if,else and for loop if,else and for loop if,else and for loop if,else and for loop if,else and for loop if,else and for loop if,else and for loop if,else and for loop if,else and for loop if,else and for loop if,else and for loop if,else and for loop if,else and for loop if,else and for loop if,else and for loop if,else and for loop if,else and for loop if,else and for loop if,else and for loop if,else and for loop if,else and for loop if,else and for loop if,else and for loop if,else and for loop if,else and for loop if,else and for loop if,else and for loop if,else and for loop if,else and for loop if,else and for loop if,else and for loop if,else and for loop if,else and for loop if,else and for loop if,else and for loop if,else and for loop if,else and for loop if,else and for loop if,else and for loop if,else and for loop if,else and for loop if,else and for loop if,else and for loop if,else and for loop if,else and for loop if,else and for loop if,else and for loop if,else and for loop if,else and for loop if,else and for loop if,else and for loop if,else and for loop if,else and for loop if,else and for loop if,else and for loop if,else and for loop if,else and for loop if,else and for loop if,else and for loop if,else and for loop if,else and for loop if,else and for loop if,else and for loop if,else and for loop if,else and for loop if,else and for loop if,else and for loop if,else and for loop if,else and for loop if,else and for loop if,else and for loop if,else and for loop if,else and for loop if,else and for loop if,else and for loop if,else and for loop if,else and for loop if,else and for loop if,else and for loop if,else and for loop if,else and for loop if,else and for loop if,else and for loop if,else and for loop if,else and for loop if,else and for loop if,else and for loop if,else and for loop if,else and for loop if,else and for loop if,else and for loop if,else and for loop if,else and for loop if,else and for loop if,else and for loop if,else and for loop if,else and for loop if,else and for loop if,else and for loop if,else and for loop if,else and for loop if,else and for loop if,else and for loop if,else and for loop if,else and for loop if,else and for loop if,else and for loop if,else and for loop if,else and for loop if,else and for loop if,else and for loop if,else and for loop if,else and for loop if,else and for loop if,else and for loop if,else and for loop if,else and for loop if,else and for loop if,else and for loop if,else and for loop if,else and for loop if,else and for loop if,else and for loop if,else and for loop if,else and for loop if,else and for loop if,else and for loop if,else and for loop if,else and for loop if,else and for loop if,else and for loop if,else and for loop if,else and for loop if,else and for loop if,else and for loop if,else and for loop if,else and for loop if,else and for loop if,else and for loop if,else and for loop if,else and for loop if,else and for loop if,else and for loop if,else and for loop if,else and for loop if,else and for loop if,else and for loop if,else and for loop if,else and for loop if,else and for loop if,else and for loop if,else and for loop if,else and for loop if,else and for loop if,else and for loop if,else and for loop if,else and for loop if,else and for loop if,else and for loop if,else and for loop if,else and for loop \n"
     ]
    }
   ],
   "source": [
    "t= a *300\n",
    "print(t)"
   ]
  },
  {
   "cell_type": "code",
   "execution_count": 18,
   "id": "aefcb2a8",
   "metadata": {},
   "outputs": [],
   "source": [
    "a = 10"
   ]
  },
  {
   "cell_type": "code",
   "execution_count": 19,
   "id": "15b240c1",
   "metadata": {},
   "outputs": [
    {
     "ename": "SyntaxError",
     "evalue": "invalid syntax (489660369.py, line 1)",
     "output_type": "error",
     "traceback": [
      "\u001b[1;36m  Input \u001b[1;32mIn [19]\u001b[1;36m\u001b[0m\n\u001b[1;33m    if a<5\u001b[0m\n\u001b[1;37m          ^\u001b[0m\n\u001b[1;31mSyntaxError\u001b[0m\u001b[1;31m:\u001b[0m invalid syntax\n"
     ]
    }
   ],
   "source": [
    "if a<5"
   ]
  },
  {
   "cell_type": "code",
   "execution_count": 20,
   "id": "8530dbcb",
   "metadata": {},
   "outputs": [
    {
     "data": {
      "text/plain": [
       "False"
      ]
     },
     "execution_count": 20,
     "metadata": {},
     "output_type": "execute_result"
    }
   ],
   "source": [
    "a <5"
   ]
  },
  {
   "cell_type": "code",
   "execution_count": 22,
   "id": "f8d99f7f",
   "metadata": {},
   "outputs": [
    {
     "name": "stdout",
     "output_type": "stream",
     "text": [
      "Prasanth\n"
     ]
    }
   ],
   "source": [
    "if a<5:\n",
    "    pass\n",
    "print (\"Prasanth\")"
   ]
  },
  {
   "cell_type": "code",
   "execution_count": 23,
   "id": "e39035c2",
   "metadata": {},
   "outputs": [
    {
     "name": "stdout",
     "output_type": "stream",
     "text": [
      "Prasanth\n"
     ]
    }
   ],
   "source": [
    "if a<5:\n",
    "    stop\n",
    "print (\"Prasanth\")"
   ]
  },
  {
   "cell_type": "code",
   "execution_count": 26,
   "id": "1771ccfe",
   "metadata": {},
   "outputs": [
    {
     "ename": "IndentationError",
     "evalue": "expected an indented block (169053612.py, line 3)",
     "output_type": "error",
     "traceback": [
      "\u001b[1;36m  Input \u001b[1;32mIn [26]\u001b[1;36m\u001b[0m\n\u001b[1;33m    print (\"Prasanth\")\u001b[0m\n\u001b[1;37m    ^\u001b[0m\n\u001b[1;31mIndentationError\u001b[0m\u001b[1;31m:\u001b[0m expected an indented block\n"
     ]
    }
   ],
   "source": [
    "if a<5:\n",
    "    \n",
    "print (\"Prasanth\")"
   ]
  },
  {
   "cell_type": "code",
   "execution_count": 3,
   "id": "d952fc86",
   "metadata": {},
   "outputs": [
    {
     "name": "stdout",
     "output_type": "stream",
     "text": [
      "Prasanth\n"
     ]
    }
   ],
   "source": [
    "a=10\n",
    "if a>5:\n",
    "    print (\"Prasanth\")"
   ]
  },
  {
   "cell_type": "code",
   "execution_count": 1,
   "id": "f034e9ca",
   "metadata": {},
   "outputs": [],
   "source": [
    "a=10\n",
    "if a<5:\n",
    "    print (\"Prasanth\")"
   ]
  },
  {
   "cell_type": "code",
   "execution_count": 3,
   "id": "d36c63dd",
   "metadata": {},
   "outputs": [
    {
     "name": "stdout",
     "output_type": "stream",
     "text": [
      "1\n",
      "2\n",
      "3\n",
      "4\n"
     ]
    }
   ],
   "source": [
    "a=1\n",
    "while a<5:\n",
    "    print(a)\n",
    "    a=a+1\n",
    "    continue"
   ]
  },
  {
   "cell_type": "code",
   "execution_count": 5,
   "id": "1ea97412",
   "metadata": {},
   "outputs": [
    {
     "name": "stdout",
     "output_type": "stream",
     "text": [
      "1\n",
      "2\n",
      "3\n",
      "4\n"
     ]
    }
   ],
   "source": [
    "a=1\n",
    "while a<=9:\n",
    "    print(a)\n",
    "    a=a+1\n",
    "    if a == 5:\n",
    "        break"
   ]
  },
  {
   "cell_type": "code",
   "execution_count": 6,
   "id": "001d943d",
   "metadata": {},
   "outputs": [
    {
     "data": {
      "text/plain": [
       "[3, 2, 1, 0, -1, -2, -3, -4, -5, -6, -7, -8, -9]"
      ]
     },
     "execution_count": 6,
     "metadata": {},
     "output_type": "execute_result"
    }
   ],
   "source": [
    "list(range(3,-10,-1))"
   ]
  },
  {
   "cell_type": "code",
   "execution_count": 7,
   "id": "d857beff",
   "metadata": {},
   "outputs": [
    {
     "data": {
      "text/plain": [
       "[]"
      ]
     },
     "execution_count": 7,
     "metadata": {},
     "output_type": "execute_result"
    }
   ],
   "source": [
    "list(range(3,10,-1))"
   ]
  },
  {
   "cell_type": "code",
   "execution_count": 20,
   "id": "ecccf3a0",
   "metadata": {},
   "outputs": [
    {
     "name": "stdout",
     "output_type": "stream",
     "text": [
      "Range \n",
      "Range \n",
      "Range \n",
      "Range \n",
      "Range \n",
      "Range \n",
      "Range \n",
      "Range \n",
      "Range \n",
      "Range \n",
      "\n"
     ]
    }
   ],
   "source": [
    "print('Range \\n' *10)"
   ]
  },
  {
   "cell_type": "code",
   "execution_count": 18,
   "id": "449a49e0",
   "metadata": {},
   "outputs": [
    {
     "name": "stdout",
     "output_type": "stream",
     "text": [
      "*\r\n",
      "**\r\n",
      "***\r\n",
      "****\r\n",
      "*****\r\n"
     ]
    }
   ],
   "source": [
    "n=5\n",
    "for i in range(0,n):\n",
    "    for j in range(0,i+1):\n",
    "        print('*', end ='')\n",
    "    print('\\r')"
   ]
  },
  {
   "cell_type": "code",
   "execution_count": 26,
   "id": "b779b145",
   "metadata": {},
   "outputs": [
    {
     "data": {
      "text/plain": [
       "[7, 6, 5, 4, 3, 2, 1]"
      ]
     },
     "execution_count": 26,
     "metadata": {},
     "output_type": "execute_result"
    }
   ],
   "source": [
    "t=(3,4,4,53,32,2,1)\n",
    "list(range(len(t),0,-1))"
   ]
  },
  {
   "cell_type": "code",
   "execution_count": 27,
   "id": "1835a177",
   "metadata": {},
   "outputs": [
    {
     "ename": "IndexError",
     "evalue": "tuple index out of range",
     "output_type": "error",
     "traceback": [
      "\u001b[1;31m---------------------------------------------------------------------------\u001b[0m",
      "\u001b[1;31mIndexError\u001b[0m                                Traceback (most recent call last)",
      "Input \u001b[1;32mIn [27]\u001b[0m, in \u001b[0;36m<cell line: 1>\u001b[1;34m()\u001b[0m\n\u001b[0;32m      1\u001b[0m \u001b[38;5;28;01mfor\u001b[39;00m i \u001b[38;5;129;01min\u001b[39;00m \u001b[38;5;28mrange\u001b[39m(\u001b[38;5;28mlen\u001b[39m(t),\u001b[38;5;241m0\u001b[39m,\u001b[38;5;241m-\u001b[39m\u001b[38;5;241m1\u001b[39m):\n\u001b[1;32m----> 2\u001b[0m     \u001b[38;5;28mprint\u001b[39m(\u001b[43mt\u001b[49m\u001b[43m[\u001b[49m\u001b[43mi\u001b[49m\u001b[43m]\u001b[49m)\n",
      "\u001b[1;31mIndexError\u001b[0m: tuple index out of range"
     ]
    }
   ],
   "source": [
    "for i in range(len(t),0,-1):\n",
    "    print(t[i])"
   ]
  },
  {
   "cell_type": "code",
   "execution_count": 30,
   "id": "b8a55fb0",
   "metadata": {},
   "outputs": [
    {
     "name": "stdout",
     "output_type": "stream",
     "text": [
      "1\n",
      "2\n",
      "32\n",
      "53\n",
      "4\n",
      "4\n"
     ]
    }
   ],
   "source": [
    "for i in range(len(t)-1,0,-1):\n",
    "    print(t[i])"
   ]
  },
  {
   "cell_type": "code",
   "execution_count": 31,
   "id": "aacf7ccf",
   "metadata": {},
   "outputs": [
    {
     "name": "stdout",
     "output_type": "stream",
     "text": [
      "1\n",
      "2\n",
      "32\n",
      "53\n",
      "4\n",
      "4\n",
      "3\n"
     ]
    }
   ],
   "source": [
    "for i in range(len(t)-1,-1,-1):\n",
    "    print(t[i])"
   ]
  },
  {
   "cell_type": "code",
   "execution_count": 35,
   "id": "5780ab07",
   "metadata": {},
   "outputs": [
    {
     "name": "stdout",
     "output_type": "stream",
     "text": [
      "finction function function function  \n",
      "finction function function function  \n",
      "finction function function function  \n",
      "finction function function function  \n",
      "finction function function function  \n",
      "finction function function function  \n",
      "finction function function function  \n",
      "finction function function function  \n",
      "finction function function function  \n",
      "finction function function function  \n",
      "finction function function function  \n",
      "finction function function function  \n",
      "finction function function function  \n",
      "finction function function function  \n",
      "finction function function function  \n",
      "finction function function function  \n",
      "finction function function function  \n",
      "finction function function function  \n",
      "finction function function function  \n",
      "finction function function function  \n",
      "finction function function function  \n",
      "finction function function function  \n",
      "finction function function function  \n",
      "finction function function function  \n",
      "finction function function function  \n",
      "finction function function function  \n",
      "finction function function function  \n",
      "finction function function function  \n",
      "finction function function function  \n",
      "finction function function function  \n",
      "finction function function function  \n",
      "finction function function function  \n",
      "finction function function function  \n",
      "finction function function function  \n",
      "finction function function function  \n",
      "finction function function function  \n",
      "finction function function function  \n",
      "finction function function function  \n",
      "finction function function function  \n",
      "finction function function function  \n",
      "finction function function function  \n",
      "finction function function function  \n",
      "finction function function function  \n",
      "finction function function function  \n",
      "finction function function function  \n",
      "finction function function function  \n",
      "finction function function function  \n",
      "finction function function function  \n",
      "finction function function function  \n",
      "finction function function function  \n",
      "finction function function function  \n",
      "finction function function function  \n",
      "finction function function function  \n",
      "finction function function function  \n",
      "finction function function function  \n",
      "finction function function function  \n",
      "finction function function function  \n",
      "finction function function function  \n",
      "finction function function function  \n",
      "finction function function function  \n",
      "finction function function function  \n",
      "finction function function function  \n",
      "finction function function function  \n",
      "finction function function function  \n",
      "finction function function function  \n",
      "finction function function function  \n",
      "finction function function function  \n",
      "finction function function function  \n",
      "finction function function function  \n",
      "finction function function function  \n",
      "\n"
     ]
    }
   ],
   "source": [
    "print('finction function function function  \\n' * 70)"
   ]
  },
  {
   "cell_type": "code",
   "execution_count": 36,
   "id": "4ce5923b",
   "metadata": {},
   "outputs": [],
   "source": [
    "a = \"Prasanth\""
   ]
  },
  {
   "cell_type": "code",
   "execution_count": 37,
   "id": "5bf9756b",
   "metadata": {},
   "outputs": [
    {
     "data": {
      "text/plain": [
       "8"
      ]
     },
     "execution_count": 37,
     "metadata": {},
     "output_type": "execute_result"
    }
   ],
   "source": [
    "len(a)"
   ]
  },
  {
   "cell_type": "code",
   "execution_count": null,
   "id": "c949cdb1",
   "metadata": {},
   "outputs": [],
   "source": [
    "#in python if we want to use functions need to use def function"
   ]
  },
  {
   "cell_type": "code",
   "execution_count": 38,
   "id": "f274cfd3",
   "metadata": {},
   "outputs": [],
   "source": [
    "def test():\n",
    "    Pass"
   ]
  },
  {
   "cell_type": "code",
   "execution_count": 39,
   "id": "edc06bcb",
   "metadata": {},
   "outputs": [],
   "source": [
    "def test1():\n",
    "    print(\"My name is prasanth kumar\")"
   ]
  },
  {
   "cell_type": "code",
   "execution_count": 40,
   "id": "3c2903c0",
   "metadata": {},
   "outputs": [
    {
     "name": "stdout",
     "output_type": "stream",
     "text": [
      "My name is prasanth kumar\n"
     ]
    }
   ],
   "source": [
    "test1() # this is called call of function"
   ]
  },
  {
   "cell_type": "code",
   "execution_count": 41,
   "id": "ebecffa5",
   "metadata": {},
   "outputs": [
    {
     "name": "stdout",
     "output_type": "stream",
     "text": [
      "My name is prasanth kumar\n"
     ]
    }
   ],
   "source": [
    "b = test1()"
   ]
  },
  {
   "cell_type": "code",
   "execution_count": 44,
   "id": "ab55e139",
   "metadata": {},
   "outputs": [],
   "source": [
    "b"
   ]
  },
  {
   "cell_type": "code",
   "execution_count": 45,
   "id": "c2f2fe13",
   "metadata": {},
   "outputs": [
    {
     "name": "stdout",
     "output_type": "stream",
     "text": [
      "None\n"
     ]
    }
   ],
   "source": [
    "print(b)"
   ]
  },
  {
   "cell_type": "code",
   "execution_count": 46,
   "id": "a36b2442",
   "metadata": {},
   "outputs": [
    {
     "data": {
      "text/plain": [
       "NoneType"
      ]
     },
     "execution_count": 46,
     "metadata": {},
     "output_type": "execute_result"
    }
   ],
   "source": [
    "type(b)"
   ]
  },
  {
   "cell_type": "code",
   "execution_count": 47,
   "id": "f150ec9b",
   "metadata": {},
   "outputs": [
    {
     "name": "stdout",
     "output_type": "stream",
     "text": [
      "My name is prasanth kumar\n"
     ]
    }
   ],
   "source": [
    "b = test1()"
   ]
  },
  {
   "cell_type": "code",
   "execution_count": 48,
   "id": "e5eaa12b",
   "metadata": {},
   "outputs": [
    {
     "data": {
      "text/plain": [
       "NoneType"
      ]
     },
     "execution_count": 48,
     "metadata": {},
     "output_type": "execute_result"
    }
   ],
   "source": [
    "type(b)"
   ]
  },
  {
   "cell_type": "code",
   "execution_count": 51,
   "id": "3ae47ddb",
   "metadata": {},
   "outputs": [],
   "source": [
    "def test3():\n",
    "    return 13"
   ]
  },
  {
   "cell_type": "code",
   "execution_count": 52,
   "id": "dbaced2e",
   "metadata": {},
   "outputs": [
    {
     "data": {
      "text/plain": [
       "13"
      ]
     },
     "execution_count": 52,
     "metadata": {},
     "output_type": "execute_result"
    }
   ],
   "source": [
    "test3()"
   ]
  },
  {
   "cell_type": "code",
   "execution_count": 53,
   "id": "173e39e7",
   "metadata": {},
   "outputs": [],
   "source": [
    "def test4():\n",
    "    print('Prasanth')"
   ]
  },
  {
   "cell_type": "code",
   "execution_count": 54,
   "id": "14129f36",
   "metadata": {},
   "outputs": [
    {
     "name": "stdout",
     "output_type": "stream",
     "text": [
      "Prasanth\n"
     ]
    }
   ],
   "source": [
    "#Pleasse observe the difference\n",
    "test4()"
   ]
  },
  {
   "cell_type": "code",
   "execution_count": 55,
   "id": "46fc72e9",
   "metadata": {},
   "outputs": [
    {
     "name": "stdout",
     "output_type": "stream",
     "text": [
      "Prasanth\n"
     ]
    },
    {
     "ename": "TypeError",
     "evalue": "unsupported operand type(s) for +: 'NoneType' and 'str'",
     "output_type": "error",
     "traceback": [
      "\u001b[1;31m---------------------------------------------------------------------------\u001b[0m",
      "\u001b[1;31mTypeError\u001b[0m                                 Traceback (most recent call last)",
      "Input \u001b[1;32mIn [55]\u001b[0m, in \u001b[0;36m<cell line: 1>\u001b[1;34m()\u001b[0m\n\u001b[1;32m----> 1\u001b[0m \u001b[43mtest4\u001b[49m\u001b[43m(\u001b[49m\u001b[43m)\u001b[49m\u001b[38;5;241;43m+\u001b[39;49m\u001b[38;5;124;43m\"\u001b[39;49m\u001b[38;5;124;43mKumar\u001b[39;49m\u001b[38;5;124;43m\"\u001b[39;49m\n",
      "\u001b[1;31mTypeError\u001b[0m: unsupported operand type(s) for +: 'NoneType' and 'str'"
     ]
    }
   ],
   "source": [
    "test4()+\"Kumar\""
   ]
  },
  {
   "cell_type": "code",
   "execution_count": 56,
   "id": "bb4c5913",
   "metadata": {},
   "outputs": [],
   "source": [
    "def test5():\n",
    "    return \"Prasanth\""
   ]
  },
  {
   "cell_type": "code",
   "execution_count": 58,
   "id": "dcd51d46",
   "metadata": {},
   "outputs": [
    {
     "data": {
      "text/plain": [
       "'Prasanth Kumar'"
      ]
     },
     "execution_count": 58,
     "metadata": {},
     "output_type": "execute_result"
    }
   ],
   "source": [
    "test5()+\" Kumar\""
   ]
  },
  {
   "cell_type": "code",
   "execution_count": 59,
   "id": "4aecceea",
   "metadata": {},
   "outputs": [],
   "source": [
    "#Please observe difference"
   ]
  },
  {
   "cell_type": "code",
   "execution_count": 62,
   "id": "04addc2d",
   "metadata": {},
   "outputs": [],
   "source": [
    "#jan 18 I performed\n",
    "def test1():\n",
    "    return 1,(1+2j),'assdljkajb','ajb',23,34"
   ]
  },
  {
   "cell_type": "code",
   "execution_count": 63,
   "id": "51e7094e",
   "metadata": {},
   "outputs": [],
   "source": [
    "a,b,c,d,e,f=test1()"
   ]
  },
  {
   "cell_type": "code",
   "execution_count": 64,
   "id": "65944bba",
   "metadata": {},
   "outputs": [
    {
     "data": {
      "text/plain": [
       "1"
      ]
     },
     "execution_count": 64,
     "metadata": {},
     "output_type": "execute_result"
    }
   ],
   "source": [
    "a"
   ]
  },
  {
   "cell_type": "code",
   "execution_count": 65,
   "id": "971fc034",
   "metadata": {},
   "outputs": [
    {
     "data": {
      "text/plain": [
       "(1+2j)"
      ]
     },
     "execution_count": 65,
     "metadata": {},
     "output_type": "execute_result"
    }
   ],
   "source": [
    "b"
   ]
  },
  {
   "cell_type": "code",
   "execution_count": 66,
   "id": "98b973e0",
   "metadata": {},
   "outputs": [
    {
     "data": {
      "text/plain": [
       "'assdljkajb'"
      ]
     },
     "execution_count": 66,
     "metadata": {},
     "output_type": "execute_result"
    }
   ],
   "source": [
    "c"
   ]
  },
  {
   "cell_type": "code",
   "execution_count": 67,
   "id": "ac237605",
   "metadata": {},
   "outputs": [
    {
     "data": {
      "text/plain": [
       "'ajb'"
      ]
     },
     "execution_count": 67,
     "metadata": {},
     "output_type": "execute_result"
    }
   ],
   "source": [
    "d"
   ]
  },
  {
   "cell_type": "code",
   "execution_count": 68,
   "id": "4cdcd354",
   "metadata": {},
   "outputs": [
    {
     "data": {
      "text/plain": [
       "23"
      ]
     },
     "execution_count": 68,
     "metadata": {},
     "output_type": "execute_result"
    }
   ],
   "source": [
    "e"
   ]
  },
  {
   "cell_type": "code",
   "execution_count": 69,
   "id": "6b18794e",
   "metadata": {},
   "outputs": [
    {
     "data": {
      "text/plain": [
       "34"
      ]
     },
     "execution_count": 69,
     "metadata": {},
     "output_type": "execute_result"
    }
   ],
   "source": [
    "f"
   ]
  },
  {
   "cell_type": "code",
   "execution_count": 96,
   "id": "94215272",
   "metadata": {},
   "outputs": [],
   "source": [
    "def count():\n",
    "    i = [1,2,3,4,5,6,7,8,9]\n",
    "    a = 1\n",
    "    for I in i:\n",
    "        print(f\"{a}+{I}=\",(a))\n",
    "        a = a +I\n",
    "    return a"
   ]
  },
  {
   "cell_type": "code",
   "execution_count": 97,
   "id": "739bfcf8",
   "metadata": {},
   "outputs": [
    {
     "name": "stdout",
     "output_type": "stream",
     "text": [
      "1+1= 1\n",
      "2+2= 2\n",
      "4+3= 4\n",
      "7+4= 7\n",
      "11+5= 11\n",
      "16+6= 16\n",
      "22+7= 22\n",
      "29+8= 29\n",
      "37+9= 37\n"
     ]
    },
    {
     "data": {
      "text/plain": [
       "46"
      ]
     },
     "execution_count": 97,
     "metadata": {},
     "output_type": "execute_result"
    }
   ],
   "source": [
    "count()"
   ]
  },
  {
   "cell_type": "code",
   "execution_count": 101,
   "id": "c83b7043",
   "metadata": {},
   "outputs": [],
   "source": [
    "def count1():\n",
    "    i = [1,2,3,4,5,6,7,8,9]\n",
    "    a = 1\n",
    "    for I in i:\n",
    "        print(f\"{a}+{I}=\",a)\n",
    "        a = a +I"
   ]
  },
  {
   "cell_type": "code",
   "execution_count": 102,
   "id": "b0f2cca3",
   "metadata": {},
   "outputs": [
    {
     "name": "stdout",
     "output_type": "stream",
     "text": [
      "1+1= 1\n",
      "2+2= 2\n",
      "4+3= 4\n",
      "7+4= 7\n",
      "11+5= 11\n",
      "16+6= 16\n",
      "22+7= 22\n",
      "29+8= 29\n",
      "37+9= 37\n"
     ]
    }
   ],
   "source": [
    "count1()"
   ]
  },
  {
   "cell_type": "code",
   "execution_count": 103,
   "id": "a1f34e6c",
   "metadata": {},
   "outputs": [],
   "source": [
    "def test2():\n",
    "    i = [1,2,3,4,5,6,7,8,9]\n",
    "    a = 1\n",
    "    for I in i:\n",
    "        a = a +I\n",
    "    return a"
   ]
  },
  {
   "cell_type": "code",
   "execution_count": 104,
   "id": "7ac83c8b",
   "metadata": {},
   "outputs": [
    {
     "data": {
      "text/plain": [
       "46"
      ]
     },
     "execution_count": 104,
     "metadata": {},
     "output_type": "execute_result"
    }
   ],
   "source": [
    "test2()"
   ]
  },
  {
   "cell_type": "code",
   "execution_count": 106,
   "id": "6584a839",
   "metadata": {},
   "outputs": [],
   "source": [
    "def test3():\n",
    "    i = [1,2,3,4,5,6,7,8,9,\"Prasanth\"]\n",
    "    a = 1\n",
    "    for I in i:\n",
    "        a = a +I\n",
    "    return a"
   ]
  },
  {
   "cell_type": "code",
   "execution_count": 107,
   "id": "77f9dcf3",
   "metadata": {},
   "outputs": [
    {
     "ename": "TypeError",
     "evalue": "unsupported operand type(s) for +: 'int' and 'str'",
     "output_type": "error",
     "traceback": [
      "\u001b[1;31m---------------------------------------------------------------------------\u001b[0m",
      "\u001b[1;31mTypeError\u001b[0m                                 Traceback (most recent call last)",
      "Input \u001b[1;32mIn [107]\u001b[0m, in \u001b[0;36m<cell line: 1>\u001b[1;34m()\u001b[0m\n\u001b[1;32m----> 1\u001b[0m \u001b[43mtest3\u001b[49m\u001b[43m(\u001b[49m\u001b[43m)\u001b[49m\n",
      "Input \u001b[1;32mIn [106]\u001b[0m, in \u001b[0;36mtest3\u001b[1;34m()\u001b[0m\n\u001b[0;32m      3\u001b[0m a \u001b[38;5;241m=\u001b[39m \u001b[38;5;241m1\u001b[39m\n\u001b[0;32m      4\u001b[0m \u001b[38;5;28;01mfor\u001b[39;00m I \u001b[38;5;129;01min\u001b[39;00m i:\n\u001b[1;32m----> 5\u001b[0m     a \u001b[38;5;241m=\u001b[39m \u001b[43ma\u001b[49m\u001b[43m \u001b[49m\u001b[38;5;241;43m+\u001b[39;49m\u001b[43mI\u001b[49m\n\u001b[0;32m      6\u001b[0m \u001b[38;5;28;01mreturn\u001b[39;00m a\n",
      "\u001b[1;31mTypeError\u001b[0m: unsupported operand type(s) for +: 'int' and 'str'"
     ]
    }
   ],
   "source": [
    "test3()"
   ]
  },
  {
   "cell_type": "code",
   "execution_count": 121,
   "id": "6f35cf4c",
   "metadata": {},
   "outputs": [],
   "source": [
    "def test4():\n",
    "    i = [1,2,3,4,5,6,7,8,9,\"Prasanth\"]\n",
    "    a = 1\n",
    "    for I in i:\n",
    "        if type(I) == int:\n",
    "            a = a +I\n",
    "    return a"
   ]
  },
  {
   "cell_type": "code",
   "execution_count": 122,
   "id": "74597040",
   "metadata": {},
   "outputs": [
    {
     "data": {
      "text/plain": [
       "46"
      ]
     },
     "execution_count": 122,
     "metadata": {},
     "output_type": "execute_result"
    }
   ],
   "source": [
    "test4()"
   ]
  },
  {
   "cell_type": "code",
   "execution_count": 162,
   "id": "c1f9c909",
   "metadata": {},
   "outputs": [
    {
     "name": "stdout",
     "output_type": "stream",
     "text": [
      "********************Observe this***************\n",
      "********************Observe this***************\n",
      "********************Observe this***************\n",
      "********************Observe this***************\n",
      "********************Observe this***************\n",
      "********************Observe this***************\n",
      "********************Observe this***************\n",
      "********************Observe this***************\n",
      "********************Observe this***************\n",
      "********************Observe this***************\n",
      "\n"
     ]
    }
   ],
   "source": [
    "print(\"********************Observe this***************\\n\" *10)"
   ]
  },
  {
   "cell_type": "code",
   "execution_count": 149,
   "id": "526a3e1b",
   "metadata": {},
   "outputs": [],
   "source": [
    "I1=[1,2,23,3,34,'kumar',343,34.34,34.34,45.545]"
   ]
  },
  {
   "cell_type": "code",
   "execution_count": 150,
   "id": "4f6c52f3",
   "metadata": {},
   "outputs": [],
   "source": [
    "I2=[1,2,3,4,5,6,7,8,9,10,\"Prasanth\"]"
   ]
  },
  {
   "cell_type": "code",
   "execution_count": 151,
   "id": "03d56c92",
   "metadata": {},
   "outputs": [],
   "source": [
    "I3=[1,2,3,4,5,6,7,8,9,10,11,\"Prasanth\"]"
   ]
  },
  {
   "cell_type": "code",
   "execution_count": 152,
   "id": "1f6a614e",
   "metadata": {},
   "outputs": [],
   "source": [
    "def test5(I):\n",
    "    a = 0\n",
    "    for I in I:\n",
    "        if type(I) == int:\n",
    "            a = a +I\n",
    "    return a"
   ]
  },
  {
   "cell_type": "code",
   "execution_count": 153,
   "id": "1053a7ae",
   "metadata": {},
   "outputs": [
    {
     "data": {
      "text/plain": [
       "66"
      ]
     },
     "execution_count": 153,
     "metadata": {},
     "output_type": "execute_result"
    }
   ],
   "source": [
    "test5(I3)"
   ]
  },
  {
   "cell_type": "code",
   "execution_count": 154,
   "id": "7b434b08",
   "metadata": {},
   "outputs": [
    {
     "data": {
      "text/plain": [
       "55"
      ]
     },
     "execution_count": 154,
     "metadata": {},
     "output_type": "execute_result"
    }
   ],
   "source": [
    "test5(I2)"
   ]
  },
  {
   "cell_type": "code",
   "execution_count": 155,
   "id": "5bab9060",
   "metadata": {},
   "outputs": [
    {
     "data": {
      "text/plain": [
       "406"
      ]
     },
     "execution_count": 155,
     "metadata": {},
     "output_type": "execute_result"
    }
   ],
   "source": [
    "test5(I1)"
   ]
  },
  {
   "cell_type": "code",
   "execution_count": 158,
   "id": "3c0adc89",
   "metadata": {},
   "outputs": [],
   "source": [
    "def test6(a,b):\n",
    "    return a+b"
   ]
  },
  {
   "cell_type": "markdown",
   "id": "d31bef8a",
   "metadata": {},
   "source": [
    "test6(2,3)"
   ]
  },
  {
   "cell_type": "code",
   "execution_count": 178,
   "id": "ebe19dc9",
   "metadata": {},
   "outputs": [
    {
     "data": {
      "text/plain": [
       "5"
      ]
     },
     "execution_count": 178,
     "metadata": {},
     "output_type": "execute_result"
    }
   ],
   "source": [
    "test6(2,3)"
   ]
  },
  {
   "cell_type": "code",
   "execution_count": 179,
   "id": "a33e9649",
   "metadata": {},
   "outputs": [
    {
     "data": {
      "text/plain": [
       "'1. write a function which will try to find out len of a string without using an inbuilt len function \\n2. write a function which  will be able to print an index of list element without using an index function\\n3. write a function which will be able to print an ip address of your system\\n4. write a function which will shutdown your system\\n5. write a function which will take input as a list with any kind of numeric value and give an out as a multiplication of \\nall the numeric data l = [3.5, 6.56, 4,5,\"sudh\" , \"ineuron\" , \\'fsda bootcamp 2.0\\']\\n6. write a function which will be able to read all the mails \\n7 . write a function which will be able to send a mail to anyone \\n8. write a function which will be able to read a doc/word file from your system '"
      ]
     },
     "execution_count": 179,
     "metadata": {},
     "output_type": "execute_result"
    }
   ],
   "source": [
    "'''1. write a function which will try to find out len of a string without using an inbuilt len function \n",
    "2. write a function which  will be able to print an index of list element without using an index function\n",
    "3. write a function which will be able to print an ip address of your system\n",
    "4. write a function which will shutdown your system\n",
    "5. write a function which will take input as a list with any kind of numeric value and give an out as a multiplication of \n",
    "all the numeric data l = [3.5, 6.56, 4,5,\"sudh\" , \"ineuron\" , 'fsda bootcamp 2.0']\n",
    "6. write a function which will be able to read all the mails \n",
    "7 . write a function which will be able to send a mail to anyone \n",
    "8. write a function which will be able to read a doc/word file from your system '''"
   ]
  },
  {
   "cell_type": "code",
   "execution_count": 185,
   "id": "d0cf4b1b",
   "metadata": {},
   "outputs": [
    {
     "ename": "TypeError",
     "evalue": "'str' object is not callable",
     "output_type": "error",
     "traceback": [
      "\u001b[1;31m---------------------------------------------------------------------------\u001b[0m",
      "\u001b[1;31mTypeError\u001b[0m                                 Traceback (most recent call last)",
      "Input \u001b[1;32mIn [185]\u001b[0m, in \u001b[0;36m<cell line: 1>\u001b[1;34m()\u001b[0m\n\u001b[1;32m----> 1\u001b[0m A \u001b[38;5;241m=\u001b[39m \u001b[38;5;28mint\u001b[39m(\u001b[38;5;28;43minput\u001b[39;49m\u001b[43m(\u001b[49m\u001b[38;5;124;43m'\u001b[39;49m\u001b[38;5;124;43mEnter your number\u001b[39;49m\u001b[38;5;124;43m'\u001b[39;49m\u001b[43m)\u001b[49m)\n\u001b[0;32m      2\u001b[0m \u001b[38;5;28mprint\u001b[39m (a)\n",
      "\u001b[1;31mTypeError\u001b[0m: 'str' object is not callable"
     ]
    }
   ],
   "source": [
    "A = int(input('Enter your number'))\n",
    "print (a)"
   ]
  },
  {
   "cell_type": "code",
   "execution_count": 167,
   "id": "fa377023",
   "metadata": {},
   "outputs": [
    {
     "ename": "NameError",
     "evalue": "name 'sdfs' is not defined",
     "output_type": "error",
     "traceback": [
      "\u001b[1;31m---------------------------------------------------------------------------\u001b[0m",
      "\u001b[1;31mNameError\u001b[0m                                 Traceback (most recent call last)",
      "Input \u001b[1;32mIn [167]\u001b[0m, in \u001b[0;36m<cell line: 1>\u001b[1;34m()\u001b[0m\n\u001b[1;32m----> 1\u001b[0m \u001b[43msdfs\u001b[49m\n",
      "\u001b[1;31mNameError\u001b[0m: name 'sdfs' is not defined"
     ]
    }
   ],
   "source": []
  },
  {
   "cell_type": "code",
   "execution_count": 186,
   "id": "34c03992",
   "metadata": {},
   "outputs": [],
   "source": [
    "#1. write a function which will try to find out len of a string without using an inbuilt len function "
   ]
  },
  {
   "cell_type": "code",
   "execution_count": 193,
   "id": "4cd46c41",
   "metadata": {},
   "outputs": [],
   "source": [
    "def length(l):\n",
    "        '''used to fing length of a string'''\n",
    "        count=0\n",
    "        for i in l:\n",
    "            if type(i) == str:\n",
    "                count = count+1\n",
    "        return count"
   ]
  },
  {
   "cell_type": "code",
   "execution_count": 194,
   "id": "94239512",
   "metadata": {},
   "outputs": [
    {
     "data": {
      "text/plain": [
       "8"
      ]
     },
     "execution_count": 194,
     "metadata": {},
     "output_type": "execute_result"
    }
   ],
   "source": [
    "length('Prasanth')"
   ]
  },
  {
   "cell_type": "code",
   "execution_count": 195,
   "id": "7ff3fd4c",
   "metadata": {},
   "outputs": [],
   "source": [
    "#2. write a function which  will be able to print an index of list element without using an index function"
   ]
  },
  {
   "cell_type": "code",
   "execution_count": null,
   "id": "c12ca6a8",
   "metadata": {},
   "outputs": [],
   "source": []
  }
 ],
 "metadata": {
  "kernelspec": {
   "display_name": "Python 3 (ipykernel)",
   "language": "python",
   "name": "python3"
  },
  "language_info": {
   "codemirror_mode": {
    "name": "ipython",
    "version": 3
   },
   "file_extension": ".py",
   "mimetype": "text/x-python",
   "name": "python",
   "nbconvert_exporter": "python",
   "pygments_lexer": "ipython3",
   "version": "3.9.12"
  }
 },
 "nbformat": 4,
 "nbformat_minor": 5
}
